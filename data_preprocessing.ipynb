{
 "cells": [
  {
   "cell_type": "markdown",
   "metadata": {},
   "source": [
    "### Data preprocessing of LinkedIn Job Postings Dataset\n",
    "#### Setup and Library Installation"
   ]
  },
  {
   "cell_type": "code",
   "execution_count": null,
   "metadata": {},
   "outputs": [],
   "source": [
    "# %pip install pandas\n",
    "# %pip install seaborn\n",
    "# %pip install matplotlib\n",
    "# %pip install scipy\n",
    "# %pip install sklearn\n",
    "# %pip install imbalanced-learn "
   ]
  },
  {
   "cell_type": "markdown",
   "metadata": {},
   "source": [
    "#### Library Imports\n",
    "\n"
   ]
  },
  {
   "cell_type": "code",
   "execution_count": 7,
   "metadata": {},
   "outputs": [],
   "source": [
    "import pandas as pd\n",
    "from scipy import stats\n",
    "import numpy as np\n",
    "import matplotlib.pyplot as plt\n",
    "import re\n",
    "from sklearn.model_selection import train_test_split\n",
    "from sklearn.impute import SimpleImputer\n",
    "from imblearn.over_sampling import SMOTE"
   ]
  },
  {
   "cell_type": "markdown",
   "metadata": {},
   "source": [
    "#### Loading Data"
   ]
  },
  {
   "cell_type": "code",
   "execution_count": 64,
   "metadata": {},
   "outputs": [],
   "source": [
    "# Load datasets from the CSV files for analysis.\n",
    "job_postings = pd.read_csv('data/job_postings.csv')\n",
    "job_skills = pd.read_csv('data/job_details/job_skills.csv')\n",
    "\n",
    "companies = pd.read_csv('data/company_details/companies.csv')\n",
    "mapping_skills = pd.read_csv('data/maps/skills.csv')"
   ]
  },
  {
   "cell_type": "markdown",
   "metadata": {},
   "source": [
    "#### Dataset summary"
   ]
  },
  {
   "cell_type": "code",
   "execution_count": 65,
   "metadata": {},
   "outputs": [
    {
     "data": {
      "text/plain": [
       "{'job_postings': 33246, 'job_skills': 32422, 'companies': 11361, 'skills': 35}"
      ]
     },
     "execution_count": 65,
     "metadata": {},
     "output_type": "execute_result"
    }
   ],
   "source": [
    "unique_values = {\n",
    "    'job_postings': job_postings['job_id'].nunique(), # details of job postings\n",
    "    'job_skills': job_skills['job_id'].nunique(), # job posting with the required skill abbreviated\n",
    "    'companies': companies['company_id'].nunique(), # information on the company\n",
    "    'skills': mapping_skills['skill_name'].nunique() # maps between skill abbreviations and full skill names\n",
    "    }\n",
    "unique_values"
   ]
  },
  {
   "cell_type": "markdown",
   "metadata": {},
   "source": [
    "#### Handling the integration of job_skills with mapping_skills\n",
    "Merging job_skills with mapping_skills"
   ]
  },
  {
   "cell_type": "code",
   "execution_count": 66,
   "metadata": {},
   "outputs": [
    {
     "data": {
      "text/html": [
       "<div>\n",
       "<style scoped>\n",
       "    .dataframe tbody tr th:only-of-type {\n",
       "        vertical-align: middle;\n",
       "    }\n",
       "\n",
       "    .dataframe tbody tr th {\n",
       "        vertical-align: top;\n",
       "    }\n",
       "\n",
       "    .dataframe thead th {\n",
       "        text-align: right;\n",
       "    }\n",
       "</style>\n",
       "<table border=\"1\" class=\"dataframe\">\n",
       "  <thead>\n",
       "    <tr style=\"text-align: right;\">\n",
       "      <th></th>\n",
       "      <th>job_id</th>\n",
       "      <th>skill_name</th>\n",
       "    </tr>\n",
       "  </thead>\n",
       "  <tbody>\n",
       "    <tr>\n",
       "      <th>0</th>\n",
       "      <td>3690843087</td>\n",
       "      <td>Accounting/Auditing</td>\n",
       "    </tr>\n",
       "    <tr>\n",
       "      <th>1</th>\n",
       "      <td>3690843087</td>\n",
       "      <td>Finance</td>\n",
       "    </tr>\n",
       "    <tr>\n",
       "      <th>2</th>\n",
       "      <td>3691763971</td>\n",
       "      <td>Management</td>\n",
       "    </tr>\n",
       "    <tr>\n",
       "      <th>3</th>\n",
       "      <td>3691763971</td>\n",
       "      <td>Manufacturing</td>\n",
       "    </tr>\n",
       "    <tr>\n",
       "      <th>4</th>\n",
       "      <td>3691775263</td>\n",
       "      <td>Management</td>\n",
       "    </tr>\n",
       "  </tbody>\n",
       "</table>\n",
       "</div>"
      ],
      "text/plain": [
       "       job_id           skill_name\n",
       "0  3690843087  Accounting/Auditing\n",
       "1  3690843087              Finance\n",
       "2  3691763971           Management\n",
       "3  3691763971        Manufacturing\n",
       "4  3691775263           Management"
      ]
     },
     "execution_count": 66,
     "metadata": {},
     "output_type": "execute_result"
    }
   ],
   "source": [
    "# Merging job_skills with mapping_skills to replace skill_abr with skill_name\n",
    "merged_skills = pd.merge(job_skills, mapping_skills, on='skill_abr', how='left')\n",
    "merged_skills = merged_skills.drop('skill_abr', axis=1)\n",
    "merged_skills.head()"
   ]
  },
  {
   "cell_type": "code",
   "execution_count": 67,
   "metadata": {},
   "outputs": [
    {
     "data": {
      "text/plain": [
       "(56591, 2)"
      ]
     },
     "execution_count": 67,
     "metadata": {},
     "output_type": "execute_result"
    }
   ],
   "source": [
    "merged_skills.shape"
   ]
  },
  {
   "cell_type": "markdown",
   "metadata": {},
   "source": [
    "Aggregating Skills by Job ID"
   ]
  },
  {
   "cell_type": "code",
   "execution_count": 68,
   "metadata": {},
   "outputs": [
    {
     "name": "stdout",
     "output_type": "stream",
     "text": [
      "           job_id                                    skill_name\n",
      "0         3958427  Design, Art/Creative, Information Technology\n",
      "1        85008768                   Sales, Business Development\n",
      "2       102339515                   Business Development, Sales\n",
      "3       108965123                                Administrative\n",
      "4       133114754                   Sales, Business Development\n",
      "...           ...                                           ...\n",
      "32417  3757937095                        Information Technology\n",
      "32418  3757938018                     Management, Manufacturing\n",
      "32419  3757938019                                   Engineering\n",
      "32420  3757940025                     Management, Manufacturing\n",
      "32421  3757940104                                         Other\n",
      "\n",
      "[32422 rows x 2 columns]\n"
     ]
    }
   ],
   "source": [
    "# Aggregation process is done to handle duplicate 'job_id's resulting from multiple skills per job:\n",
    "\n",
    "# Grouping by 'job_id' and concatenating 'skill_name' values\n",
    "grouped_skills = merged_skills.groupby('job_id')['skill_name'].agg(lambda x: ', '.join(x)).reset_index()\n",
    "\n",
    "# Display the resulting DataFrame with unique 'job_id' rows and concatenated skills\n",
    "print(grouped_skills)"
   ]
  },
  {
   "cell_type": "markdown",
   "metadata": {},
   "source": [
    "#### Handling the integration of job_postings with grouped_skills\n",
    "Checking for missing data in Company ID's"
   ]
  },
  {
   "cell_type": "code",
   "execution_count": 69,
   "metadata": {},
   "outputs": [
    {
     "data": {
      "text/plain": [
       "654"
      ]
     },
     "execution_count": 69,
     "metadata": {},
     "output_type": "execute_result"
    }
   ],
   "source": [
    "missing_id = job_postings['company_id'].isnull().sum()\n",
    "missing_id"
   ]
  },
  {
   "cell_type": "markdown",
   "metadata": {},
   "source": [
    "Dropping rows with empty company_id's"
   ]
  },
  {
   "cell_type": "code",
   "execution_count": 70,
   "metadata": {},
   "outputs": [
    {
     "data": {
      "text/plain": [
       "(33246, 28)"
      ]
     },
     "execution_count": 70,
     "metadata": {},
     "output_type": "execute_result"
    }
   ],
   "source": [
    "# Shape of dataset before removing missing values\n",
    "job_postings.shape"
   ]
  },
  {
   "cell_type": "code",
   "execution_count": 15,
   "metadata": {},
   "outputs": [
    {
     "data": {
      "text/plain": [
       "(32592, 28)"
      ]
     },
     "execution_count": 15,
     "metadata": {},
     "output_type": "execute_result"
    }
   ],
   "source": [
    "# Inplace = True operation will modify the DataFrame job_postings in place, and the changes will be applied directly to it \n",
    "# without the need to reassign the result to a new variable.\n",
    "job_postings.dropna(subset=['company_id'], inplace=True)\n",
    "job_postings.shape"
   ]
  },
  {
   "cell_type": "code",
   "execution_count": 71,
   "metadata": {},
   "outputs": [
    {
     "data": {
      "text/plain": [
       "654"
      ]
     },
     "execution_count": 71,
     "metadata": {},
     "output_type": "execute_result"
    }
   ],
   "source": [
    "missing_id = job_postings['company_id'].isnull().sum()\n",
    "missing_id"
   ]
  },
  {
   "cell_type": "markdown",
   "metadata": {},
   "source": [
    "Merging job_postings with grouped_skills"
   ]
  },
  {
   "cell_type": "code",
   "execution_count": 72,
   "metadata": {},
   "outputs": [],
   "source": [
    "merged_job_postings_skills = pd.merge(job_postings, grouped_skills, on='job_id', how='left')"
   ]
  },
  {
   "cell_type": "markdown",
   "metadata": {},
   "source": [
    "Converting company data type to int from float"
   ]
  },
  {
   "cell_type": "code",
   "execution_count": 74,
   "metadata": {},
   "outputs": [],
   "source": [
    "# Because there used to be missing values in company id's, NaN was considered as float value, therefore all data in the column was converted\n",
    "# to float from int\n",
    "if 'company_id' in merged_job_postings_skills.columns:\n",
    "    merged_job_postings_skills['company_id'] = merged_job_postings_skills['company_id'].astype('Int64')"
   ]
  },
  {
   "cell_type": "code",
   "execution_count": 75,
   "metadata": {},
   "outputs": [
    {
     "data": {
      "text/html": [
       "<div>\n",
       "<style scoped>\n",
       "    .dataframe tbody tr th:only-of-type {\n",
       "        vertical-align: middle;\n",
       "    }\n",
       "\n",
       "    .dataframe tbody tr th {\n",
       "        vertical-align: top;\n",
       "    }\n",
       "\n",
       "    .dataframe thead th {\n",
       "        text-align: right;\n",
       "    }\n",
       "</style>\n",
       "<table border=\"1\" class=\"dataframe\">\n",
       "  <thead>\n",
       "    <tr style=\"text-align: right;\">\n",
       "      <th></th>\n",
       "      <th>job_id</th>\n",
       "      <th>company_id</th>\n",
       "      <th>title</th>\n",
       "      <th>description</th>\n",
       "      <th>max_salary</th>\n",
       "      <th>med_salary</th>\n",
       "      <th>min_salary</th>\n",
       "      <th>pay_period</th>\n",
       "      <th>formatted_work_type</th>\n",
       "      <th>location</th>\n",
       "      <th>...</th>\n",
       "      <th>formatted_experience_level</th>\n",
       "      <th>skills_desc</th>\n",
       "      <th>listed_time</th>\n",
       "      <th>posting_domain</th>\n",
       "      <th>sponsored</th>\n",
       "      <th>work_type</th>\n",
       "      <th>currency</th>\n",
       "      <th>compensation_type</th>\n",
       "      <th>scraped</th>\n",
       "      <th>skill_name</th>\n",
       "    </tr>\n",
       "  </thead>\n",
       "  <tbody>\n",
       "    <tr>\n",
       "      <th>0</th>\n",
       "      <td>3757940104</td>\n",
       "      <td>553718</td>\n",
       "      <td>Hearing Care Provider</td>\n",
       "      <td>Overview\\n\\nHearingLife is a national hearing ...</td>\n",
       "      <td>NaN</td>\n",
       "      <td>5250.00</td>\n",
       "      <td>NaN</td>\n",
       "      <td>MONTHLY</td>\n",
       "      <td>Full-time</td>\n",
       "      <td>Little River, SC</td>\n",
       "      <td>...</td>\n",
       "      <td>Entry level</td>\n",
       "      <td>NaN</td>\n",
       "      <td>1.699090e+12</td>\n",
       "      <td>careers-demant.icims.com</td>\n",
       "      <td>0</td>\n",
       "      <td>FULL_TIME</td>\n",
       "      <td>USD</td>\n",
       "      <td>BASE_SALARY</td>\n",
       "      <td>1699138101</td>\n",
       "      <td>Other</td>\n",
       "    </tr>\n",
       "    <tr>\n",
       "      <th>1</th>\n",
       "      <td>3757940025</td>\n",
       "      <td>2192142</td>\n",
       "      <td>Shipping &amp; Receiving Associate 2nd shift (Beav...</td>\n",
       "      <td>Metalcraft of Mayville\\nMetalcraft of Mayville...</td>\n",
       "      <td>NaN</td>\n",
       "      <td>NaN</td>\n",
       "      <td>NaN</td>\n",
       "      <td>NaN</td>\n",
       "      <td>Full-time</td>\n",
       "      <td>Beaver Dam, WI</td>\n",
       "      <td>...</td>\n",
       "      <td>NaN</td>\n",
       "      <td>NaN</td>\n",
       "      <td>1.699080e+12</td>\n",
       "      <td>www.click2apply.net</td>\n",
       "      <td>0</td>\n",
       "      <td>FULL_TIME</td>\n",
       "      <td>NaN</td>\n",
       "      <td>NaN</td>\n",
       "      <td>1699085420</td>\n",
       "      <td>Management, Manufacturing</td>\n",
       "    </tr>\n",
       "    <tr>\n",
       "      <th>2</th>\n",
       "      <td>3757938019</td>\n",
       "      <td>474443</td>\n",
       "      <td>Manager, Engineering</td>\n",
       "      <td>\\nThe TSUBAKI name is synonymous with excellen...</td>\n",
       "      <td>NaN</td>\n",
       "      <td>NaN</td>\n",
       "      <td>NaN</td>\n",
       "      <td>NaN</td>\n",
       "      <td>Full-time</td>\n",
       "      <td>Bessemer, AL</td>\n",
       "      <td>...</td>\n",
       "      <td>NaN</td>\n",
       "      <td>Bachelor's Degree in Mechanical Engineering pr...</td>\n",
       "      <td>1.699080e+12</td>\n",
       "      <td>www.click2apply.net</td>\n",
       "      <td>0</td>\n",
       "      <td>FULL_TIME</td>\n",
       "      <td>NaN</td>\n",
       "      <td>NaN</td>\n",
       "      <td>1699085644</td>\n",
       "      <td>Engineering</td>\n",
       "    </tr>\n",
       "    <tr>\n",
       "      <th>3</th>\n",
       "      <td>3757938018</td>\n",
       "      <td>18213359</td>\n",
       "      <td>Cook</td>\n",
       "      <td>descriptionTitle\\n\\n Looking for a great oppor...</td>\n",
       "      <td>NaN</td>\n",
       "      <td>22.27</td>\n",
       "      <td>NaN</td>\n",
       "      <td>HOURLY</td>\n",
       "      <td>Full-time</td>\n",
       "      <td>Aliso Viejo, CA</td>\n",
       "      <td>...</td>\n",
       "      <td>Entry level</td>\n",
       "      <td>NaN</td>\n",
       "      <td>1.699080e+12</td>\n",
       "      <td>jobs.apploi.com</td>\n",
       "      <td>0</td>\n",
       "      <td>FULL_TIME</td>\n",
       "      <td>USD</td>\n",
       "      <td>BASE_SALARY</td>\n",
       "      <td>1699087461</td>\n",
       "      <td>Management, Manufacturing</td>\n",
       "    </tr>\n",
       "    <tr>\n",
       "      <th>4</th>\n",
       "      <td>3757937095</td>\n",
       "      <td>437225</td>\n",
       "      <td>Principal Cloud Security Architect (Remote)</td>\n",
       "      <td>Job Summary\\nAt iHerb, we are on a mission to ...</td>\n",
       "      <td>275834.0</td>\n",
       "      <td>NaN</td>\n",
       "      <td>205956.0</td>\n",
       "      <td>YEARLY</td>\n",
       "      <td>Full-time</td>\n",
       "      <td>United States</td>\n",
       "      <td>...</td>\n",
       "      <td>Mid-Senior level</td>\n",
       "      <td>NaN</td>\n",
       "      <td>1.699090e+12</td>\n",
       "      <td>careers.iherb.com</td>\n",
       "      <td>0</td>\n",
       "      <td>FULL_TIME</td>\n",
       "      <td>USD</td>\n",
       "      <td>BASE_SALARY</td>\n",
       "      <td>1699085346</td>\n",
       "      <td>Information Technology</td>\n",
       "    </tr>\n",
       "  </tbody>\n",
       "</table>\n",
       "<p>5 rows × 29 columns</p>\n",
       "</div>"
      ],
      "text/plain": [
       "       job_id  company_id                                              title  \\\n",
       "0  3757940104      553718                              Hearing Care Provider   \n",
       "1  3757940025     2192142  Shipping & Receiving Associate 2nd shift (Beav...   \n",
       "2  3757938019      474443                               Manager, Engineering   \n",
       "3  3757938018    18213359                                               Cook   \n",
       "4  3757937095      437225        Principal Cloud Security Architect (Remote)   \n",
       "\n",
       "                                         description  max_salary  med_salary  \\\n",
       "0  Overview\\n\\nHearingLife is a national hearing ...         NaN     5250.00   \n",
       "1  Metalcraft of Mayville\\nMetalcraft of Mayville...         NaN         NaN   \n",
       "2  \\nThe TSUBAKI name is synonymous with excellen...         NaN         NaN   \n",
       "3  descriptionTitle\\n\\n Looking for a great oppor...         NaN       22.27   \n",
       "4  Job Summary\\nAt iHerb, we are on a mission to ...    275834.0         NaN   \n",
       "\n",
       "   min_salary pay_period formatted_work_type          location  ...  \\\n",
       "0         NaN    MONTHLY           Full-time  Little River, SC  ...   \n",
       "1         NaN        NaN           Full-time    Beaver Dam, WI  ...   \n",
       "2         NaN        NaN           Full-time      Bessemer, AL  ...   \n",
       "3         NaN     HOURLY           Full-time   Aliso Viejo, CA  ...   \n",
       "4    205956.0     YEARLY           Full-time     United States  ...   \n",
       "\n",
       "   formatted_experience_level  \\\n",
       "0                 Entry level   \n",
       "1                         NaN   \n",
       "2                         NaN   \n",
       "3                 Entry level   \n",
       "4            Mid-Senior level   \n",
       "\n",
       "                                         skills_desc   listed_time  \\\n",
       "0                                                NaN  1.699090e+12   \n",
       "1                                                NaN  1.699080e+12   \n",
       "2  Bachelor's Degree in Mechanical Engineering pr...  1.699080e+12   \n",
       "3                                                NaN  1.699080e+12   \n",
       "4                                                NaN  1.699090e+12   \n",
       "\n",
       "             posting_domain sponsored  work_type currency  compensation_type  \\\n",
       "0  careers-demant.icims.com         0  FULL_TIME      USD        BASE_SALARY   \n",
       "1       www.click2apply.net         0  FULL_TIME      NaN                NaN   \n",
       "2       www.click2apply.net         0  FULL_TIME      NaN                NaN   \n",
       "3           jobs.apploi.com         0  FULL_TIME      USD        BASE_SALARY   \n",
       "4         careers.iherb.com         0  FULL_TIME      USD        BASE_SALARY   \n",
       "\n",
       "      scraped                 skill_name  \n",
       "0  1699138101                      Other  \n",
       "1  1699085420  Management, Manufacturing  \n",
       "2  1699085644                Engineering  \n",
       "3  1699087461  Management, Manufacturing  \n",
       "4  1699085346     Information Technology  \n",
       "\n",
       "[5 rows x 29 columns]"
      ]
     },
     "execution_count": 75,
     "metadata": {},
     "output_type": "execute_result"
    }
   ],
   "source": [
    "merged_job_postings_skills.head()"
   ]
  },
  {
   "cell_type": "markdown",
   "metadata": {},
   "source": [
    "Reducing dimensionality of merged_job_postings_skills by dropping unnecessary columns"
   ]
  },
  {
   "cell_type": "code",
   "execution_count": 76,
   "metadata": {},
   "outputs": [
    {
     "data": {
      "text/html": [
       "<div>\n",
       "<style scoped>\n",
       "    .dataframe tbody tr th:only-of-type {\n",
       "        vertical-align: middle;\n",
       "    }\n",
       "\n",
       "    .dataframe tbody tr th {\n",
       "        vertical-align: top;\n",
       "    }\n",
       "\n",
       "    .dataframe thead th {\n",
       "        text-align: right;\n",
       "    }\n",
       "</style>\n",
       "<table border=\"1\" class=\"dataframe\">\n",
       "  <thead>\n",
       "    <tr style=\"text-align: right;\">\n",
       "      <th></th>\n",
       "      <th>job_id</th>\n",
       "      <th>company_id</th>\n",
       "      <th>location</th>\n",
       "      <th>formatted_experience_level</th>\n",
       "      <th>skill_name</th>\n",
       "    </tr>\n",
       "  </thead>\n",
       "  <tbody>\n",
       "    <tr>\n",
       "      <th>0</th>\n",
       "      <td>3757940104</td>\n",
       "      <td>553718</td>\n",
       "      <td>Little River, SC</td>\n",
       "      <td>Entry level</td>\n",
       "      <td>Other</td>\n",
       "    </tr>\n",
       "    <tr>\n",
       "      <th>1</th>\n",
       "      <td>3757940025</td>\n",
       "      <td>2192142</td>\n",
       "      <td>Beaver Dam, WI</td>\n",
       "      <td>NaN</td>\n",
       "      <td>Management, Manufacturing</td>\n",
       "    </tr>\n",
       "    <tr>\n",
       "      <th>2</th>\n",
       "      <td>3757938019</td>\n",
       "      <td>474443</td>\n",
       "      <td>Bessemer, AL</td>\n",
       "      <td>NaN</td>\n",
       "      <td>Engineering</td>\n",
       "    </tr>\n",
       "    <tr>\n",
       "      <th>3</th>\n",
       "      <td>3757938018</td>\n",
       "      <td>18213359</td>\n",
       "      <td>Aliso Viejo, CA</td>\n",
       "      <td>Entry level</td>\n",
       "      <td>Management, Manufacturing</td>\n",
       "    </tr>\n",
       "    <tr>\n",
       "      <th>4</th>\n",
       "      <td>3757937095</td>\n",
       "      <td>437225</td>\n",
       "      <td>United States</td>\n",
       "      <td>Mid-Senior level</td>\n",
       "      <td>Information Technology</td>\n",
       "    </tr>\n",
       "  </tbody>\n",
       "</table>\n",
       "</div>"
      ],
      "text/plain": [
       "       job_id  company_id          location formatted_experience_level  \\\n",
       "0  3757940104      553718  Little River, SC                Entry level   \n",
       "1  3757940025     2192142    Beaver Dam, WI                        NaN   \n",
       "2  3757938019      474443      Bessemer, AL                        NaN   \n",
       "3  3757938018    18213359   Aliso Viejo, CA                Entry level   \n",
       "4  3757937095      437225     United States           Mid-Senior level   \n",
       "\n",
       "                  skill_name  \n",
       "0                      Other  \n",
       "1  Management, Manufacturing  \n",
       "2                Engineering  \n",
       "3  Management, Manufacturing  \n",
       "4     Information Technology  "
      ]
     },
     "execution_count": 76,
     "metadata": {},
     "output_type": "execute_result"
    }
   ],
   "source": [
    "columns_to_drop = ['description', 'max_salary','med_salary','min_salary',\n",
    "                   'pay_period', 'applies', 'formatted_work_type', 'remote_allowed',\n",
    "                   'job_posting_url','views','title','application_url','application_type',\n",
    "                   'expiry','skills_desc','posting_domain','sponsored','original_listed_time',\n",
    "                   'work_type','currency','compensation_type','scraped','closed_time','listed_time'\n",
    "                   ]\n",
    "merged_job_postings_skills= merged_job_postings_skills.drop(columns=columns_to_drop,axis=1)\n",
    "merged_job_postings_skills.head()\n"
   ]
  },
  {
   "cell_type": "markdown",
   "metadata": {},
   "source": [
    "#### Handling the integration of merged_job_postings_skills with companies\n",
    "Merging merged_job_postings_skills with companies\n"
   ]
  },
  {
   "cell_type": "code",
   "execution_count": 77,
   "metadata": {},
   "outputs": [
    {
     "data": {
      "text/html": [
       "<div>\n",
       "<style scoped>\n",
       "    .dataframe tbody tr th:only-of-type {\n",
       "        vertical-align: middle;\n",
       "    }\n",
       "\n",
       "    .dataframe tbody tr th {\n",
       "        vertical-align: top;\n",
       "    }\n",
       "\n",
       "    .dataframe thead th {\n",
       "        text-align: right;\n",
       "    }\n",
       "</style>\n",
       "<table border=\"1\" class=\"dataframe\">\n",
       "  <thead>\n",
       "    <tr style=\"text-align: right;\">\n",
       "      <th></th>\n",
       "      <th>job_id</th>\n",
       "      <th>company_id</th>\n",
       "      <th>location</th>\n",
       "      <th>formatted_experience_level</th>\n",
       "      <th>skill_name</th>\n",
       "      <th>name</th>\n",
       "      <th>description</th>\n",
       "      <th>company_size</th>\n",
       "      <th>state</th>\n",
       "      <th>country</th>\n",
       "      <th>city</th>\n",
       "      <th>zip_code</th>\n",
       "      <th>address</th>\n",
       "      <th>url</th>\n",
       "    </tr>\n",
       "  </thead>\n",
       "  <tbody>\n",
       "    <tr>\n",
       "      <th>0</th>\n",
       "      <td>3757940104</td>\n",
       "      <td>553718</td>\n",
       "      <td>Little River, SC</td>\n",
       "      <td>Entry level</td>\n",
       "      <td>Other</td>\n",
       "      <td>HearingLife</td>\n",
       "      <td>HearingLife is a national hearing care company...</td>\n",
       "      <td>5.0</td>\n",
       "      <td>New Jersey</td>\n",
       "      <td>US</td>\n",
       "      <td>Somerset</td>\n",
       "      <td>08873</td>\n",
       "      <td>580 Howard Avenue</td>\n",
       "      <td>https://www.linkedin.com/company/hearing-life</td>\n",
       "    </tr>\n",
       "    <tr>\n",
       "      <th>1</th>\n",
       "      <td>3757940025</td>\n",
       "      <td>2192142</td>\n",
       "      <td>Beaver Dam, WI</td>\n",
       "      <td>NaN</td>\n",
       "      <td>Management, Manufacturing</td>\n",
       "      <td>Metalcraft of Mayville, Inc.</td>\n",
       "      <td>Headquartered in Mayville, Wisconsin, Metalcra...</td>\n",
       "      <td>4.0</td>\n",
       "      <td>WI</td>\n",
       "      <td>US</td>\n",
       "      <td>Mayville</td>\n",
       "      <td>53050</td>\n",
       "      <td>1000 Metalcraft Drive</td>\n",
       "      <td>https://www.linkedin.com/company/metalcraft-of...</td>\n",
       "    </tr>\n",
       "    <tr>\n",
       "      <th>2</th>\n",
       "      <td>3757938019</td>\n",
       "      <td>474443</td>\n",
       "      <td>Bessemer, AL</td>\n",
       "      <td>NaN</td>\n",
       "      <td>Engineering</td>\n",
       "      <td>U.S. Tsubaki Power Transmission, LLC</td>\n",
       "      <td>U.S. Tsubaki Power Transmission, LLC is a subs...</td>\n",
       "      <td>4.0</td>\n",
       "      <td>Illinois</td>\n",
       "      <td>US</td>\n",
       "      <td>Wheeling</td>\n",
       "      <td>60090</td>\n",
       "      <td>301E Marquardt Drive</td>\n",
       "      <td>https://www.linkedin.com/company/u.s.-tsubaki-...</td>\n",
       "    </tr>\n",
       "    <tr>\n",
       "      <th>3</th>\n",
       "      <td>3757938018</td>\n",
       "      <td>18213359</td>\n",
       "      <td>Aliso Viejo, CA</td>\n",
       "      <td>Entry level</td>\n",
       "      <td>Management, Manufacturing</td>\n",
       "      <td>Episcopal Communities &amp; Services</td>\n",
       "      <td>Episcopal Communities &amp; Services (ECS) has bec...</td>\n",
       "      <td>4.0</td>\n",
       "      <td>California</td>\n",
       "      <td>US</td>\n",
       "      <td>Altadena</td>\n",
       "      <td>91001</td>\n",
       "      <td>2212 El Molino Ave</td>\n",
       "      <td>https://www.linkedin.com/company/episcopal-com...</td>\n",
       "    </tr>\n",
       "    <tr>\n",
       "      <th>4</th>\n",
       "      <td>3757937095</td>\n",
       "      <td>437225</td>\n",
       "      <td>United States</td>\n",
       "      <td>Mid-Senior level</td>\n",
       "      <td>Information Technology</td>\n",
       "      <td>iHerb, LLC</td>\n",
       "      <td>iHerb is on a mission to make health and welln...</td>\n",
       "      <td>5.0</td>\n",
       "      <td>California</td>\n",
       "      <td>US</td>\n",
       "      <td>Irvine</td>\n",
       "      <td>92618</td>\n",
       "      <td>17400 Laguna Canyon Rd</td>\n",
       "      <td>https://www.linkedin.com/company/iherb</td>\n",
       "    </tr>\n",
       "  </tbody>\n",
       "</table>\n",
       "</div>"
      ],
      "text/plain": [
       "       job_id  company_id          location formatted_experience_level  \\\n",
       "0  3757940104      553718  Little River, SC                Entry level   \n",
       "1  3757940025     2192142    Beaver Dam, WI                        NaN   \n",
       "2  3757938019      474443      Bessemer, AL                        NaN   \n",
       "3  3757938018    18213359   Aliso Viejo, CA                Entry level   \n",
       "4  3757937095      437225     United States           Mid-Senior level   \n",
       "\n",
       "                  skill_name                                  name  \\\n",
       "0                      Other                           HearingLife   \n",
       "1  Management, Manufacturing          Metalcraft of Mayville, Inc.   \n",
       "2                Engineering  U.S. Tsubaki Power Transmission, LLC   \n",
       "3  Management, Manufacturing      Episcopal Communities & Services   \n",
       "4     Information Technology                            iHerb, LLC   \n",
       "\n",
       "                                         description  company_size  \\\n",
       "0  HearingLife is a national hearing care company...           5.0   \n",
       "1  Headquartered in Mayville, Wisconsin, Metalcra...           4.0   \n",
       "2  U.S. Tsubaki Power Transmission, LLC is a subs...           4.0   \n",
       "3  Episcopal Communities & Services (ECS) has bec...           4.0   \n",
       "4  iHerb is on a mission to make health and welln...           5.0   \n",
       "\n",
       "        state country      city zip_code                 address  \\\n",
       "0  New Jersey      US  Somerset    08873       580 Howard Avenue   \n",
       "1          WI      US  Mayville    53050   1000 Metalcraft Drive   \n",
       "2    Illinois      US  Wheeling    60090    301E Marquardt Drive   \n",
       "3  California      US  Altadena    91001      2212 El Molino Ave   \n",
       "4  California      US    Irvine    92618  17400 Laguna Canyon Rd   \n",
       "\n",
       "                                                 url  \n",
       "0      https://www.linkedin.com/company/hearing-life  \n",
       "1  https://www.linkedin.com/company/metalcraft-of...  \n",
       "2  https://www.linkedin.com/company/u.s.-tsubaki-...  \n",
       "3  https://www.linkedin.com/company/episcopal-com...  \n",
       "4             https://www.linkedin.com/company/iherb  "
      ]
     },
     "execution_count": 77,
     "metadata": {},
     "output_type": "execute_result"
    }
   ],
   "source": [
    "merged_data= pd.merge(merged_job_postings_skills, companies, on='company_id', how='left')\n",
    "merged_data.head()"
   ]
  },
  {
   "cell_type": "markdown",
   "metadata": {},
   "source": [
    "Reducing dimensionality by dropping unnecessary columns"
   ]
  },
  {
   "cell_type": "code",
   "execution_count": 78,
   "metadata": {},
   "outputs": [
    {
     "data": {
      "text/html": [
       "<div>\n",
       "<style scoped>\n",
       "    .dataframe tbody tr th:only-of-type {\n",
       "        vertical-align: middle;\n",
       "    }\n",
       "\n",
       "    .dataframe tbody tr th {\n",
       "        vertical-align: top;\n",
       "    }\n",
       "\n",
       "    .dataframe thead th {\n",
       "        text-align: right;\n",
       "    }\n",
       "</style>\n",
       "<table border=\"1\" class=\"dataframe\">\n",
       "  <thead>\n",
       "    <tr style=\"text-align: right;\">\n",
       "      <th></th>\n",
       "      <th>job_id</th>\n",
       "      <th>company_id</th>\n",
       "      <th>location</th>\n",
       "      <th>formatted_experience_level</th>\n",
       "      <th>skill_name</th>\n",
       "      <th>name</th>\n",
       "      <th>country</th>\n",
       "    </tr>\n",
       "  </thead>\n",
       "  <tbody>\n",
       "    <tr>\n",
       "      <th>0</th>\n",
       "      <td>3757940104</td>\n",
       "      <td>553718</td>\n",
       "      <td>Little River, SC</td>\n",
       "      <td>Entry level</td>\n",
       "      <td>Other</td>\n",
       "      <td>HearingLife</td>\n",
       "      <td>US</td>\n",
       "    </tr>\n",
       "    <tr>\n",
       "      <th>1</th>\n",
       "      <td>3757940025</td>\n",
       "      <td>2192142</td>\n",
       "      <td>Beaver Dam, WI</td>\n",
       "      <td>NaN</td>\n",
       "      <td>Management, Manufacturing</td>\n",
       "      <td>Metalcraft of Mayville, Inc.</td>\n",
       "      <td>US</td>\n",
       "    </tr>\n",
       "    <tr>\n",
       "      <th>2</th>\n",
       "      <td>3757938019</td>\n",
       "      <td>474443</td>\n",
       "      <td>Bessemer, AL</td>\n",
       "      <td>NaN</td>\n",
       "      <td>Engineering</td>\n",
       "      <td>U.S. Tsubaki Power Transmission, LLC</td>\n",
       "      <td>US</td>\n",
       "    </tr>\n",
       "    <tr>\n",
       "      <th>3</th>\n",
       "      <td>3757938018</td>\n",
       "      <td>18213359</td>\n",
       "      <td>Aliso Viejo, CA</td>\n",
       "      <td>Entry level</td>\n",
       "      <td>Management, Manufacturing</td>\n",
       "      <td>Episcopal Communities &amp; Services</td>\n",
       "      <td>US</td>\n",
       "    </tr>\n",
       "    <tr>\n",
       "      <th>4</th>\n",
       "      <td>3757937095</td>\n",
       "      <td>437225</td>\n",
       "      <td>United States</td>\n",
       "      <td>Mid-Senior level</td>\n",
       "      <td>Information Technology</td>\n",
       "      <td>iHerb, LLC</td>\n",
       "      <td>US</td>\n",
       "    </tr>\n",
       "  </tbody>\n",
       "</table>\n",
       "</div>"
      ],
      "text/plain": [
       "       job_id  company_id          location formatted_experience_level  \\\n",
       "0  3757940104      553718  Little River, SC                Entry level   \n",
       "1  3757940025     2192142    Beaver Dam, WI                        NaN   \n",
       "2  3757938019      474443      Bessemer, AL                        NaN   \n",
       "3  3757938018    18213359   Aliso Viejo, CA                Entry level   \n",
       "4  3757937095      437225     United States           Mid-Senior level   \n",
       "\n",
       "                  skill_name                                  name country  \n",
       "0                      Other                           HearingLife      US  \n",
       "1  Management, Manufacturing          Metalcraft of Mayville, Inc.      US  \n",
       "2                Engineering  U.S. Tsubaki Power Transmission, LLC      US  \n",
       "3  Management, Manufacturing      Episcopal Communities & Services      US  \n",
       "4     Information Technology                            iHerb, LLC      US  "
      ]
     },
     "execution_count": 78,
     "metadata": {},
     "output_type": "execute_result"
    }
   ],
   "source": [
    "columns_to_drop = ['description','company_size','zip_code','url','address','state','city']\n",
    "merged_data= merged_data.drop(columns=columns_to_drop,axis=1)\n",
    "merged_data.head()"
   ]
  },
  {
   "cell_type": "markdown",
   "metadata": {},
   "source": [
    "Displaying data in a better order"
   ]
  },
  {
   "cell_type": "code",
   "execution_count": 79,
   "metadata": {},
   "outputs": [
    {
     "data": {
      "text/html": [
       "<div>\n",
       "<style scoped>\n",
       "    .dataframe tbody tr th:only-of-type {\n",
       "        vertical-align: middle;\n",
       "    }\n",
       "\n",
       "    .dataframe tbody tr th {\n",
       "        vertical-align: top;\n",
       "    }\n",
       "\n",
       "    .dataframe thead th {\n",
       "        text-align: right;\n",
       "    }\n",
       "</style>\n",
       "<table border=\"1\" class=\"dataframe\">\n",
       "  <thead>\n",
       "    <tr style=\"text-align: right;\">\n",
       "      <th></th>\n",
       "      <th>job_id</th>\n",
       "      <th>company_id</th>\n",
       "      <th>name</th>\n",
       "      <th>location</th>\n",
       "      <th>country</th>\n",
       "      <th>skill_name</th>\n",
       "      <th>formatted_experience_level</th>\n",
       "    </tr>\n",
       "  </thead>\n",
       "  <tbody>\n",
       "    <tr>\n",
       "      <th>0</th>\n",
       "      <td>3757940104</td>\n",
       "      <td>553718</td>\n",
       "      <td>HearingLife</td>\n",
       "      <td>Little River, SC</td>\n",
       "      <td>US</td>\n",
       "      <td>Other</td>\n",
       "      <td>Entry level</td>\n",
       "    </tr>\n",
       "    <tr>\n",
       "      <th>1</th>\n",
       "      <td>3757940025</td>\n",
       "      <td>2192142</td>\n",
       "      <td>Metalcraft of Mayville, Inc.</td>\n",
       "      <td>Beaver Dam, WI</td>\n",
       "      <td>US</td>\n",
       "      <td>Management, Manufacturing</td>\n",
       "      <td>NaN</td>\n",
       "    </tr>\n",
       "    <tr>\n",
       "      <th>2</th>\n",
       "      <td>3757938019</td>\n",
       "      <td>474443</td>\n",
       "      <td>U.S. Tsubaki Power Transmission, LLC</td>\n",
       "      <td>Bessemer, AL</td>\n",
       "      <td>US</td>\n",
       "      <td>Engineering</td>\n",
       "      <td>NaN</td>\n",
       "    </tr>\n",
       "    <tr>\n",
       "      <th>3</th>\n",
       "      <td>3757938018</td>\n",
       "      <td>18213359</td>\n",
       "      <td>Episcopal Communities &amp; Services</td>\n",
       "      <td>Aliso Viejo, CA</td>\n",
       "      <td>US</td>\n",
       "      <td>Management, Manufacturing</td>\n",
       "      <td>Entry level</td>\n",
       "    </tr>\n",
       "    <tr>\n",
       "      <th>4</th>\n",
       "      <td>3757937095</td>\n",
       "      <td>437225</td>\n",
       "      <td>iHerb, LLC</td>\n",
       "      <td>United States</td>\n",
       "      <td>US</td>\n",
       "      <td>Information Technology</td>\n",
       "      <td>Mid-Senior level</td>\n",
       "    </tr>\n",
       "  </tbody>\n",
       "</table>\n",
       "</div>"
      ],
      "text/plain": [
       "       job_id  company_id                                  name  \\\n",
       "0  3757940104      553718                           HearingLife   \n",
       "1  3757940025     2192142          Metalcraft of Mayville, Inc.   \n",
       "2  3757938019      474443  U.S. Tsubaki Power Transmission, LLC   \n",
       "3  3757938018    18213359      Episcopal Communities & Services   \n",
       "4  3757937095      437225                            iHerb, LLC   \n",
       "\n",
       "           location country                 skill_name  \\\n",
       "0  Little River, SC      US                      Other   \n",
       "1    Beaver Dam, WI      US  Management, Manufacturing   \n",
       "2      Bessemer, AL      US                Engineering   \n",
       "3   Aliso Viejo, CA      US  Management, Manufacturing   \n",
       "4     United States      US     Information Technology   \n",
       "\n",
       "  formatted_experience_level  \n",
       "0                Entry level  \n",
       "1                        NaN  \n",
       "2                        NaN  \n",
       "3                Entry level  \n",
       "4           Mid-Senior level  "
      ]
     },
     "execution_count": 79,
     "metadata": {},
     "output_type": "execute_result"
    }
   ],
   "source": [
    "column_order = ['job_id','company_id','name','location','country','skill_name','formatted_experience_level']\n",
    "merged_data = merged_data[column_order]\n",
    "merged_data.head()"
   ]
  },
  {
   "cell_type": "markdown",
   "metadata": {},
   "source": [
    "#### Identify remaining missing data in the merged dataset\n",
    "Display columns with significant missing data"
   ]
  },
  {
   "cell_type": "code",
   "execution_count": 80,
   "metadata": {},
   "outputs": [
    {
     "data": {
      "text/plain": [
       "company_id                     654\n",
       "country                        701\n",
       "name                           705\n",
       "skill_name                    1212\n",
       "formatted_experience_level    9181\n",
       "dtype: int64"
      ]
     },
     "execution_count": 80,
     "metadata": {},
     "output_type": "execute_result"
    }
   ],
   "source": [
    "missing_data = merged_data.isnull().sum()\n",
    "significant_missing_columns = missing_data[missing_data > 0].sort_values(ascending=True)\n",
    "significant_missing_columns"
   ]
  },
  {
   "cell_type": "markdown",
   "metadata": {},
   "source": [
    "Handling missing values of 'name' column"
   ]
  },
  {
   "cell_type": "code",
   "execution_count": 81,
   "metadata": {},
   "outputs": [
    {
     "name": "stdout",
     "output_type": "stream",
     "text": [
      "Number of missing ID's: 705\n",
      "37       <NA>\n",
      "50       <NA>\n",
      "63       <NA>\n",
      "74       <NA>\n",
      "76       <NA>\n",
      "         ... \n",
      "33231    <NA>\n",
      "33232    <NA>\n",
      "33239    <NA>\n",
      "33242    <NA>\n",
      "33244    <NA>\n",
      "Name: company_id, Length: 705, dtype: Int64\n"
     ]
    }
   ],
   "source": [
    "# After merging, 51 rows of company references in job_postings were non existent in the company id's dataset. \n",
    "missing_names = merged_data['name'].isnull().sum()\n",
    "\n",
    "null_name_indices = merged_data[merged_data['name'].isnull()]['company_id']\n",
    "print(\"Number of missing ID's:\", missing_names)\n",
    "print(null_name_indices)"
   ]
  },
  {
   "cell_type": "code",
   "execution_count": 82,
   "metadata": {},
   "outputs": [],
   "source": [
    "merged_data.to_csv('data_preprocessed/merged_data.csv', index=False)"
   ]
  },
  {
   "cell_type": "markdown",
   "metadata": {},
   "source": [
    "Dropping columns where name is null"
   ]
  },
  {
   "cell_type": "code",
   "execution_count": 83,
   "metadata": {},
   "outputs": [],
   "source": [
    "# 'name' of companies that did not exist in companies.csv, but did in job_postings.csv, are null\n",
    "merged_data.dropna(subset=['name'], inplace=True)"
   ]
  },
  {
   "cell_type": "markdown",
   "metadata": {},
   "source": [
    "Handling missing values of 'skill_name' column"
   ]
  },
  {
   "cell_type": "code",
   "execution_count": 84,
   "metadata": {},
   "outputs": [],
   "source": [
    "# Handling missing values of 'skill_name' column\n",
    "col_skill_fill_other = ['skill_name']\n",
    "for col in col_skill_fill_other:\n",
    "    merged_data[col].fillna(\"Other\", inplace=True)"
   ]
  },
  {
   "cell_type": "markdown",
   "metadata": {},
   "source": [
    "Handling missing values of 'formatted_experience_level' column"
   ]
  },
  {
   "cell_type": "code",
   "execution_count": 85,
   "metadata": {},
   "outputs": [],
   "source": [
    "# Categorical columns with missing values are filled with \"Not Specified\"\n",
    "col_experience_fill_not_specified = ['formatted_experience_level']\n",
    "for col in col_experience_fill_not_specified:\n",
    "    merged_data[col].fillna(\"Not Specified\", inplace=True)\n"
   ]
  },
  {
   "cell_type": "markdown",
   "metadata": {},
   "source": [
    "Check for remaining missing values"
   ]
  },
  {
   "cell_type": "code",
   "execution_count": 86,
   "metadata": {},
   "outputs": [
    {
     "data": {
      "text/plain": [
       "Series([], dtype: int64)"
      ]
     },
     "execution_count": 86,
     "metadata": {},
     "output_type": "execute_result"
    }
   ],
   "source": [
    "remaining_missing = merged_data.isnull().sum()\n",
    "remaining_missing_cols = remaining_missing[remaining_missing > 0].sort_values(ascending=False)\n",
    "remaining_missing_cols"
   ]
  },
  {
   "cell_type": "markdown",
   "metadata": {},
   "source": [
    "#### Categorizing experience level"
   ]
  },
  {
   "cell_type": "code",
   "execution_count": 87,
   "metadata": {},
   "outputs": [
    {
     "name": "stdout",
     "output_type": "stream",
     "text": [
      "Entry level\n",
      "Not Specified\n",
      "Mid-Senior level\n",
      "Director\n",
      "Associate\n",
      "Executive\n",
      "Internship\n"
     ]
    }
   ],
   "source": [
    "# Data Transformation\n",
    "experience_levels = merged_data['formatted_experience_level'].unique()\n",
    "\n",
    "for value in experience_levels:\n",
    "    print(value)\n"
   ]
  },
  {
   "cell_type": "markdown",
   "metadata": {},
   "source": [
    "Mapping experience to their numeric new values"
   ]
  },
  {
   "cell_type": "code",
   "execution_count": 88,
   "metadata": {},
   "outputs": [],
   "source": [
    "experience_mapping = {\n",
    "    'Internship': 1,\n",
    "    'Entry level': 2,\n",
    "    'Associate':3, \n",
    "    'Mid-Senior level': 4,\n",
    "    'Director': 5,\n",
    "    'Executive': 6,\n",
    "    'Not Specified': 7\n",
    "}\n",
    "\n",
    "merged_data['formatted_experience_level'] = merged_data['formatted_experience_level'].map(experience_mapping)"
   ]
  },
  {
   "cell_type": "markdown",
   "metadata": {},
   "source": [
    "#### Cleaning data in 'name' attribute"
   ]
  },
  {
   "cell_type": "code",
   "execution_count": 89,
   "metadata": {},
   "outputs": [],
   "source": [
    "def clean_company_names(name):\n",
    "\n",
    "    # Remove special characters, except spaces and dots\n",
    "    name = re.sub(r'[^a-zA-Z0-9\\w\\s\\.]', '', name)\n",
    "\n",
    "    # Remove extra spaces\n",
    "    name = re.sub(r'\\s+', ' ', name).strip()\n",
    "\n",
    "    # Handle hyphens and apostrophes\n",
    "    name = name.replace('-', ' ')  # Replace hyphens with spaces\n",
    "    name = name.replace('\\'', '')  # Remove apostrophes\n",
    "    name = re.sub(r'\\s+', ' ', name)\n",
    "\n",
    "    return name\n",
    "\n",
    "merged_data['name'] = merged_data['name'].apply(clean_company_names)"
   ]
  },
  {
   "cell_type": "markdown",
   "metadata": {},
   "source": [
    "#### Extract City from 'location' attribute"
   ]
  },
  {
   "cell_type": "code",
   "execution_count": 90,
   "metadata": {},
   "outputs": [
    {
     "data": {
      "text/plain": [
       "(32541, 7)"
      ]
     },
     "execution_count": 90,
     "metadata": {},
     "output_type": "execute_result"
    }
   ],
   "source": [
    "def extract_city(location):\n",
    "    words = location.split()\n",
    "    if len(words) == 1:  # Check if the location has only one word\n",
    "        return None\n",
    "    parts = location.split(', ')\n",
    "    if len(parts) > 1:  # Check if the format is City, State, \n",
    "        return parts[0]\n",
    "    else:\n",
    "        if \"Metropolitan Area\" in location:\n",
    "            return location.split(\" Metropolitan Area\")[0]\n",
    "        elif \"Area\" in location or \"Greater\" in location:\n",
    "            return location\n",
    "        else:\n",
    "            return None\n",
    "\n",
    "# Apply the function to the 'location' column\n",
    "merged_data['location'] = merged_data['location'].apply(extract_city)\n",
    "merged_data.shape"
   ]
  },
  {
   "cell_type": "code",
   "execution_count": 91,
   "metadata": {},
   "outputs": [
    {
     "data": {
      "text/plain": [
       "2366"
      ]
     },
     "execution_count": 91,
     "metadata": {},
     "output_type": "execute_result"
    }
   ],
   "source": [
    "remaining_missing = merged_data['location'].isnull().sum()\n",
    "remaining_missing"
   ]
  },
  {
   "cell_type": "code",
   "execution_count": 92,
   "metadata": {},
   "outputs": [
    {
     "data": {
      "text/plain": [
       "(30175, 7)"
      ]
     },
     "execution_count": 92,
     "metadata": {},
     "output_type": "execute_result"
    }
   ],
   "source": [
    "merged_data = merged_data.dropna(subset=['location'])\n",
    "merged_data.shape"
   ]
  },
  {
   "cell_type": "markdown",
   "metadata": {},
   "source": [
    "#### Preprocessed Dataset"
   ]
  },
  {
   "cell_type": "markdown",
   "metadata": {},
   "source": [
    "Shape of the cleaned data"
   ]
  },
  {
   "cell_type": "code",
   "execution_count": 93,
   "metadata": {},
   "outputs": [
    {
     "data": {
      "text/plain": [
       "(30175, 7)"
      ]
     },
     "execution_count": 93,
     "metadata": {},
     "output_type": "execute_result"
    }
   ],
   "source": [
    "merged_data_cleaned = merged_data\n",
    "merged_data_cleaned.shape"
   ]
  },
  {
   "cell_type": "markdown",
   "metadata": {},
   "source": [
    "Rename column names "
   ]
  },
  {
   "cell_type": "code",
   "execution_count": 94,
   "metadata": {},
   "outputs": [],
   "source": [
    "\n",
    "merged_data_cleaned = merged_data_cleaned.rename(columns={'name':'company','skill_name':'required_skill',\n",
    "                                                           'formatted_experience_level':'experience_level'})\n",
    "\n",
    "merged_data_cleaned = merged_data_cleaned.sort_values('job_id', ascending=False)\n",
    "\n"
   ]
  },
  {
   "cell_type": "markdown",
   "metadata": {},
   "source": [
    "Display"
   ]
  },
  {
   "cell_type": "code",
   "execution_count": 95,
   "metadata": {},
   "outputs": [
    {
     "data": {
      "text/html": [
       "<div>\n",
       "<style scoped>\n",
       "    .dataframe tbody tr th:only-of-type {\n",
       "        vertical-align: middle;\n",
       "    }\n",
       "\n",
       "    .dataframe tbody tr th {\n",
       "        vertical-align: top;\n",
       "    }\n",
       "\n",
       "    .dataframe thead th {\n",
       "        text-align: right;\n",
       "    }\n",
       "</style>\n",
       "<table border=\"1\" class=\"dataframe\">\n",
       "  <thead>\n",
       "    <tr style=\"text-align: right;\">\n",
       "      <th></th>\n",
       "      <th>job_id</th>\n",
       "      <th>company_id</th>\n",
       "      <th>company</th>\n",
       "      <th>location</th>\n",
       "      <th>country</th>\n",
       "      <th>required_skill</th>\n",
       "      <th>experience_level</th>\n",
       "    </tr>\n",
       "  </thead>\n",
       "  <tbody>\n",
       "    <tr>\n",
       "      <th>0</th>\n",
       "      <td>3757940104</td>\n",
       "      <td>553718</td>\n",
       "      <td>HearingLife</td>\n",
       "      <td>Little River</td>\n",
       "      <td>US</td>\n",
       "      <td>Other</td>\n",
       "      <td>2</td>\n",
       "    </tr>\n",
       "    <tr>\n",
       "      <th>1</th>\n",
       "      <td>3757940025</td>\n",
       "      <td>2192142</td>\n",
       "      <td>Metalcraft of Mayville Inc.</td>\n",
       "      <td>Beaver Dam</td>\n",
       "      <td>US</td>\n",
       "      <td>Management, Manufacturing</td>\n",
       "      <td>7</td>\n",
       "    </tr>\n",
       "    <tr>\n",
       "      <th>2</th>\n",
       "      <td>3757938019</td>\n",
       "      <td>474443</td>\n",
       "      <td>U.S. Tsubaki Power Transmission LLC</td>\n",
       "      <td>Bessemer</td>\n",
       "      <td>US</td>\n",
       "      <td>Engineering</td>\n",
       "      <td>7</td>\n",
       "    </tr>\n",
       "    <tr>\n",
       "      <th>3</th>\n",
       "      <td>3757938018</td>\n",
       "      <td>18213359</td>\n",
       "      <td>Episcopal Communities Services</td>\n",
       "      <td>Aliso Viejo</td>\n",
       "      <td>US</td>\n",
       "      <td>Management, Manufacturing</td>\n",
       "      <td>2</td>\n",
       "    </tr>\n",
       "    <tr>\n",
       "      <th>6</th>\n",
       "      <td>3757937004</td>\n",
       "      <td>10515052</td>\n",
       "      <td>Boyd Group Services Inc.</td>\n",
       "      <td>Daytona Beach</td>\n",
       "      <td>CA</td>\n",
       "      <td>Management, Manufacturing</td>\n",
       "      <td>2</td>\n",
       "    </tr>\n",
       "    <tr>\n",
       "      <th>...</th>\n",
       "      <td>...</td>\n",
       "      <td>...</td>\n",
       "      <td>...</td>\n",
       "      <td>...</td>\n",
       "      <td>...</td>\n",
       "      <td>...</td>\n",
       "      <td>...</td>\n",
       "    </tr>\n",
       "    <tr>\n",
       "      <th>33238</th>\n",
       "      <td>381055942</td>\n",
       "      <td>96654609</td>\n",
       "      <td>First Baptist Church Forney</td>\n",
       "      <td>Forney</td>\n",
       "      <td>US</td>\n",
       "      <td>Other</td>\n",
       "      <td>7</td>\n",
       "    </tr>\n",
       "    <tr>\n",
       "      <th>33240</th>\n",
       "      <td>133196985</td>\n",
       "      <td>1089558</td>\n",
       "      <td>Employvision Inc.</td>\n",
       "      <td>New York</td>\n",
       "      <td>US</td>\n",
       "      <td>Accounting/Auditing, Finance</td>\n",
       "      <td>7</td>\n",
       "    </tr>\n",
       "    <tr>\n",
       "      <th>33241</th>\n",
       "      <td>133114754</td>\n",
       "      <td>77766802</td>\n",
       "      <td>CargoLogin.</td>\n",
       "      <td>Santa Clarita</td>\n",
       "      <td>US</td>\n",
       "      <td>Sales, Business Development</td>\n",
       "      <td>7</td>\n",
       "    </tr>\n",
       "    <tr>\n",
       "      <th>33243</th>\n",
       "      <td>102339515</td>\n",
       "      <td>52132271</td>\n",
       "      <td>DryerVentz DuctVentz</td>\n",
       "      <td>Greater Boston</td>\n",
       "      <td>US</td>\n",
       "      <td>Business Development, Sales</td>\n",
       "      <td>7</td>\n",
       "    </tr>\n",
       "    <tr>\n",
       "      <th>33245</th>\n",
       "      <td>3958427</td>\n",
       "      <td>630152</td>\n",
       "      <td>Karen Marie Salon</td>\n",
       "      <td>Chicago</td>\n",
       "      <td>US</td>\n",
       "      <td>Design, Art/Creative, Information Technology</td>\n",
       "      <td>7</td>\n",
       "    </tr>\n",
       "  </tbody>\n",
       "</table>\n",
       "<p>30175 rows × 7 columns</p>\n",
       "</div>"
      ],
      "text/plain": [
       "           job_id  company_id                              company  \\\n",
       "0      3757940104      553718                          HearingLife   \n",
       "1      3757940025     2192142          Metalcraft of Mayville Inc.   \n",
       "2      3757938019      474443  U.S. Tsubaki Power Transmission LLC   \n",
       "3      3757938018    18213359       Episcopal Communities Services   \n",
       "6      3757937004    10515052             Boyd Group Services Inc.   \n",
       "...           ...         ...                                  ...   \n",
       "33238   381055942    96654609          First Baptist Church Forney   \n",
       "33240   133196985     1089558                    Employvision Inc.   \n",
       "33241   133114754    77766802                          CargoLogin.   \n",
       "33243   102339515    52132271                 DryerVentz DuctVentz   \n",
       "33245     3958427      630152                    Karen Marie Salon   \n",
       "\n",
       "             location country                                required_skill  \\\n",
       "0        Little River      US                                         Other   \n",
       "1          Beaver Dam      US                     Management, Manufacturing   \n",
       "2            Bessemer      US                                   Engineering   \n",
       "3         Aliso Viejo      US                     Management, Manufacturing   \n",
       "6       Daytona Beach      CA                     Management, Manufacturing   \n",
       "...               ...     ...                                           ...   \n",
       "33238          Forney      US                                         Other   \n",
       "33240        New York      US                  Accounting/Auditing, Finance   \n",
       "33241   Santa Clarita      US                   Sales, Business Development   \n",
       "33243  Greater Boston      US                   Business Development, Sales   \n",
       "33245         Chicago      US  Design, Art/Creative, Information Technology   \n",
       "\n",
       "       experience_level  \n",
       "0                     2  \n",
       "1                     7  \n",
       "2                     7  \n",
       "3                     2  \n",
       "6                     2  \n",
       "...                 ...  \n",
       "33238                 7  \n",
       "33240                 7  \n",
       "33241                 7  \n",
       "33243                 7  \n",
       "33245                 7  \n",
       "\n",
       "[30175 rows x 7 columns]"
      ]
     },
     "execution_count": 95,
     "metadata": {},
     "output_type": "execute_result"
    }
   ],
   "source": [
    "merged_data_cleaned"
   ]
  },
  {
   "cell_type": "markdown",
   "metadata": {},
   "source": [
    "Save the preprocessed dataset to data_preprocessed.csv"
   ]
  },
  {
   "cell_type": "code",
   "execution_count": 96,
   "metadata": {},
   "outputs": [],
   "source": [
    "merged_data_cleaned.to_csv('data_preprocessed/job_postings.csv', index=False)"
   ]
  },
  {
   "cell_type": "markdown",
   "metadata": {},
   "source": [
    "### Detecting Outliers"
   ]
  },
  {
   "cell_type": "markdown",
   "metadata": {},
   "source": [
    "Checking for outliers in Experience Level"
   ]
  },
  {
   "cell_type": "code",
   "execution_count": 97,
   "metadata": {},
   "outputs": [
    {
     "name": "stdout",
     "output_type": "stream",
     "text": [
      "Outliers identified by Z-Score method:\n",
      "Empty DataFrame\n",
      "Columns: [job_id, company_id, company, location, country, required_skill, experience_level, Z_Score]\n",
      "Index: []\n"
     ]
    }
   ],
   "source": [
    "merged_data_cleaned['Z_Score'] = np.abs(stats.zscore(merged_data_cleaned['experience_level'], nan_policy='omit'))\n",
    "threshold = 3\n",
    "outliers_z = merged_data_cleaned[merged_data_cleaned['Z_Score'] > threshold]\n",
    "print(\"Outliers identified by Z-Score method:\")\n",
    "print(outliers_z.head())"
   ]
  },
  {
   "cell_type": "code",
   "execution_count": 98,
   "metadata": {},
   "outputs": [
    {
     "data": {
      "image/png": "[encoded data removed]",
      "text/plain": [
       "<Figure size 1200x600 with 1 Axes>"
      ]
     },
     "metadata": {},
     "output_type": "display_data"
    }
   ],
   "source": [
    "plt.figure(figsize=(12, 6))\n",
    "plt.scatter(merged_data_cleaned.index, merged_data_cleaned['experience_level'], color='blue', label='Experience Level')\n",
    "\n",
    "# Scatter plot for outliers\n",
    "plt.scatter(outliers_z.index, outliers_z['experience_level'], color='red', label='Z-scores Outliers')\n",
    "plt.title(\"Scatter Plot of Experience Level\")\n",
    "plt.xlabel(\"Index\")\n",
    "plt.ylabel(\"Experience Level\")\n",
    "plt.legend()\n",
    "plt.show()"
   ]
  },
  {
   "cell_type": "code",
   "execution_count": 107,
   "metadata": {},
   "outputs": [
    {
     "data": {
      "text/plain": [
       "array(['US', 'CA', 'FR', 'GB', '0', 'NL', 'DK', 'LI', 'JP', 'CH', 'BE',\n",
       "       'SE', 'IN', 'AU', 'CN', 'DE', 'ES', 'KR', 'MT', 'IE', 'IL', 'OO',\n",
       "       'IT', 'LU', 'EE', 'AT', 'BM', 'FI', 'ID', 'AE', 'AZ', 'IS', 'TW',\n",
       "       'MX', 'SG', 'NO', 'HK', 'NZ', 'RU', 'BR', 'KE', 'SA', 'TR', 'GE',\n",
       "       'HU', 'PR', 'UY', 'CO', 'CZ', 'AR', 'PH', 'MD'], dtype=object)"
      ]
     },
     "execution_count": 107,
     "metadata": {},
     "output_type": "execute_result"
    }
   ],
   "source": [
    "company_country = merged_data_cleaned['country'].unique()\n",
    "company_country\n"
   ]
  },
  {
   "cell_type": "code",
   "execution_count": 115,
   "metadata": {},
   "outputs": [
    {
     "data": {
      "image/png": "[encoded data removed]",
      "text/plain": [
       "<Figure size 3000x500 with 1 Axes>"
      ]
     },
     "metadata": {},
     "output_type": "display_data"
    },
    {
     "data": {
      "image/png": "[encoded data removed]",
      "text/plain": [
       "<Figure size 3000x500 with 1 Axes>"
      ]
     },
     "metadata": {},
     "output_type": "display_data"
    },
    {
     "name": "stdout",
     "output_type": "stream",
     "text": [
      "DataFrame after removing anomalies:\n",
      "           job_id  company_id                              company  \\\n",
      "0      3757940104      553718                          HearingLife   \n",
      "1      3757940025     2192142          Metalcraft of Mayville Inc.   \n",
      "2      3757938019      474443  U.S. Tsubaki Power Transmission LLC   \n",
      "3      3757938018    18213359       Episcopal Communities Services   \n",
      "6      3757937004    10515052             Boyd Group Services Inc.   \n",
      "...           ...         ...                                  ...   \n",
      "33238   381055942    96654609          First Baptist Church Forney   \n",
      "33240   133196985     1089558                    Employvision Inc.   \n",
      "33241   133114754    77766802                          CargoLogin.   \n",
      "33243   102339515    52132271                 DryerVentz DuctVentz   \n",
      "33245     3958427      630152                    Karen Marie Salon   \n",
      "\n",
      "             location country                                required_skill  \\\n",
      "0        Little River      US                                         Other   \n",
      "1          Beaver Dam      US                     Management, Manufacturing   \n",
      "2            Bessemer      US                                   Engineering   \n",
      "3         Aliso Viejo      US                     Management, Manufacturing   \n",
      "6       Daytona Beach      CA                     Management, Manufacturing   \n",
      "...               ...     ...                                           ...   \n",
      "33238          Forney      US                                         Other   \n",
      "33240        New York      US                  Accounting/Auditing, Finance   \n",
      "33241   Santa Clarita      US                   Sales, Business Development   \n",
      "33243  Greater Boston      US                   Business Development, Sales   \n",
      "33245         Chicago      US  Design, Art/Creative, Information Technology   \n",
      "\n",
      "       experience_level   Z_Score  country_length  \n",
      "0                     2  1.158713               2  \n",
      "1                     7  1.490970               2  \n",
      "2                     7  1.490970               2  \n",
      "3                     2  1.158713               2  \n",
      "6                     2  1.158713               2  \n",
      "...                 ...       ...             ...  \n",
      "33238                 7  1.490970               2  \n",
      "33240                 7  1.490970               2  \n",
      "33241                 7  1.490970               2  \n",
      "33243                 7  1.490970               2  \n",
      "33245                 7  1.490970               2  \n",
      "\n",
      "[29624 rows x 9 columns]\n"
     ]
    }
   ],
   "source": [
    "import pandas as pd\n",
    "import matplotlib.pyplot as plt\n",
    "\n",
    "# Function to generate valid_countries dynamically based on length criteria\n",
    "def generate_valid_countries(merged_data_cleaned):\n",
    "    return list(merged_data_cleaned[merged_data_cleaned['country'].apply(len) == 2]['country'].unique())\n",
    "\n",
    "# Generate valid_countries list dynamically\n",
    "valid_countries = generate_valid_countries(merged_data_cleaned)\n",
    "\n",
    "# Function to identify anomalies based on domain-specific knowledge\n",
    "def remove_country_anomalies(merged_data_cleaned, valid_countries):\n",
    "    return merged_data_cleaned[merged_data_cleaned['country'].isin(valid_countries)]\n",
    "\n",
    "# Visualize data before removing anomalies\n",
    "plt.figure(figsize=(30, 5))\n",
    "plt.hist(merged_data_cleaned['country'], bins=len(merged_data_cleaned['country'].unique()))\n",
    "plt.title('Before Removing Anomaly')\n",
    "plt.xlabel('Country')\n",
    "plt.ylabel('Frequency')\n",
    "plt.show()\n",
    "\n",
    "# Detect and remove anomalies based on domain-specific knowledge\n",
    "cleaned_df = remove_country_anomalies(merged_data_cleaned, valid_countries)\n",
    "\n",
    "# Visualize data after removing anomalies\n",
    "plt.figure(figsize=(30, 5))\n",
    "plt.hist(cleaned_df['country'], bins=len(cleaned_df['country'].unique()))\n",
    "plt.title('After Removing Anomaly')\n",
    "plt.xlabel('Country')\n",
    "plt.ylabel('Frequency')\n",
    "plt.show()\n",
    "\n",
    "# Display the cleaned DataFrame\n",
    "print(\"DataFrame after removing anomalies:\")\n",
    "print(cleaned_df)"
   ]
  },
  {
   "cell_type": "code",
   "execution_count": 118,
   "metadata": {},
   "outputs": [
    {
     "name": "stdout",
     "output_type": "stream",
     "text": [
      "Number of anomalies in the 'country' column: 0\n"
     ]
    }
   ],
   "source": [
    "count_anomalies = (cleaned_df['country'] == '0').sum()\n",
    "\n",
    "print(\"Number of anomalies in the 'country' column:\", count_anomalies)"
   ]
  },
  {
   "cell_type": "code",
   "execution_count": 120,
   "metadata": {},
   "outputs": [
    {
     "name": "stdout",
     "output_type": "stream",
     "text": [
      "{'US': 1, 'CA': 2, 'FR': 3, 'GB': 4, 'NL': 5, 'DK': 6, 'LI': 7, 'JP': 8, 'CH': 9, 'BE': 10, 'SE': 11, 'IN': 12, 'AU': 13, 'CN': 14, 'DE': 15, 'ES': 16, 'KR': 17, 'MT': 18, 'IE': 19, 'IL': 20, 'OO': 21, 'IT': 22, 'LU': 23, 'EE': 24, 'AT': 25, 'BM': 26, 'FI': 27, 'ID': 28, 'AE': 29, 'AZ': 30, 'IS': 31, 'TW': 32, 'MX': 33, 'SG': 34, 'NO': 35, 'HK': 36, 'NZ': 37, 'RU': 38, 'BR': 39, 'KE': 40, 'SA': 41, 'TR': 42, 'GE': 43, 'HU': 44, 'PR': 45, 'UY': 46, 'CO': 47, 'CZ': 48, 'AR': 49, 'PH': 50, 'MD': 51}\n"
     ]
    }
   ],
   "source": [
    "def generate_country_mapping(countries):\n",
    "    country_mapping = {country: index + 1 for index, country in enumerate(countries)}\n",
    "    return country_mapping\n",
    "\n",
    "# Example input array\n",
    "input_countries = cleaned_df['country'].unique()\n",
    "\n",
    "# Generate the mapping using the function\n",
    "country_mapping = generate_country_mapping(input_countries)\n",
    "\n",
    "# Display the resulting mapping\n",
    "print(country_mapping)"
   ]
  },
  {
   "cell_type": "code",
   "execution_count": 121,
   "metadata": {},
   "outputs": [
    {
     "name": "stderr",
     "output_type": "stream",
     "text": [
      "C:\\Users\\Blina Smailaj\\AppData\\Local\\Temp\\ipykernel_30052\\3568562196.py:1: SettingWithCopyWarning: \n",
      "A value is trying to be set on a copy of a slice from a DataFrame.\n",
      "Try using .loc[row_indexer,col_indexer] = value instead\n",
      "\n",
      "See the caveats in the documentation: https://pandas.pydata.org/pandas-docs/stable/user_guide/indexing.html#returning-a-view-versus-a-copy\n",
      "  cleaned_df['country'] = cleaned_df['country'].map(country_mapping)\n"
     ]
    }
   ],
   "source": [
    "\n",
    "cleaned_df['country'] = cleaned_df['country'].map(country_mapping)"
   ]
  },
  {
   "cell_type": "code",
   "execution_count": 122,
   "metadata": {},
   "outputs": [
    {
     "data": {
      "text/html": [
       "<div>\n",
       "<style scoped>\n",
       "    .dataframe tbody tr th:only-of-type {\n",
       "        vertical-align: middle;\n",
       "    }\n",
       "\n",
       "    .dataframe tbody tr th {\n",
       "        vertical-align: top;\n",
       "    }\n",
       "\n",
       "    .dataframe thead th {\n",
       "        text-align: right;\n",
       "    }\n",
       "</style>\n",
       "<table border=\"1\" class=\"dataframe\">\n",
       "  <thead>\n",
       "    <tr style=\"text-align: right;\">\n",
       "      <th></th>\n",
       "      <th>job_id</th>\n",
       "      <th>company_id</th>\n",
       "      <th>company</th>\n",
       "      <th>location</th>\n",
       "      <th>country</th>\n",
       "      <th>required_skill</th>\n",
       "      <th>experience_level</th>\n",
       "      <th>Z_Score</th>\n",
       "      <th>country_length</th>\n",
       "    </tr>\n",
       "  </thead>\n",
       "  <tbody>\n",
       "    <tr>\n",
       "      <th>0</th>\n",
       "      <td>3757940104</td>\n",
       "      <td>553718</td>\n",
       "      <td>HearingLife</td>\n",
       "      <td>Little River</td>\n",
       "      <td>1</td>\n",
       "      <td>Other</td>\n",
       "      <td>2</td>\n",
       "      <td>1.158713</td>\n",
       "      <td>2</td>\n",
       "    </tr>\n",
       "    <tr>\n",
       "      <th>1</th>\n",
       "      <td>3757940025</td>\n",
       "      <td>2192142</td>\n",
       "      <td>Metalcraft of Mayville Inc.</td>\n",
       "      <td>Beaver Dam</td>\n",
       "      <td>1</td>\n",
       "      <td>Management, Manufacturing</td>\n",
       "      <td>7</td>\n",
       "      <td>1.490970</td>\n",
       "      <td>2</td>\n",
       "    </tr>\n",
       "    <tr>\n",
       "      <th>2</th>\n",
       "      <td>3757938019</td>\n",
       "      <td>474443</td>\n",
       "      <td>U.S. Tsubaki Power Transmission LLC</td>\n",
       "      <td>Bessemer</td>\n",
       "      <td>1</td>\n",
       "      <td>Engineering</td>\n",
       "      <td>7</td>\n",
       "      <td>1.490970</td>\n",
       "      <td>2</td>\n",
       "    </tr>\n",
       "    <tr>\n",
       "      <th>3</th>\n",
       "      <td>3757938018</td>\n",
       "      <td>18213359</td>\n",
       "      <td>Episcopal Communities Services</td>\n",
       "      <td>Aliso Viejo</td>\n",
       "      <td>1</td>\n",
       "      <td>Management, Manufacturing</td>\n",
       "      <td>2</td>\n",
       "      <td>1.158713</td>\n",
       "      <td>2</td>\n",
       "    </tr>\n",
       "    <tr>\n",
       "      <th>6</th>\n",
       "      <td>3757937004</td>\n",
       "      <td>10515052</td>\n",
       "      <td>Boyd Group Services Inc.</td>\n",
       "      <td>Daytona Beach</td>\n",
       "      <td>2</td>\n",
       "      <td>Management, Manufacturing</td>\n",
       "      <td>2</td>\n",
       "      <td>1.158713</td>\n",
       "      <td>2</td>\n",
       "    </tr>\n",
       "  </tbody>\n",
       "</table>\n",
       "</div>"
      ],
      "text/plain": [
       "       job_id  company_id                              company       location  \\\n",
       "0  3757940104      553718                          HearingLife   Little River   \n",
       "1  3757940025     2192142          Metalcraft of Mayville Inc.     Beaver Dam   \n",
       "2  3757938019      474443  U.S. Tsubaki Power Transmission LLC       Bessemer   \n",
       "3  3757938018    18213359       Episcopal Communities Services    Aliso Viejo   \n",
       "6  3757937004    10515052             Boyd Group Services Inc.  Daytona Beach   \n",
       "\n",
       "   country             required_skill  experience_level   Z_Score  \\\n",
       "0        1                      Other                 2  1.158713   \n",
       "1        1  Management, Manufacturing                 7  1.490970   \n",
       "2        1                Engineering                 7  1.490970   \n",
       "3        1  Management, Manufacturing                 2  1.158713   \n",
       "6        2  Management, Manufacturing                 2  1.158713   \n",
       "\n",
       "   country_length  \n",
       "0               2  \n",
       "1               2  \n",
       "2               2  \n",
       "3               2  \n",
       "6               2  "
      ]
     },
     "execution_count": 122,
     "metadata": {},
     "output_type": "execute_result"
    }
   ],
   "source": [
    "cleaned_df.head()"
   ]
  },
  {
   "cell_type": "code",
   "execution_count": 125,
   "metadata": {},
   "outputs": [
    {
     "data": {
      "text/html": [
       "<div>\n",
       "<style scoped>\n",
       "    .dataframe tbody tr th:only-of-type {\n",
       "        vertical-align: middle;\n",
       "    }\n",
       "\n",
       "    .dataframe tbody tr th {\n",
       "        vertical-align: top;\n",
       "    }\n",
       "\n",
       "    .dataframe thead th {\n",
       "        text-align: right;\n",
       "    }\n",
       "</style>\n",
       "<table border=\"1\" class=\"dataframe\">\n",
       "  <thead>\n",
       "    <tr style=\"text-align: right;\">\n",
       "      <th></th>\n",
       "      <th>job_id</th>\n",
       "      <th>company_id</th>\n",
       "      <th>company</th>\n",
       "      <th>location</th>\n",
       "      <th>country</th>\n",
       "      <th>required_skill</th>\n",
       "      <th>experience_level</th>\n",
       "    </tr>\n",
       "  </thead>\n",
       "  <tbody>\n",
       "    <tr>\n",
       "      <th>0</th>\n",
       "      <td>3757940104</td>\n",
       "      <td>553718</td>\n",
       "      <td>HearingLife</td>\n",
       "      <td>Little River</td>\n",
       "      <td>1</td>\n",
       "      <td>Other</td>\n",
       "      <td>2</td>\n",
       "    </tr>\n",
       "    <tr>\n",
       "      <th>1</th>\n",
       "      <td>3757940025</td>\n",
       "      <td>2192142</td>\n",
       "      <td>Metalcraft of Mayville Inc.</td>\n",
       "      <td>Beaver Dam</td>\n",
       "      <td>1</td>\n",
       "      <td>Management, Manufacturing</td>\n",
       "      <td>7</td>\n",
       "    </tr>\n",
       "    <tr>\n",
       "      <th>2</th>\n",
       "      <td>3757938019</td>\n",
       "      <td>474443</td>\n",
       "      <td>U.S. Tsubaki Power Transmission LLC</td>\n",
       "      <td>Bessemer</td>\n",
       "      <td>1</td>\n",
       "      <td>Engineering</td>\n",
       "      <td>7</td>\n",
       "    </tr>\n",
       "    <tr>\n",
       "      <th>3</th>\n",
       "      <td>3757938018</td>\n",
       "      <td>18213359</td>\n",
       "      <td>Episcopal Communities Services</td>\n",
       "      <td>Aliso Viejo</td>\n",
       "      <td>1</td>\n",
       "      <td>Management, Manufacturing</td>\n",
       "      <td>2</td>\n",
       "    </tr>\n",
       "    <tr>\n",
       "      <th>6</th>\n",
       "      <td>3757937004</td>\n",
       "      <td>10515052</td>\n",
       "      <td>Boyd Group Services Inc.</td>\n",
       "      <td>Daytona Beach</td>\n",
       "      <td>2</td>\n",
       "      <td>Management, Manufacturing</td>\n",
       "      <td>2</td>\n",
       "    </tr>\n",
       "  </tbody>\n",
       "</table>\n",
       "</div>"
      ],
      "text/plain": [
       "       job_id  company_id                              company       location  \\\n",
       "0  3757940104      553718                          HearingLife   Little River   \n",
       "1  3757940025     2192142          Metalcraft of Mayville Inc.     Beaver Dam   \n",
       "2  3757938019      474443  U.S. Tsubaki Power Transmission LLC       Bessemer   \n",
       "3  3757938018    18213359       Episcopal Communities Services    Aliso Viejo   \n",
       "6  3757937004    10515052             Boyd Group Services Inc.  Daytona Beach   \n",
       "\n",
       "   country             required_skill  experience_level  \n",
       "0        1                      Other                 2  \n",
       "1        1  Management, Manufacturing                 7  \n",
       "2        1                Engineering                 7  \n",
       "3        1  Management, Manufacturing                 2  \n",
       "6        2  Management, Manufacturing                 2  "
      ]
     },
     "execution_count": 125,
     "metadata": {},
     "output_type": "execute_result"
    }
   ],
   "source": [
    "cleaned_df = cleaned_df.drop('country_length', axis=1)\n",
    "cleaned_df = cleaned_df.drop('Z_Score', axis=1)\n",
    "cleaned_df.head()"
   ]
  },
  {
   "cell_type": "markdown",
   "metadata": {},
   "source": [
    "Checking for Outliers in Country Column"
   ]
  },
  {
   "cell_type": "code",
   "execution_count": 137,
   "metadata": {},
   "outputs": [
    {
     "name": "stdout",
     "output_type": "stream",
     "text": [
      "Outliers identified by Z-Score method:\n",
      "         job_id  company_id                             company  \\\n",
      "153  3757922135     2957445                          FareHarbor   \n",
      "237  3757917244        5262  DSV Global Transport and Logistics   \n",
      "417  3757912791        5262  DSV Global Transport and Logistics   \n",
      "432  3757912436      162552                                 ASM   \n",
      "481  3757911409       68941                           Kronospan   \n",
      "\n",
      "          location  country                         required_skill  \\\n",
      "153  San Francisco        5    Engineering, Information Technology   \n",
      "237        Phoenix        6    General Business, Other, Consulting   \n",
      "417       Torrance        6  General Business, Supply Chain, Other   \n",
      "432        Phoenix        5                                  Other   \n",
      "481       Anniston        7              Management, Manufacturing   \n",
      "\n",
      "     experience_level   Z_Score  \n",
      "153                 2  1.190742  \n",
      "237                 2  1.535965  \n",
      "417                 2  1.535965  \n",
      "432                 4  1.190742  \n",
      "481                 2  1.881188  \n"
     ]
    }
   ],
   "source": [
    "cleaned_df['Z_Score'] = np.abs(stats.zscore(cleaned_df['country'], nan_policy='omit'))\n",
    "threshold = 1\n",
    "outliers_z = cleaned_df[cleaned_df['Z_Score'] > threshold]\n",
    "print(\"Outliers identified by Z-Score method:\")\n",
    "print(outliers_z.head())"
   ]
  },
  {
   "cell_type": "code",
   "execution_count": 144,
   "metadata": {},
   "outputs": [
    {
     "data": {
      "image/png": "[encoded data removed]",
      "text/plain": [
       "<Figure size 1200x1200 with 1 Axes>"
      ]
     },
     "metadata": {},
     "output_type": "display_data"
    }
   ],
   "source": [
    "plt.figure(figsize=(12, 12))\n",
    "plt.scatter(cleaned_df.index, cleaned_df['country'], color='blue', label='country')\n",
    "\n",
    "# Scatter plot for outliers\n",
    "plt.scatter(outliers_z.index, outliers_z['country'], color='red', label='Z-scores Outliers')\n",
    "plt.title(\"Scatter Plot of country\")\n",
    "plt.xlabel(\"Index\")\n",
    "plt.ylabel(\"country\")\n",
    "plt.legend()\n",
    "\n",
    "plt.yticks(range(1, 51))\n",
    "\n",
    "plt.show()"
   ]
  },
  {
   "cell_type": "code",
   "execution_count": 147,
   "metadata": {},
   "outputs": [],
   "source": [
    "country_counts = cleaned_df['country'].value_counts()\n",
    "\n",
    "# Define the percentile threshold, e.g., 95th percentile\n",
    "threshold_percentile = 99\n",
    "\n",
    "# Calculate the threshold based on the percentile\n",
    "threshold_value = country_counts.quantile(q=threshold_percentile / 100)\n",
    "\n",
    "# Identify outliers based on the threshold\n",
    "outliers_dist = country_counts[country_counts < threshold_value]\n"
   ]
  },
  {
   "cell_type": "code",
   "execution_count": 149,
   "metadata": {},
   "outputs": [
    {
     "data": {
      "image/png": "[encoded data removed]",
      "text/plain": [
       "<Figure size 1000x600 with 1 Axes>"
      ]
     },
     "metadata": {},
     "output_type": "display_data"
    }
   ],
   "source": [
    "plt.figure(figsize=(10, 6))\n",
    "outliers_dist.plot(kind='bar')\n",
    "plt.title('Distribution Rate of non US countries ')\n",
    "plt.xlabel('Country')\n",
    "plt.ylabel('Count')\n",
    "plt.show()"
   ]
  },
  {
   "cell_type": "code",
   "execution_count": 141,
   "metadata": {},
   "outputs": [
    {
     "data": {
      "image/png": "[encoded data removed]",
      "text/plain": [
       "<Figure size 1000x600 with 1 Axes>"
      ]
     },
     "metadata": {},
     "output_type": "display_data"
    }
   ],
   "source": [
    "non_outliers = country_counts[country_counts >= threshold_value]\n",
    "\n",
    "plt.figure(figsize=(10, 6))\n",
    "non_outliers.plot(kind='bar', color='blue', label='Non-Outliers')\n",
    "outliers_dist.plot(kind='bar', color='red', label='Outliers')\n",
    "plt.title('Outliers vs Non-Outliers Based on Distribution Rate')\n",
    "plt.xlabel('Country')\n",
    "plt.ylabel('Count')\n",
    "plt.legend()\n",
    "plt.show()"
   ]
  },
  {
   "cell_type": "markdown",
   "metadata": {},
   "source": [
    "### SMOTE Algorithm"
   ]
  },
  {
   "cell_type": "code",
   "execution_count": 157,
   "metadata": {},
   "outputs": [
    {
     "data": {
      "image/png": "[encoded data removed]",
      "text/plain": [
       "<Figure size 1200x500 with 2 Axes>"
      ]
     },
     "metadata": {},
     "output_type": "display_data"
    }
   ],
   "source": [
    "# Sample a subset of your data for faster visualization and testing\n",
    "sample_size = 10000\n",
    "df_sample = cleaned_df.sample(sample_size, random_state=42)\n",
    "\n",
    "# Visualize class distribution before SMOTE for the sample\n",
    "plt.figure(figsize=(12, 5))\n",
    "plt.subplot(1, 2, 1)\n",
    "df_sample['experience_level'].value_counts().plot(kind='bar', color='skyblue')\n",
    "plt.title('Class Distribution Before SMOTE (Sample)')\n",
    "plt.xlabel('Experience Level')\n",
    "plt.ylabel('Count')\n",
    "\n",
    "# Prepare data for modeling\n",
    "X_sample = pd.get_dummies(df_sample.drop(['experience_level'], axis=1))\n",
    "y_sample = df_sample['experience_level']\n",
    "\n",
    "# Handle NaN values using simple imputation\n",
    "imputer = SimpleImputer(strategy='mean')  # You can use other strategies as needed\n",
    "X_sample_imputed = pd.DataFrame(imputer.fit_transform(X_sample), columns=X_sample.columns)\n",
    "\n",
    "# Determine the appropriate number of neighbors\n",
    "n_neighbors = min(5, X_sample_imputed.shape[0] - 1)  # Set an appropriate maximum value\n",
    "if n_neighbors >= X_sample_imputed.shape[0]:\n",
    "    n_neighbors = X_sample_imputed.shape[0] - 1\n",
    "\n",
    "# Split the sample dataset into training and testing sets\n",
    "X_train_sample, X_test_sample, y_train_sample, y_test_sample = train_test_split(\n",
    "    X_sample_imputed, y_sample, test_size=0.2, random_state=42\n",
    ")\n",
    "\n",
    "# Apply SMOTE to balance the sample dataset\n",
    "smote = SMOTE(random_state=42, k_neighbors=min(n_neighbors, X_train_sample.shape[0] - 1))\n",
    "X_train_resampled_sample, y_train_resampled_sample = smote.fit_resample(\n",
    "    X_train_sample, y_train_sample\n",
    ")\n",
    "\n",
    "# Visualize class distribution after SMOTE for the sample\n",
    "plt.subplot(1, 2, 2)\n",
    "pd.Series(y_train_resampled_sample).value_counts().plot(kind='bar', color='skyblue')\n",
    "plt.title('Class Distribution After SMOTE (Sample)')\n",
    "plt.xlabel('Experience Level')\n",
    "plt.ylabel('Count')\n",
    "\n",
    "plt.tight_layout()\n",
    "plt.show()"
   ]
  }
 ],
 "metadata": {
  "kernelspec": {
   "display_name": "Python 3",
   "language": "python",
   "name": "python3"
  },
  "language_info": {
   "codemirror_mode": {
    "name": "ipython",
    "version": 3
   },
   "file_extension": ".py",
   "mimetype": "text/x-python",
   "name": "python",
   "nbconvert_exporter": "python",
   "pygments_lexer": "ipython3",
   "version": "3.12.1"
  }
 },
 "nbformat": 4,
 "nbformat_minor": 2
}
