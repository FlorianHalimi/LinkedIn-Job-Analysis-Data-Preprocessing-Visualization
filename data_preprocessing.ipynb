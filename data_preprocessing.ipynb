{
 "cells": [
  {
   "cell_type": "markdown",
   "metadata": {},
   "source": [
    "### Data preprocessing of LinkedIn Job Postings Dataset\n",
    "#### Setup and Library Installation"
   ]
  },
  {
   "cell_type": "code",
   "execution_count": null,
   "metadata": {},
   "outputs": [],
   "source": [
    "%pip install pandas"
   ]
  },
  {
   "cell_type": "markdown",
   "metadata": {},
   "source": [
    "#### Library Imports\n",
    "\n"
   ]
  },
  {
   "cell_type": "code",
   "execution_count": 1,
   "metadata": {},
   "outputs": [],
   "source": [
    "import pandas as pd\n",
    "import re"
   ]
  },
  {
   "cell_type": "markdown",
   "metadata": {},
   "source": [
    "#### Loading Data"
   ]
  },
  {
   "cell_type": "code",
   "execution_count": 2,
   "metadata": {},
   "outputs": [],
   "source": [
    "# Load datasets from the CSV files for analysis.\n",
    "job_postings = pd.read_csv('data/job_postings.csv')\n",
    "job_skills = pd.read_csv('data/job_details/job_skills.csv')\n",
    "\n",
    "companies = pd.read_csv('data/company_details/companies.csv')\n",
    "mapping_skills = pd.read_csv('data/maps/skills.csv')"
   ]
  },
  {
   "cell_type": "markdown",
   "metadata": {},
   "source": [
    "#### Dataset summary"
   ]
  },
  {
   "cell_type": "code",
   "execution_count": 3,
   "metadata": {},
   "outputs": [
    {
     "data": {
      "text/plain": [
       "{'job_postings': 33246, 'job_skills': 32422, 'companies': 11361, 'skills': 35}"
      ]
     },
     "execution_count": 3,
     "metadata": {},
     "output_type": "execute_result"
    }
   ],
   "source": [
    "unique_values = {\n",
    "    'job_postings': job_postings['job_id'].nunique(), # details of job postings\n",
    "    'job_skills': job_skills['job_id'].nunique(), # job posting with the required skill abbreviated\n",
    "    'companies': companies['company_id'].nunique(), # information on the company\n",
    "    'skills': mapping_skills['skill_name'].nunique() # maps between skill abbreviations and full skill names\n",
    "    }\n",
    "unique_values"
   ]
  },
  {
   "cell_type": "markdown",
   "metadata": {},
   "source": [
    "#### Handling the integration of job_skills with mapping_skills\n",
    "Merging job_skills with mapping_skills"
   ]
  },
  {
   "cell_type": "code",
   "execution_count": 4,
   "metadata": {},
   "outputs": [
    {
     "data": {
      "text/html": [
       "<div>\n",
       "<style scoped>\n",
       "    .dataframe tbody tr th:only-of-type {\n",
       "        vertical-align: middle;\n",
       "    }\n",
       "\n",
       "    .dataframe tbody tr th {\n",
       "        vertical-align: top;\n",
       "    }\n",
       "\n",
       "    .dataframe thead th {\n",
       "        text-align: right;\n",
       "    }\n",
       "</style>\n",
       "<table border=\"1\" class=\"dataframe\">\n",
       "  <thead>\n",
       "    <tr style=\"text-align: right;\">\n",
       "      <th></th>\n",
       "      <th>job_id</th>\n",
       "      <th>skill_name</th>\n",
       "    </tr>\n",
       "  </thead>\n",
       "  <tbody>\n",
       "    <tr>\n",
       "      <th>0</th>\n",
       "      <td>3690843087</td>\n",
       "      <td>Accounting/Auditing</td>\n",
       "    </tr>\n",
       "    <tr>\n",
       "      <th>1</th>\n",
       "      <td>3690843087</td>\n",
       "      <td>Finance</td>\n",
       "    </tr>\n",
       "    <tr>\n",
       "      <th>2</th>\n",
       "      <td>3691763971</td>\n",
       "      <td>Management</td>\n",
       "    </tr>\n",
       "    <tr>\n",
       "      <th>3</th>\n",
       "      <td>3691763971</td>\n",
       "      <td>Manufacturing</td>\n",
       "    </tr>\n",
       "    <tr>\n",
       "      <th>4</th>\n",
       "      <td>3691775263</td>\n",
       "      <td>Management</td>\n",
       "    </tr>\n",
       "  </tbody>\n",
       "</table>\n",
       "</div>"
      ],
      "text/plain": [
       "       job_id           skill_name\n",
       "0  3690843087  Accounting/Auditing\n",
       "1  3690843087              Finance\n",
       "2  3691763971           Management\n",
       "3  3691763971        Manufacturing\n",
       "4  3691775263           Management"
      ]
     },
     "execution_count": 4,
     "metadata": {},
     "output_type": "execute_result"
    }
   ],
   "source": [
    "# Merging job_skills with mapping_skills to replace skill_abr with skill_name\n",
    "merged_skills = pd.merge(job_skills, mapping_skills, on='skill_abr', how='left')\n",
    "merged_skills = merged_skills.drop('skill_abr', axis=1)\n",
    "merged_skills.head()"
   ]
  },
  {
   "cell_type": "markdown",
   "metadata": {},
   "source": [
    "Aggregating Skills by Job ID"
   ]
  },
  {
   "cell_type": "code",
   "execution_count": 5,
   "metadata": {},
   "outputs": [
    {
     "name": "stdout",
     "output_type": "stream",
     "text": [
      "           job_id                                    skill_name\n",
      "0         3958427  Design, Art/Creative, Information Technology\n",
      "1        85008768                   Sales, Business Development\n",
      "2       102339515                   Business Development, Sales\n",
      "3       108965123                                Administrative\n",
      "4       133114754                   Sales, Business Development\n",
      "...           ...                                           ...\n",
      "32417  3757937095                        Information Technology\n",
      "32418  3757938018                     Management, Manufacturing\n",
      "32419  3757938019                                   Engineering\n",
      "32420  3757940025                     Management, Manufacturing\n",
      "32421  3757940104                                         Other\n",
      "\n",
      "[32422 rows x 2 columns]\n"
     ]
    }
   ],
   "source": [
    "# Aggregation process is done to handle duplicate 'job_id's resulting from multiple skills per job:\n",
    "\n",
    "# Grouping by 'job_id' and concatenating 'skill_name' values\n",
    "grouped_skills = merged_skills.groupby('job_id')['skill_name'].agg(lambda x: ', '.join(x)).reset_index()\n",
    "\n",
    "# Display the resulting DataFrame with unique 'job_id' rows and concatenated skills\n",
    "print(grouped_skills)"
   ]
  },
  {
   "cell_type": "markdown",
   "metadata": {},
   "source": [
    "#### Handling the integration of job_postings with grouped_skills\n",
    "Checking for missing data in Company ID's"
   ]
  },
  {
   "cell_type": "code",
   "execution_count": 6,
   "metadata": {},
   "outputs": [
    {
     "data": {
      "text/plain": [
       "654"
      ]
     },
     "execution_count": 6,
     "metadata": {},
     "output_type": "execute_result"
    }
   ],
   "source": [
    "missing_id = job_postings['company_id'].isnull().sum()\n",
    "missing_id"
   ]
  },
  {
   "cell_type": "markdown",
   "metadata": {},
   "source": [
    "Dropping rows with empty company_id's"
   ]
  },
  {
   "cell_type": "code",
   "execution_count": 7,
   "metadata": {},
   "outputs": [
    {
     "data": {
      "text/plain": [
       "(32592, 28)"
      ]
     },
     "execution_count": 7,
     "metadata": {},
     "output_type": "execute_result"
    }
   ],
   "source": [
    "job_postings.dropna(subset=['company_id'], inplace=True)\n",
    "job_postings.shape"
   ]
  },
  {
   "cell_type": "code",
   "execution_count": 8,
   "metadata": {},
   "outputs": [
    {
     "data": {
      "text/plain": [
       "0"
      ]
     },
     "execution_count": 8,
     "metadata": {},
     "output_type": "execute_result"
    }
   ],
   "source": [
    "missing_id = job_postings['company_id'].isnull().sum()\n",
    "missing_id"
   ]
  },
  {
   "cell_type": "markdown",
   "metadata": {},
   "source": [
    "Merging job_postings with grouped_skills"
   ]
  },
  {
   "cell_type": "code",
   "execution_count": 9,
   "metadata": {},
   "outputs": [
    {
     "data": {
      "text/html": [
       "<div>\n",
       "<style scoped>\n",
       "    .dataframe tbody tr th:only-of-type {\n",
       "        vertical-align: middle;\n",
       "    }\n",
       "\n",
       "    .dataframe tbody tr th {\n",
       "        vertical-align: top;\n",
       "    }\n",
       "\n",
       "    .dataframe thead th {\n",
       "        text-align: right;\n",
       "    }\n",
       "</style>\n",
       "<table border=\"1\" class=\"dataframe\">\n",
       "  <thead>\n",
       "    <tr style=\"text-align: right;\">\n",
       "      <th></th>\n",
       "      <th>job_id</th>\n",
       "      <th>company_id</th>\n",
       "      <th>title</th>\n",
       "      <th>description</th>\n",
       "      <th>max_salary</th>\n",
       "      <th>med_salary</th>\n",
       "      <th>min_salary</th>\n",
       "      <th>pay_period</th>\n",
       "      <th>formatted_work_type</th>\n",
       "      <th>location</th>\n",
       "      <th>...</th>\n",
       "      <th>formatted_experience_level</th>\n",
       "      <th>skills_desc</th>\n",
       "      <th>listed_time</th>\n",
       "      <th>posting_domain</th>\n",
       "      <th>sponsored</th>\n",
       "      <th>work_type</th>\n",
       "      <th>currency</th>\n",
       "      <th>compensation_type</th>\n",
       "      <th>scraped</th>\n",
       "      <th>skill_name</th>\n",
       "    </tr>\n",
       "  </thead>\n",
       "  <tbody>\n",
       "    <tr>\n",
       "      <th>0</th>\n",
       "      <td>3757940104</td>\n",
       "      <td>553718</td>\n",
       "      <td>Hearing Care Provider</td>\n",
       "      <td>Overview\\n\\nHearingLife is a national hearing ...</td>\n",
       "      <td>NaN</td>\n",
       "      <td>5250.00</td>\n",
       "      <td>NaN</td>\n",
       "      <td>MONTHLY</td>\n",
       "      <td>Full-time</td>\n",
       "      <td>Little River, SC</td>\n",
       "      <td>...</td>\n",
       "      <td>Entry level</td>\n",
       "      <td>NaN</td>\n",
       "      <td>1.699090e+12</td>\n",
       "      <td>careers-demant.icims.com</td>\n",
       "      <td>0</td>\n",
       "      <td>FULL_TIME</td>\n",
       "      <td>USD</td>\n",
       "      <td>BASE_SALARY</td>\n",
       "      <td>1699138101</td>\n",
       "      <td>Other</td>\n",
       "    </tr>\n",
       "    <tr>\n",
       "      <th>1</th>\n",
       "      <td>3757940025</td>\n",
       "      <td>2192142</td>\n",
       "      <td>Shipping &amp; Receiving Associate 2nd shift (Beav...</td>\n",
       "      <td>Metalcraft of Mayville\\nMetalcraft of Mayville...</td>\n",
       "      <td>NaN</td>\n",
       "      <td>NaN</td>\n",
       "      <td>NaN</td>\n",
       "      <td>NaN</td>\n",
       "      <td>Full-time</td>\n",
       "      <td>Beaver Dam, WI</td>\n",
       "      <td>...</td>\n",
       "      <td>NaN</td>\n",
       "      <td>NaN</td>\n",
       "      <td>1.699080e+12</td>\n",
       "      <td>www.click2apply.net</td>\n",
       "      <td>0</td>\n",
       "      <td>FULL_TIME</td>\n",
       "      <td>NaN</td>\n",
       "      <td>NaN</td>\n",
       "      <td>1699085420</td>\n",
       "      <td>Management, Manufacturing</td>\n",
       "    </tr>\n",
       "    <tr>\n",
       "      <th>2</th>\n",
       "      <td>3757938019</td>\n",
       "      <td>474443</td>\n",
       "      <td>Manager, Engineering</td>\n",
       "      <td>\\nThe TSUBAKI name is synonymous with excellen...</td>\n",
       "      <td>NaN</td>\n",
       "      <td>NaN</td>\n",
       "      <td>NaN</td>\n",
       "      <td>NaN</td>\n",
       "      <td>Full-time</td>\n",
       "      <td>Bessemer, AL</td>\n",
       "      <td>...</td>\n",
       "      <td>NaN</td>\n",
       "      <td>Bachelor's Degree in Mechanical Engineering pr...</td>\n",
       "      <td>1.699080e+12</td>\n",
       "      <td>www.click2apply.net</td>\n",
       "      <td>0</td>\n",
       "      <td>FULL_TIME</td>\n",
       "      <td>NaN</td>\n",
       "      <td>NaN</td>\n",
       "      <td>1699085644</td>\n",
       "      <td>Engineering</td>\n",
       "    </tr>\n",
       "    <tr>\n",
       "      <th>3</th>\n",
       "      <td>3757938018</td>\n",
       "      <td>18213359</td>\n",
       "      <td>Cook</td>\n",
       "      <td>descriptionTitle\\n\\n Looking for a great oppor...</td>\n",
       "      <td>NaN</td>\n",
       "      <td>22.27</td>\n",
       "      <td>NaN</td>\n",
       "      <td>HOURLY</td>\n",
       "      <td>Full-time</td>\n",
       "      <td>Aliso Viejo, CA</td>\n",
       "      <td>...</td>\n",
       "      <td>Entry level</td>\n",
       "      <td>NaN</td>\n",
       "      <td>1.699080e+12</td>\n",
       "      <td>jobs.apploi.com</td>\n",
       "      <td>0</td>\n",
       "      <td>FULL_TIME</td>\n",
       "      <td>USD</td>\n",
       "      <td>BASE_SALARY</td>\n",
       "      <td>1699087461</td>\n",
       "      <td>Management, Manufacturing</td>\n",
       "    </tr>\n",
       "    <tr>\n",
       "      <th>4</th>\n",
       "      <td>3757937095</td>\n",
       "      <td>437225</td>\n",
       "      <td>Principal Cloud Security Architect (Remote)</td>\n",
       "      <td>Job Summary\\nAt iHerb, we are on a mission to ...</td>\n",
       "      <td>275834.0</td>\n",
       "      <td>NaN</td>\n",
       "      <td>205956.0</td>\n",
       "      <td>YEARLY</td>\n",
       "      <td>Full-time</td>\n",
       "      <td>United States</td>\n",
       "      <td>...</td>\n",
       "      <td>Mid-Senior level</td>\n",
       "      <td>NaN</td>\n",
       "      <td>1.699090e+12</td>\n",
       "      <td>careers.iherb.com</td>\n",
       "      <td>0</td>\n",
       "      <td>FULL_TIME</td>\n",
       "      <td>USD</td>\n",
       "      <td>BASE_SALARY</td>\n",
       "      <td>1699085346</td>\n",
       "      <td>Information Technology</td>\n",
       "    </tr>\n",
       "  </tbody>\n",
       "</table>\n",
       "<p>5 rows × 29 columns</p>\n",
       "</div>"
      ],
      "text/plain": [
       "       job_id  company_id                                              title  \\\n",
       "0  3757940104      553718                              Hearing Care Provider   \n",
       "1  3757940025     2192142  Shipping & Receiving Associate 2nd shift (Beav...   \n",
       "2  3757938019      474443                               Manager, Engineering   \n",
       "3  3757938018    18213359                                               Cook   \n",
       "4  3757937095      437225        Principal Cloud Security Architect (Remote)   \n",
       "\n",
       "                                         description  max_salary  med_salary  \\\n",
       "0  Overview\\n\\nHearingLife is a national hearing ...         NaN     5250.00   \n",
       "1  Metalcraft of Mayville\\nMetalcraft of Mayville...         NaN         NaN   \n",
       "2  \\nThe TSUBAKI name is synonymous with excellen...         NaN         NaN   \n",
       "3  descriptionTitle\\n\\n Looking for a great oppor...         NaN       22.27   \n",
       "4  Job Summary\\nAt iHerb, we are on a mission to ...    275834.0         NaN   \n",
       "\n",
       "   min_salary pay_period formatted_work_type          location  ...  \\\n",
       "0         NaN    MONTHLY           Full-time  Little River, SC  ...   \n",
       "1         NaN        NaN           Full-time    Beaver Dam, WI  ...   \n",
       "2         NaN        NaN           Full-time      Bessemer, AL  ...   \n",
       "3         NaN     HOURLY           Full-time   Aliso Viejo, CA  ...   \n",
       "4    205956.0     YEARLY           Full-time     United States  ...   \n",
       "\n",
       "   formatted_experience_level  \\\n",
       "0                 Entry level   \n",
       "1                         NaN   \n",
       "2                         NaN   \n",
       "3                 Entry level   \n",
       "4            Mid-Senior level   \n",
       "\n",
       "                                         skills_desc   listed_time  \\\n",
       "0                                                NaN  1.699090e+12   \n",
       "1                                                NaN  1.699080e+12   \n",
       "2  Bachelor's Degree in Mechanical Engineering pr...  1.699080e+12   \n",
       "3                                                NaN  1.699080e+12   \n",
       "4                                                NaN  1.699090e+12   \n",
       "\n",
       "             posting_domain sponsored  work_type currency  compensation_type  \\\n",
       "0  careers-demant.icims.com         0  FULL_TIME      USD        BASE_SALARY   \n",
       "1       www.click2apply.net         0  FULL_TIME      NaN                NaN   \n",
       "2       www.click2apply.net         0  FULL_TIME      NaN                NaN   \n",
       "3           jobs.apploi.com         0  FULL_TIME      USD        BASE_SALARY   \n",
       "4         careers.iherb.com         0  FULL_TIME      USD        BASE_SALARY   \n",
       "\n",
       "      scraped                 skill_name  \n",
       "0  1699138101                      Other  \n",
       "1  1699085420  Management, Manufacturing  \n",
       "2  1699085644                Engineering  \n",
       "3  1699087461  Management, Manufacturing  \n",
       "4  1699085346     Information Technology  \n",
       "\n",
       "[5 rows x 29 columns]"
      ]
     },
     "execution_count": 9,
     "metadata": {},
     "output_type": "execute_result"
    }
   ],
   "source": [
    "merged_job_postings_skills = pd.merge(job_postings, grouped_skills, on='job_id', how='left')\n",
    "\n",
    "# If null values exist, column values are saved as float, therefore we convert them back to int\n",
    "if 'company_id' in merged_job_postings_skills.columns:\n",
    "    merged_job_postings_skills['company_id'] = merged_job_postings_skills['company_id'].astype('Int64')\n",
    "    \n",
    "merged_job_postings_skills.head()"
   ]
  },
  {
   "cell_type": "markdown",
   "metadata": {},
   "source": [
    "Reducing dimensionality of merged_job_postings_skills by dropping unnecessary columns"
   ]
  },
  {
   "cell_type": "code",
   "execution_count": 10,
   "metadata": {},
   "outputs": [
    {
     "data": {
      "text/html": [
       "<div>\n",
       "<style scoped>\n",
       "    .dataframe tbody tr th:only-of-type {\n",
       "        vertical-align: middle;\n",
       "    }\n",
       "\n",
       "    .dataframe tbody tr th {\n",
       "        vertical-align: top;\n",
       "    }\n",
       "\n",
       "    .dataframe thead th {\n",
       "        text-align: right;\n",
       "    }\n",
       "</style>\n",
       "<table border=\"1\" class=\"dataframe\">\n",
       "  <thead>\n",
       "    <tr style=\"text-align: right;\">\n",
       "      <th></th>\n",
       "      <th>job_id</th>\n",
       "      <th>company_id</th>\n",
       "      <th>location</th>\n",
       "      <th>formatted_experience_level</th>\n",
       "      <th>skill_name</th>\n",
       "    </tr>\n",
       "  </thead>\n",
       "  <tbody>\n",
       "    <tr>\n",
       "      <th>0</th>\n",
       "      <td>3757940104</td>\n",
       "      <td>553718</td>\n",
       "      <td>Little River, SC</td>\n",
       "      <td>Entry level</td>\n",
       "      <td>Other</td>\n",
       "    </tr>\n",
       "    <tr>\n",
       "      <th>1</th>\n",
       "      <td>3757940025</td>\n",
       "      <td>2192142</td>\n",
       "      <td>Beaver Dam, WI</td>\n",
       "      <td>NaN</td>\n",
       "      <td>Management, Manufacturing</td>\n",
       "    </tr>\n",
       "    <tr>\n",
       "      <th>2</th>\n",
       "      <td>3757938019</td>\n",
       "      <td>474443</td>\n",
       "      <td>Bessemer, AL</td>\n",
       "      <td>NaN</td>\n",
       "      <td>Engineering</td>\n",
       "    </tr>\n",
       "    <tr>\n",
       "      <th>3</th>\n",
       "      <td>3757938018</td>\n",
       "      <td>18213359</td>\n",
       "      <td>Aliso Viejo, CA</td>\n",
       "      <td>Entry level</td>\n",
       "      <td>Management, Manufacturing</td>\n",
       "    </tr>\n",
       "    <tr>\n",
       "      <th>4</th>\n",
       "      <td>3757937095</td>\n",
       "      <td>437225</td>\n",
       "      <td>United States</td>\n",
       "      <td>Mid-Senior level</td>\n",
       "      <td>Information Technology</td>\n",
       "    </tr>\n",
       "  </tbody>\n",
       "</table>\n",
       "</div>"
      ],
      "text/plain": [
       "       job_id  company_id          location formatted_experience_level  \\\n",
       "0  3757940104      553718  Little River, SC                Entry level   \n",
       "1  3757940025     2192142    Beaver Dam, WI                        NaN   \n",
       "2  3757938019      474443      Bessemer, AL                        NaN   \n",
       "3  3757938018    18213359   Aliso Viejo, CA                Entry level   \n",
       "4  3757937095      437225     United States           Mid-Senior level   \n",
       "\n",
       "                  skill_name  \n",
       "0                      Other  \n",
       "1  Management, Manufacturing  \n",
       "2                Engineering  \n",
       "3  Management, Manufacturing  \n",
       "4     Information Technology  "
      ]
     },
     "execution_count": 10,
     "metadata": {},
     "output_type": "execute_result"
    }
   ],
   "source": [
    "columns_to_drop = ['description', 'max_salary','med_salary','min_salary',\n",
    "                   'pay_period', 'applies', 'formatted_work_type', 'remote_allowed',\n",
    "                   'job_posting_url','views','title','application_url','application_type',\n",
    "                   'expiry','skills_desc','posting_domain','sponsored','original_listed_time',\n",
    "                   'work_type','currency','compensation_type','scraped','closed_time','listed_time'\n",
    "                   ]\n",
    "merged_job_postings_skills= merged_job_postings_skills.drop(columns=columns_to_drop,axis=1)\n",
    "merged_job_postings_skills.head()\n"
   ]
  },
  {
   "cell_type": "markdown",
   "metadata": {},
   "source": [
    "#### Handling the integration of merged_job_postings_skills with companies\n",
    "Merging merged_job_postings_skills with companies\n"
   ]
  },
  {
   "cell_type": "code",
   "execution_count": 11,
   "metadata": {},
   "outputs": [
    {
     "data": {
      "text/html": [
       "<div>\n",
       "<style scoped>\n",
       "    .dataframe tbody tr th:only-of-type {\n",
       "        vertical-align: middle;\n",
       "    }\n",
       "\n",
       "    .dataframe tbody tr th {\n",
       "        vertical-align: top;\n",
       "    }\n",
       "\n",
       "    .dataframe thead th {\n",
       "        text-align: right;\n",
       "    }\n",
       "</style>\n",
       "<table border=\"1\" class=\"dataframe\">\n",
       "  <thead>\n",
       "    <tr style=\"text-align: right;\">\n",
       "      <th></th>\n",
       "      <th>job_id</th>\n",
       "      <th>company_id</th>\n",
       "      <th>location</th>\n",
       "      <th>formatted_experience_level</th>\n",
       "      <th>skill_name</th>\n",
       "      <th>name</th>\n",
       "      <th>description</th>\n",
       "      <th>company_size</th>\n",
       "      <th>state</th>\n",
       "      <th>country</th>\n",
       "      <th>city</th>\n",
       "      <th>zip_code</th>\n",
       "      <th>address</th>\n",
       "      <th>url</th>\n",
       "    </tr>\n",
       "  </thead>\n",
       "  <tbody>\n",
       "    <tr>\n",
       "      <th>0</th>\n",
       "      <td>3757940104</td>\n",
       "      <td>553718</td>\n",
       "      <td>Little River, SC</td>\n",
       "      <td>Entry level</td>\n",
       "      <td>Other</td>\n",
       "      <td>HearingLife</td>\n",
       "      <td>HearingLife is a national hearing care company...</td>\n",
       "      <td>5.0</td>\n",
       "      <td>New Jersey</td>\n",
       "      <td>US</td>\n",
       "      <td>Somerset</td>\n",
       "      <td>08873</td>\n",
       "      <td>580 Howard Avenue</td>\n",
       "      <td>https://www.linkedin.com/company/hearing-life</td>\n",
       "    </tr>\n",
       "    <tr>\n",
       "      <th>1</th>\n",
       "      <td>3757940025</td>\n",
       "      <td>2192142</td>\n",
       "      <td>Beaver Dam, WI</td>\n",
       "      <td>NaN</td>\n",
       "      <td>Management, Manufacturing</td>\n",
       "      <td>Metalcraft of Mayville, Inc.</td>\n",
       "      <td>Headquartered in Mayville, Wisconsin, Metalcra...</td>\n",
       "      <td>4.0</td>\n",
       "      <td>WI</td>\n",
       "      <td>US</td>\n",
       "      <td>Mayville</td>\n",
       "      <td>53050</td>\n",
       "      <td>1000 Metalcraft Drive</td>\n",
       "      <td>https://www.linkedin.com/company/metalcraft-of...</td>\n",
       "    </tr>\n",
       "    <tr>\n",
       "      <th>2</th>\n",
       "      <td>3757938019</td>\n",
       "      <td>474443</td>\n",
       "      <td>Bessemer, AL</td>\n",
       "      <td>NaN</td>\n",
       "      <td>Engineering</td>\n",
       "      <td>U.S. Tsubaki Power Transmission, LLC</td>\n",
       "      <td>U.S. Tsubaki Power Transmission, LLC is a subs...</td>\n",
       "      <td>4.0</td>\n",
       "      <td>Illinois</td>\n",
       "      <td>US</td>\n",
       "      <td>Wheeling</td>\n",
       "      <td>60090</td>\n",
       "      <td>301E Marquardt Drive</td>\n",
       "      <td>https://www.linkedin.com/company/u.s.-tsubaki-...</td>\n",
       "    </tr>\n",
       "    <tr>\n",
       "      <th>3</th>\n",
       "      <td>3757938018</td>\n",
       "      <td>18213359</td>\n",
       "      <td>Aliso Viejo, CA</td>\n",
       "      <td>Entry level</td>\n",
       "      <td>Management, Manufacturing</td>\n",
       "      <td>Episcopal Communities &amp; Services</td>\n",
       "      <td>Episcopal Communities &amp; Services (ECS) has bec...</td>\n",
       "      <td>4.0</td>\n",
       "      <td>California</td>\n",
       "      <td>US</td>\n",
       "      <td>Altadena</td>\n",
       "      <td>91001</td>\n",
       "      <td>2212 El Molino Ave</td>\n",
       "      <td>https://www.linkedin.com/company/episcopal-com...</td>\n",
       "    </tr>\n",
       "    <tr>\n",
       "      <th>4</th>\n",
       "      <td>3757937095</td>\n",
       "      <td>437225</td>\n",
       "      <td>United States</td>\n",
       "      <td>Mid-Senior level</td>\n",
       "      <td>Information Technology</td>\n",
       "      <td>iHerb, LLC</td>\n",
       "      <td>iHerb is on a mission to make health and welln...</td>\n",
       "      <td>5.0</td>\n",
       "      <td>California</td>\n",
       "      <td>US</td>\n",
       "      <td>Irvine</td>\n",
       "      <td>92618</td>\n",
       "      <td>17400 Laguna Canyon Rd</td>\n",
       "      <td>https://www.linkedin.com/company/iherb</td>\n",
       "    </tr>\n",
       "  </tbody>\n",
       "</table>\n",
       "</div>"
      ],
      "text/plain": [
       "       job_id  company_id          location formatted_experience_level  \\\n",
       "0  3757940104      553718  Little River, SC                Entry level   \n",
       "1  3757940025     2192142    Beaver Dam, WI                        NaN   \n",
       "2  3757938019      474443      Bessemer, AL                        NaN   \n",
       "3  3757938018    18213359   Aliso Viejo, CA                Entry level   \n",
       "4  3757937095      437225     United States           Mid-Senior level   \n",
       "\n",
       "                  skill_name                                  name  \\\n",
       "0                      Other                           HearingLife   \n",
       "1  Management, Manufacturing          Metalcraft of Mayville, Inc.   \n",
       "2                Engineering  U.S. Tsubaki Power Transmission, LLC   \n",
       "3  Management, Manufacturing      Episcopal Communities & Services   \n",
       "4     Information Technology                            iHerb, LLC   \n",
       "\n",
       "                                         description  company_size  \\\n",
       "0  HearingLife is a national hearing care company...           5.0   \n",
       "1  Headquartered in Mayville, Wisconsin, Metalcra...           4.0   \n",
       "2  U.S. Tsubaki Power Transmission, LLC is a subs...           4.0   \n",
       "3  Episcopal Communities & Services (ECS) has bec...           4.0   \n",
       "4  iHerb is on a mission to make health and welln...           5.0   \n",
       "\n",
       "        state country      city zip_code                 address  \\\n",
       "0  New Jersey      US  Somerset    08873       580 Howard Avenue   \n",
       "1          WI      US  Mayville    53050   1000 Metalcraft Drive   \n",
       "2    Illinois      US  Wheeling    60090    301E Marquardt Drive   \n",
       "3  California      US  Altadena    91001      2212 El Molino Ave   \n",
       "4  California      US    Irvine    92618  17400 Laguna Canyon Rd   \n",
       "\n",
       "                                                 url  \n",
       "0      https://www.linkedin.com/company/hearing-life  \n",
       "1  https://www.linkedin.com/company/metalcraft-of...  \n",
       "2  https://www.linkedin.com/company/u.s.-tsubaki-...  \n",
       "3  https://www.linkedin.com/company/episcopal-com...  \n",
       "4             https://www.linkedin.com/company/iherb  "
      ]
     },
     "execution_count": 11,
     "metadata": {},
     "output_type": "execute_result"
    }
   ],
   "source": [
    "merged_data= pd.merge(merged_job_postings_skills, companies, on='company_id', how='left')\n",
    "merged_data.head()"
   ]
  },
  {
   "cell_type": "markdown",
   "metadata": {},
   "source": [
    "Reducing dimensionality by dropping unnecessary columns"
   ]
  },
  {
   "cell_type": "code",
   "execution_count": 12,
   "metadata": {},
   "outputs": [
    {
     "data": {
      "text/html": [
       "<div>\n",
       "<style scoped>\n",
       "    .dataframe tbody tr th:only-of-type {\n",
       "        vertical-align: middle;\n",
       "    }\n",
       "\n",
       "    .dataframe tbody tr th {\n",
       "        vertical-align: top;\n",
       "    }\n",
       "\n",
       "    .dataframe thead th {\n",
       "        text-align: right;\n",
       "    }\n",
       "</style>\n",
       "<table border=\"1\" class=\"dataframe\">\n",
       "  <thead>\n",
       "    <tr style=\"text-align: right;\">\n",
       "      <th></th>\n",
       "      <th>job_id</th>\n",
       "      <th>company_id</th>\n",
       "      <th>location</th>\n",
       "      <th>formatted_experience_level</th>\n",
       "      <th>skill_name</th>\n",
       "      <th>name</th>\n",
       "    </tr>\n",
       "  </thead>\n",
       "  <tbody>\n",
       "    <tr>\n",
       "      <th>0</th>\n",
       "      <td>3757940104</td>\n",
       "      <td>553718</td>\n",
       "      <td>Little River, SC</td>\n",
       "      <td>Entry level</td>\n",
       "      <td>Other</td>\n",
       "      <td>HearingLife</td>\n",
       "    </tr>\n",
       "    <tr>\n",
       "      <th>1</th>\n",
       "      <td>3757940025</td>\n",
       "      <td>2192142</td>\n",
       "      <td>Beaver Dam, WI</td>\n",
       "      <td>NaN</td>\n",
       "      <td>Management, Manufacturing</td>\n",
       "      <td>Metalcraft of Mayville, Inc.</td>\n",
       "    </tr>\n",
       "    <tr>\n",
       "      <th>2</th>\n",
       "      <td>3757938019</td>\n",
       "      <td>474443</td>\n",
       "      <td>Bessemer, AL</td>\n",
       "      <td>NaN</td>\n",
       "      <td>Engineering</td>\n",
       "      <td>U.S. Tsubaki Power Transmission, LLC</td>\n",
       "    </tr>\n",
       "    <tr>\n",
       "      <th>3</th>\n",
       "      <td>3757938018</td>\n",
       "      <td>18213359</td>\n",
       "      <td>Aliso Viejo, CA</td>\n",
       "      <td>Entry level</td>\n",
       "      <td>Management, Manufacturing</td>\n",
       "      <td>Episcopal Communities &amp; Services</td>\n",
       "    </tr>\n",
       "    <tr>\n",
       "      <th>4</th>\n",
       "      <td>3757937095</td>\n",
       "      <td>437225</td>\n",
       "      <td>United States</td>\n",
       "      <td>Mid-Senior level</td>\n",
       "      <td>Information Technology</td>\n",
       "      <td>iHerb, LLC</td>\n",
       "    </tr>\n",
       "  </tbody>\n",
       "</table>\n",
       "</div>"
      ],
      "text/plain": [
       "       job_id  company_id          location formatted_experience_level  \\\n",
       "0  3757940104      553718  Little River, SC                Entry level   \n",
       "1  3757940025     2192142    Beaver Dam, WI                        NaN   \n",
       "2  3757938019      474443      Bessemer, AL                        NaN   \n",
       "3  3757938018    18213359   Aliso Viejo, CA                Entry level   \n",
       "4  3757937095      437225     United States           Mid-Senior level   \n",
       "\n",
       "                  skill_name                                  name  \n",
       "0                      Other                           HearingLife  \n",
       "1  Management, Manufacturing          Metalcraft of Mayville, Inc.  \n",
       "2                Engineering  U.S. Tsubaki Power Transmission, LLC  \n",
       "3  Management, Manufacturing      Episcopal Communities & Services  \n",
       "4     Information Technology                            iHerb, LLC  "
      ]
     },
     "execution_count": 12,
     "metadata": {},
     "output_type": "execute_result"
    }
   ],
   "source": [
    "columns_to_drop = ['description','company_size','zip_code','url','address','state','country','city']\n",
    "merged_data= merged_data.drop(columns=columns_to_drop,axis=1)\n",
    "merged_data.head()"
   ]
  },
  {
   "cell_type": "markdown",
   "metadata": {},
   "source": [
    "Displaying data in a better order"
   ]
  },
  {
   "cell_type": "code",
   "execution_count": 13,
   "metadata": {},
   "outputs": [
    {
     "data": {
      "text/html": [
       "<div>\n",
       "<style scoped>\n",
       "    .dataframe tbody tr th:only-of-type {\n",
       "        vertical-align: middle;\n",
       "    }\n",
       "\n",
       "    .dataframe tbody tr th {\n",
       "        vertical-align: top;\n",
       "    }\n",
       "\n",
       "    .dataframe thead th {\n",
       "        text-align: right;\n",
       "    }\n",
       "</style>\n",
       "<table border=\"1\" class=\"dataframe\">\n",
       "  <thead>\n",
       "    <tr style=\"text-align: right;\">\n",
       "      <th></th>\n",
       "      <th>job_id</th>\n",
       "      <th>company_id</th>\n",
       "      <th>name</th>\n",
       "      <th>location</th>\n",
       "      <th>skill_name</th>\n",
       "      <th>formatted_experience_level</th>\n",
       "    </tr>\n",
       "  </thead>\n",
       "  <tbody>\n",
       "    <tr>\n",
       "      <th>0</th>\n",
       "      <td>3757940104</td>\n",
       "      <td>553718</td>\n",
       "      <td>HearingLife</td>\n",
       "      <td>Little River, SC</td>\n",
       "      <td>Other</td>\n",
       "      <td>Entry level</td>\n",
       "    </tr>\n",
       "    <tr>\n",
       "      <th>1</th>\n",
       "      <td>3757940025</td>\n",
       "      <td>2192142</td>\n",
       "      <td>Metalcraft of Mayville, Inc.</td>\n",
       "      <td>Beaver Dam, WI</td>\n",
       "      <td>Management, Manufacturing</td>\n",
       "      <td>NaN</td>\n",
       "    </tr>\n",
       "    <tr>\n",
       "      <th>2</th>\n",
       "      <td>3757938019</td>\n",
       "      <td>474443</td>\n",
       "      <td>U.S. Tsubaki Power Transmission, LLC</td>\n",
       "      <td>Bessemer, AL</td>\n",
       "      <td>Engineering</td>\n",
       "      <td>NaN</td>\n",
       "    </tr>\n",
       "    <tr>\n",
       "      <th>3</th>\n",
       "      <td>3757938018</td>\n",
       "      <td>18213359</td>\n",
       "      <td>Episcopal Communities &amp; Services</td>\n",
       "      <td>Aliso Viejo, CA</td>\n",
       "      <td>Management, Manufacturing</td>\n",
       "      <td>Entry level</td>\n",
       "    </tr>\n",
       "    <tr>\n",
       "      <th>4</th>\n",
       "      <td>3757937095</td>\n",
       "      <td>437225</td>\n",
       "      <td>iHerb, LLC</td>\n",
       "      <td>United States</td>\n",
       "      <td>Information Technology</td>\n",
       "      <td>Mid-Senior level</td>\n",
       "    </tr>\n",
       "  </tbody>\n",
       "</table>\n",
       "</div>"
      ],
      "text/plain": [
       "       job_id  company_id                                  name  \\\n",
       "0  3757940104      553718                           HearingLife   \n",
       "1  3757940025     2192142          Metalcraft of Mayville, Inc.   \n",
       "2  3757938019      474443  U.S. Tsubaki Power Transmission, LLC   \n",
       "3  3757938018    18213359      Episcopal Communities & Services   \n",
       "4  3757937095      437225                            iHerb, LLC   \n",
       "\n",
       "           location                 skill_name formatted_experience_level  \n",
       "0  Little River, SC                      Other                Entry level  \n",
       "1    Beaver Dam, WI  Management, Manufacturing                        NaN  \n",
       "2      Bessemer, AL                Engineering                        NaN  \n",
       "3   Aliso Viejo, CA  Management, Manufacturing                Entry level  \n",
       "4     United States     Information Technology           Mid-Senior level  "
      ]
     },
     "execution_count": 13,
     "metadata": {},
     "output_type": "execute_result"
    }
   ],
   "source": [
    "column_order = ['job_id','company_id','name','location','skill_name','formatted_experience_level']\n",
    "merged_data = merged_data[column_order]\n",
    "merged_data.head()"
   ]
  },
  {
   "cell_type": "markdown",
   "metadata": {},
   "source": [
    "#### Identify remaining missing data in the merged dataset\n",
    "Display columns with significant missing data"
   ]
  },
  {
   "cell_type": "code",
   "execution_count": 14,
   "metadata": {},
   "outputs": [
    {
     "data": {
      "text/plain": [
       "formatted_experience_level    8622\n",
       "skill_name                    1023\n",
       "name                            51\n",
       "dtype: int64"
      ]
     },
     "execution_count": 14,
     "metadata": {},
     "output_type": "execute_result"
    }
   ],
   "source": [
    "missing_data = merged_data.isnull().sum()\n",
    "significant_missing_columns = missing_data[missing_data > 0].sort_values(ascending=False)\n",
    "significant_missing_columns"
   ]
  },
  {
   "cell_type": "markdown",
   "metadata": {},
   "source": [
    "Handling missing values of 'name' column"
   ]
  },
  {
   "cell_type": "code",
   "execution_count": 15,
   "metadata": {},
   "outputs": [
    {
     "name": "stdout",
     "output_type": "stream",
     "text": [
      "Number of missing ID's: 51\n",
      "7305     76999667\n",
      "15698     3641332\n",
      "15706     3641332\n",
      "15968     3641332\n",
      "16405     3641332\n",
      "20379      165957\n",
      "20382     2313067\n",
      "20384     3079381\n",
      "20385      272676\n",
      "20387    64734122\n",
      "20389    27116461\n",
      "20391     4316275\n",
      "20392     1124883\n",
      "20393    19115854\n",
      "20394     1485063\n",
      "25366        2815\n",
      "25369     3514329\n",
      "25380     9215353\n",
      "25381    26489605\n",
      "25382    79378951\n",
      "25388    34771768\n",
      "32290    91187899\n",
      "32294     9516195\n",
      "32296    89908682\n",
      "32297    18872958\n",
      "32298       35602\n",
      "32300    18630069\n",
      "32302        3657\n",
      "32304    14615655\n",
      "32305       88684\n",
      "32306    10563070\n",
      "32307      371180\n",
      "32308     2902815\n",
      "32309    90633414\n",
      "32310    20338460\n",
      "32311     2899710\n",
      "32312      145145\n",
      "32314       90844\n",
      "32315     1434753\n",
      "32316     7573454\n",
      "32317     4781041\n",
      "32318      718651\n",
      "32319    86746333\n",
      "32320    82296828\n",
      "32321    82684341\n",
      "32322    96649998\n",
      "32323     2641066\n",
      "32355     6049228\n",
      "32525    10033339\n",
      "32536    81149246\n",
      "32580    16265700\n",
      "Name: company_id, dtype: Int64\n"
     ]
    }
   ],
   "source": [
    "missing_names = merged_data['name'].isnull().sum()\n",
    "\n",
    "null_name_indices = merged_data[merged_data['name'].isnull()]['company_id']\n",
    "print(\"Number of missing ID's:\", missing_names)\n",
    "print(null_name_indices)"
   ]
  },
  {
   "cell_type": "markdown",
   "metadata": {},
   "source": [
    "51 rows of company references in job_postings were non existent in the company id's dataset. "
   ]
  },
  {
   "cell_type": "markdown",
   "metadata": {},
   "source": [
    "Dropping columns where name is null"
   ]
  },
  {
   "cell_type": "code",
   "execution_count": 16,
   "metadata": {},
   "outputs": [],
   "source": [
    "merged_data.dropna(subset=['name'], inplace=True)"
   ]
  },
  {
   "cell_type": "markdown",
   "metadata": {},
   "source": [
    "Handling missing values of 'skill_name' column"
   ]
  },
  {
   "cell_type": "code",
   "execution_count": 17,
   "metadata": {},
   "outputs": [],
   "source": [
    "# Handling missing values of 'skill_name' column\n",
    "col_skill_fill_other = ['skill_name']\n",
    "for col in col_skill_fill_other:\n",
    "    merged_data[col].fillna(\"Other\", inplace=True)"
   ]
  },
  {
   "cell_type": "markdown",
   "metadata": {},
   "source": [
    "Handling missing values of 'formatted_experience_level' column"
   ]
  },
  {
   "cell_type": "code",
   "execution_count": 18,
   "metadata": {},
   "outputs": [],
   "source": [
    "# Categorical columns with missing values are filled with \"Not Specified\"\n",
    "col_experience_fill_not_specified = ['formatted_experience_level']\n",
    "for col in col_experience_fill_not_specified:\n",
    "    merged_data[col].fillna(\"Not Specified\", inplace=True)\n"
   ]
  },
  {
   "cell_type": "markdown",
   "metadata": {},
   "source": [
    "Check for remaining missing values"
   ]
  },
  {
   "cell_type": "code",
   "execution_count": 19,
   "metadata": {},
   "outputs": [
    {
     "data": {
      "text/plain": [
       "Series([], dtype: int64)"
      ]
     },
     "execution_count": 19,
     "metadata": {},
     "output_type": "execute_result"
    }
   ],
   "source": [
    "remaining_missing = merged_data.isnull().sum()\n",
    "remaining_missing_cols = remaining_missing[remaining_missing > 0].sort_values(ascending=False)\n",
    "remaining_missing_cols"
   ]
  },
  {
   "cell_type": "markdown",
   "metadata": {},
   "source": [
    "#### Categorizing experience level"
   ]
  },
  {
   "cell_type": "code",
   "execution_count": 20,
   "metadata": {},
   "outputs": [
    {
     "name": "stdout",
     "output_type": "stream",
     "text": [
      "Entry level\n",
      "Not Specified\n",
      "Mid-Senior level\n",
      "Director\n",
      "Associate\n",
      "Executive\n",
      "Internship\n"
     ]
    }
   ],
   "source": [
    "experience_levels = merged_data['formatted_experience_level'].unique()\n",
    "\n",
    "for value in experience_levels:\n",
    "    print(value)\n"
   ]
  },
  {
   "cell_type": "markdown",
   "metadata": {},
   "source": [
    "Mapping experience to their numeric new values"
   ]
  },
  {
   "cell_type": "code",
   "execution_count": 21,
   "metadata": {},
   "outputs": [],
   "source": [
    "experience_mapping = {\n",
    "    'Internship': 1,\n",
    "    'Entry level': 2,\n",
    "    'Associate':3, \n",
    "    'Mid-Senior level': 4,\n",
    "    'Director': 5,\n",
    "    'Executive': 6,\n",
    "    'Not Specified': 7\n",
    "}\n",
    "\n",
    "merged_data['formatted_experience_level'] = merged_data['formatted_experience_level'].map(experience_mapping)"
   ]
  },
  {
   "cell_type": "markdown",
   "metadata": {},
   "source": [
    "#### Cleaning data in 'name' attribute"
   ]
  },
  {
   "cell_type": "code",
   "execution_count": 22,
   "metadata": {},
   "outputs": [],
   "source": [
    "def clean_company_names(name):\n",
    "\n",
    "    # Remove special characters, except spaces and dots\n",
    "    name = re.sub(r'[^a-zA-Z0-9\\w\\s\\.]', '', name)\n",
    "\n",
    "    # Remove extra spaces\n",
    "    name = re.sub(r'\\s+', ' ', name).strip()\n",
    "\n",
    "    # Handle hyphens and apostrophes\n",
    "    name = name.replace('-', ' ')  # Replace hyphens with spaces\n",
    "    name = name.replace('\\'', '')  # Remove apostrophes\n",
    "    name = re.sub(r'\\s+', ' ', name)\n",
    "\n",
    "    return name\n",
    "\n",
    "merged_data['name'] = merged_data['name'].apply(clean_company_names)"
   ]
  },
  {
   "cell_type": "markdown",
   "metadata": {},
   "source": [
    "#### Extract City from 'location' attribute"
   ]
  },
  {
   "cell_type": "code",
   "execution_count": 23,
   "metadata": {},
   "outputs": [
    {
     "data": {
      "text/plain": [
       "(30175, 6)"
      ]
     },
     "execution_count": 23,
     "metadata": {},
     "output_type": "execute_result"
    }
   ],
   "source": [
    "def extract_city(location):\n",
    "    words = location.split()\n",
    "    if len(words) == 1:  # Check if the location has only one word\n",
    "        return None\n",
    "    parts = location.split(', ')\n",
    "    if len(parts) > 1:  # Check if the format is City, State, \n",
    "        return parts[0]\n",
    "    else:\n",
    "        if \"Metropolitan Area\" in location:\n",
    "            return location.split(\" Metropolitan Area\")[0]\n",
    "        elif \"Area\" in location or \"Greater\" in location:\n",
    "            return location\n",
    "        else:\n",
    "            return None\n",
    "\n",
    "# Apply the function to the 'location' column\n",
    "merged_data['location'] = merged_data['location'].apply(extract_city)\n",
    "merged_data = merged_data.dropna(subset=['location'])\n",
    "\n",
    "merged_data.shape"
   ]
  },
  {
   "cell_type": "markdown",
   "metadata": {},
   "source": [
    "#### Preprocessed Dataset"
   ]
  },
  {
   "cell_type": "markdown",
   "metadata": {},
   "source": [
    "Shape of the cleaned data"
   ]
  },
  {
   "cell_type": "code",
   "execution_count": 24,
   "metadata": {},
   "outputs": [
    {
     "data": {
      "text/plain": [
       "(30175, 6)"
      ]
     },
     "execution_count": 24,
     "metadata": {},
     "output_type": "execute_result"
    }
   ],
   "source": [
    "merged_data_cleaned = merged_data\n",
    "merged_data_cleaned.shape"
   ]
  },
  {
   "cell_type": "markdown",
   "metadata": {},
   "source": [
    "Rename column names "
   ]
  },
  {
   "cell_type": "code",
   "execution_count": 25,
   "metadata": {},
   "outputs": [],
   "source": [
    "\n",
    "merged_data_cleaned = merged_data_cleaned.rename(columns={'name':'company','skill_name':'required_skill',\n",
    "                                                           'formatted_experience_level':'experience_level'})\n",
    "\n",
    "merged_data_cleaned = merged_data_cleaned.sort_values('job_id', ascending=False)\n",
    "\n"
   ]
  },
  {
   "cell_type": "markdown",
   "metadata": {},
   "source": [
    "Display"
   ]
  },
  {
   "cell_type": "code",
   "execution_count": 26,
   "metadata": {},
   "outputs": [
    {
     "data": {
      "text/html": [
       "<div>\n",
       "<style scoped>\n",
       "    .dataframe tbody tr th:only-of-type {\n",
       "        vertical-align: middle;\n",
       "    }\n",
       "\n",
       "    .dataframe tbody tr th {\n",
       "        vertical-align: top;\n",
       "    }\n",
       "\n",
       "    .dataframe thead th {\n",
       "        text-align: right;\n",
       "    }\n",
       "</style>\n",
       "<table border=\"1\" class=\"dataframe\">\n",
       "  <thead>\n",
       "    <tr style=\"text-align: right;\">\n",
       "      <th></th>\n",
       "      <th>job_id</th>\n",
       "      <th>company_id</th>\n",
       "      <th>company</th>\n",
       "      <th>location</th>\n",
       "      <th>required_skill</th>\n",
       "      <th>experience_level</th>\n",
       "    </tr>\n",
       "  </thead>\n",
       "  <tbody>\n",
       "    <tr>\n",
       "      <th>0</th>\n",
       "      <td>3757940104</td>\n",
       "      <td>553718</td>\n",
       "      <td>HearingLife</td>\n",
       "      <td>Little River</td>\n",
       "      <td>Other</td>\n",
       "      <td>2</td>\n",
       "    </tr>\n",
       "    <tr>\n",
       "      <th>1</th>\n",
       "      <td>3757940025</td>\n",
       "      <td>2192142</td>\n",
       "      <td>Metalcraft of Mayville Inc.</td>\n",
       "      <td>Beaver Dam</td>\n",
       "      <td>Management, Manufacturing</td>\n",
       "      <td>7</td>\n",
       "    </tr>\n",
       "    <tr>\n",
       "      <th>2</th>\n",
       "      <td>3757938019</td>\n",
       "      <td>474443</td>\n",
       "      <td>U.S. Tsubaki Power Transmission LLC</td>\n",
       "      <td>Bessemer</td>\n",
       "      <td>Engineering</td>\n",
       "      <td>7</td>\n",
       "    </tr>\n",
       "    <tr>\n",
       "      <th>3</th>\n",
       "      <td>3757938018</td>\n",
       "      <td>18213359</td>\n",
       "      <td>Episcopal Communities Services</td>\n",
       "      <td>Aliso Viejo</td>\n",
       "      <td>Management, Manufacturing</td>\n",
       "      <td>2</td>\n",
       "    </tr>\n",
       "    <tr>\n",
       "      <th>6</th>\n",
       "      <td>3757937004</td>\n",
       "      <td>10515052</td>\n",
       "      <td>Boyd Group Services Inc.</td>\n",
       "      <td>Daytona Beach</td>\n",
       "      <td>Management, Manufacturing</td>\n",
       "      <td>2</td>\n",
       "    </tr>\n",
       "    <tr>\n",
       "      <th>...</th>\n",
       "      <td>...</td>\n",
       "      <td>...</td>\n",
       "      <td>...</td>\n",
       "      <td>...</td>\n",
       "      <td>...</td>\n",
       "      <td>...</td>\n",
       "    </tr>\n",
       "    <tr>\n",
       "      <th>32587</th>\n",
       "      <td>381055942</td>\n",
       "      <td>96654609</td>\n",
       "      <td>First Baptist Church Forney</td>\n",
       "      <td>Forney</td>\n",
       "      <td>Other</td>\n",
       "      <td>7</td>\n",
       "    </tr>\n",
       "    <tr>\n",
       "      <th>32588</th>\n",
       "      <td>133196985</td>\n",
       "      <td>1089558</td>\n",
       "      <td>Employvision Inc.</td>\n",
       "      <td>New York</td>\n",
       "      <td>Accounting/Auditing, Finance</td>\n",
       "      <td>7</td>\n",
       "    </tr>\n",
       "    <tr>\n",
       "      <th>32589</th>\n",
       "      <td>133114754</td>\n",
       "      <td>77766802</td>\n",
       "      <td>CargoLogin.</td>\n",
       "      <td>Santa Clarita</td>\n",
       "      <td>Sales, Business Development</td>\n",
       "      <td>7</td>\n",
       "    </tr>\n",
       "    <tr>\n",
       "      <th>32590</th>\n",
       "      <td>102339515</td>\n",
       "      <td>52132271</td>\n",
       "      <td>DryerVentz DuctVentz</td>\n",
       "      <td>Greater Boston</td>\n",
       "      <td>Business Development, Sales</td>\n",
       "      <td>7</td>\n",
       "    </tr>\n",
       "    <tr>\n",
       "      <th>32591</th>\n",
       "      <td>3958427</td>\n",
       "      <td>630152</td>\n",
       "      <td>Karen Marie Salon</td>\n",
       "      <td>Chicago</td>\n",
       "      <td>Design, Art/Creative, Information Technology</td>\n",
       "      <td>7</td>\n",
       "    </tr>\n",
       "  </tbody>\n",
       "</table>\n",
       "<p>30175 rows × 6 columns</p>\n",
       "</div>"
      ],
      "text/plain": [
       "           job_id  company_id                              company  \\\n",
       "0      3757940104      553718                          HearingLife   \n",
       "1      3757940025     2192142          Metalcraft of Mayville Inc.   \n",
       "2      3757938019      474443  U.S. Tsubaki Power Transmission LLC   \n",
       "3      3757938018    18213359       Episcopal Communities Services   \n",
       "6      3757937004    10515052             Boyd Group Services Inc.   \n",
       "...           ...         ...                                  ...   \n",
       "32587   381055942    96654609          First Baptist Church Forney   \n",
       "32588   133196985     1089558                    Employvision Inc.   \n",
       "32589   133114754    77766802                          CargoLogin.   \n",
       "32590   102339515    52132271                 DryerVentz DuctVentz   \n",
       "32591     3958427      630152                    Karen Marie Salon   \n",
       "\n",
       "             location                                required_skill  \\\n",
       "0        Little River                                         Other   \n",
       "1          Beaver Dam                     Management, Manufacturing   \n",
       "2            Bessemer                                   Engineering   \n",
       "3         Aliso Viejo                     Management, Manufacturing   \n",
       "6       Daytona Beach                     Management, Manufacturing   \n",
       "...               ...                                           ...   \n",
       "32587          Forney                                         Other   \n",
       "32588        New York                  Accounting/Auditing, Finance   \n",
       "32589   Santa Clarita                   Sales, Business Development   \n",
       "32590  Greater Boston                   Business Development, Sales   \n",
       "32591         Chicago  Design, Art/Creative, Information Technology   \n",
       "\n",
       "       experience_level  \n",
       "0                     2  \n",
       "1                     7  \n",
       "2                     7  \n",
       "3                     2  \n",
       "6                     2  \n",
       "...                 ...  \n",
       "32587                 7  \n",
       "32588                 7  \n",
       "32589                 7  \n",
       "32590                 7  \n",
       "32591                 7  \n",
       "\n",
       "[30175 rows x 6 columns]"
      ]
     },
     "execution_count": 26,
     "metadata": {},
     "output_type": "execute_result"
    }
   ],
   "source": [
    "merged_data_cleaned"
   ]
  },
  {
   "cell_type": "markdown",
   "metadata": {},
   "source": [
    "Save the preprocessed dataset to data_preprocessed.csv"
   ]
  },
  {
   "cell_type": "code",
   "execution_count": 32,
   "metadata": {},
   "outputs": [],
   "source": [
    "\n",
    "merged_data_cleaned.to_csv('data_preprocessed/job_postings.csv', index=False)"
   ]
  }
 ],
 "metadata": {
  "kernelspec": {
   "display_name": "Python 3",
   "language": "python",
   "name": "python3"
  },
  "language_info": {
   "codemirror_mode": {
    "name": "ipython",
    "version": 3
   },
   "file_extension": ".py",
   "mimetype": "text/x-python",
   "name": "python",
   "nbconvert_exporter": "python",
   "pygments_lexer": "ipython3",
   "version": "3.12.0"
  }
 },
 "nbformat": 4,
 "nbformat_minor": 2
}
