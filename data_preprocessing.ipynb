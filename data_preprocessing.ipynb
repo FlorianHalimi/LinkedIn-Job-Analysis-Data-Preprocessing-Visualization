{
 "cells": [
  {
   "cell_type": "code",
   "execution_count": null,
   "metadata": {},
   "outputs": [],
   "source": [
    "%pip install pandas\n",
    "%pip install matplotlib\n",
    "%pip install seaborn\n",
    "%pip install scikit-learn"
   ]
  },
  {
   "cell_type": "code",
   "execution_count": 197,
   "metadata": {},
   "outputs": [],
   "source": [
    "import pandas as pd\n",
    "import numpy as np\n",
    "import matplotlib.pyplot as plt\n",
    "import seaborn as sns\n",
    "import datetime\n",
    "import re\n",
    "from sklearn.feature_extraction.text import TfidfVectorizer\n",
    "from sklearn.decomposition import TruncatedSVD\n",
    "from sklearn.cluster import KMeans\n",
    "from sklearn.pipeline import make_pipeline"
   ]
  },
  {
   "cell_type": "code",
   "execution_count": 198,
   "metadata": {},
   "outputs": [],
   "source": [
    "# Load all datasets\n",
    "job_postings = pd.read_csv('data/job_postings.csv')\n",
    "job_skills = pd.read_csv('data/job_details/job_skills.csv')\n",
    "\n",
    "companies = pd.read_csv('data/company_details/companies.csv')\n",
    "skills = pd.read_csv('data/maps/skills.csv')"
   ]
  },
  {
   "cell_type": "code",
   "execution_count": 199,
   "metadata": {},
   "outputs": [
    {
     "data": {
      "text/plain": [
       "{'job_postings': 33246, 'job_skills': 32422, 'companies': 11361, 'skills': 35}"
      ]
     },
     "execution_count": 199,
     "metadata": {},
     "output_type": "execute_result"
    }
   ],
   "source": [
    "# Check the number of unique values in merging columns for each dataset\n",
    "unique_values = {\n",
    "    'job_postings': job_postings['job_id'].nunique(),\n",
    "    'job_skills': job_skills['job_id'].nunique(),\n",
    "    'companies': companies['company_id'].nunique(),\n",
    "    'skills': skills['skill_name'].nunique()\n",
    "}\n",
    "\n",
    "unique_values"
   ]
  },
  {
   "cell_type": "code",
   "execution_count": 200,
   "metadata": {},
   "outputs": [
    {
     "name": "stdout",
     "output_type": "stream",
     "text": [
      "           job_id              skill_name\n",
      "0      3690843087     Accounting/Auditing\n",
      "1      3690843087                 Finance\n",
      "2      3691763971              Management\n",
      "3      3691763971           Manufacturing\n",
      "4      3691775263              Management\n",
      "...           ...                     ...\n",
      "56586  3757780487    Health Care Provider\n",
      "56587  3757934256                  Design\n",
      "56588  3757934256            Art/Creative\n",
      "56589  3757934256  Information Technology\n",
      "56590  3757498232          Administrative\n",
      "\n",
      "[56591 rows x 2 columns]\n"
     ]
    }
   ],
   "source": [
    "# Merging skills and job_skills tables\n",
    "merged_skill = pd.merge(job_skills, skills, on='skill_abr', how='left')\n",
    "merged_skill = merged_skill.drop('skill_abr', axis=1)\n",
    "print(merged_skill)"
   ]
  },
  {
   "cell_type": "code",
   "execution_count": 201,
   "metadata": {},
   "outputs": [
    {
     "name": "stdout",
     "output_type": "stream",
     "text": [
      "           job_id                                    skill_name\n",
      "0         3958427  Design, Art/Creative, Information Technology\n",
      "1        85008768                   Sales, Business Development\n",
      "2       102339515                   Business Development, Sales\n",
      "3       108965123                                Administrative\n",
      "4       133114754                   Sales, Business Development\n",
      "...           ...                                           ...\n",
      "32417  3757937095                        Information Technology\n",
      "32418  3757938018                     Management, Manufacturing\n",
      "32419  3757938019                                   Engineering\n",
      "32420  3757940025                     Management, Manufacturing\n",
      "32421  3757940104                                         Other\n",
      "\n",
      "[32422 rows x 2 columns]\n"
     ]
    }
   ],
   "source": [
    "# Merge_skills has 56591 rows, but there are only 32422 unique job postings. \n",
    "# Therefore we can conclude that there can be 0+ skills per job posting\n",
    "\n",
    "# Grouping by 'job_id' and concatenating 'skill_name' values\n",
    "grouped_skills = merged_skill.groupby('job_id')['skill_name'].agg(lambda x: ', '.join(x)).reset_index()\n",
    "\n",
    "# Display the resulting DataFrame with unique 'job_id' rows and concatenated skills\n",
    "print(grouped_skills)\n"
   ]
  },
  {
   "cell_type": "code",
   "execution_count": 202,
   "metadata": {},
   "outputs": [
    {
     "data": {
      "text/plain": [
       "654"
      ]
     },
     "execution_count": 202,
     "metadata": {},
     "output_type": "execute_result"
    }
   ],
   "source": [
    "# Missing Company ID's\n",
    "missing_id = job_postings['company_id'].isnull().sum()\n",
    "missing_id"
   ]
  },
  {
   "cell_type": "code",
   "execution_count": 203,
   "metadata": {},
   "outputs": [
    {
     "data": {
      "text/plain": [
       "(32592, 28)"
      ]
     },
     "execution_count": 203,
     "metadata": {},
     "output_type": "execute_result"
    }
   ],
   "source": [
    "# Dropping Missing Data\n",
    "job_postings.dropna(subset=['company_id'], inplace=True)\n",
    "job_postings.shape"
   ]
  },
  {
   "cell_type": "code",
   "execution_count": 204,
   "metadata": {},
   "outputs": [
    {
     "data": {
      "text/html": [
       "<div>\n",
       "<style scoped>\n",
       "    .dataframe tbody tr th:only-of-type {\n",
       "        vertical-align: middle;\n",
       "    }\n",
       "\n",
       "    .dataframe tbody tr th {\n",
       "        vertical-align: top;\n",
       "    }\n",
       "\n",
       "    .dataframe thead th {\n",
       "        text-align: right;\n",
       "    }\n",
       "</style>\n",
       "<table border=\"1\" class=\"dataframe\">\n",
       "  <thead>\n",
       "    <tr style=\"text-align: right;\">\n",
       "      <th></th>\n",
       "      <th>job_id</th>\n",
       "      <th>company_id</th>\n",
       "      <th>location</th>\n",
       "      <th>formatted_experience_level</th>\n",
       "      <th>skill_name</th>\n",
       "    </tr>\n",
       "  </thead>\n",
       "  <tbody>\n",
       "    <tr>\n",
       "      <th>0</th>\n",
       "      <td>3757940104</td>\n",
       "      <td>553718.0</td>\n",
       "      <td>Little River, SC</td>\n",
       "      <td>Entry level</td>\n",
       "      <td>Other</td>\n",
       "    </tr>\n",
       "    <tr>\n",
       "      <th>1</th>\n",
       "      <td>3757940025</td>\n",
       "      <td>2192142.0</td>\n",
       "      <td>Beaver Dam, WI</td>\n",
       "      <td>NaN</td>\n",
       "      <td>Management, Manufacturing</td>\n",
       "    </tr>\n",
       "    <tr>\n",
       "      <th>2</th>\n",
       "      <td>3757938019</td>\n",
       "      <td>474443.0</td>\n",
       "      <td>Bessemer, AL</td>\n",
       "      <td>NaN</td>\n",
       "      <td>Engineering</td>\n",
       "    </tr>\n",
       "    <tr>\n",
       "      <th>3</th>\n",
       "      <td>3757938018</td>\n",
       "      <td>18213359.0</td>\n",
       "      <td>Aliso Viejo, CA</td>\n",
       "      <td>Entry level</td>\n",
       "      <td>Management, Manufacturing</td>\n",
       "    </tr>\n",
       "    <tr>\n",
       "      <th>4</th>\n",
       "      <td>3757937095</td>\n",
       "      <td>437225.0</td>\n",
       "      <td>United States</td>\n",
       "      <td>Mid-Senior level</td>\n",
       "      <td>Information Technology</td>\n",
       "    </tr>\n",
       "  </tbody>\n",
       "</table>\n",
       "</div>"
      ],
      "text/plain": [
       "       job_id  company_id          location formatted_experience_level  \\\n",
       "0  3757940104    553718.0  Little River, SC                Entry level   \n",
       "1  3757940025   2192142.0    Beaver Dam, WI                        NaN   \n",
       "2  3757938019    474443.0      Bessemer, AL                        NaN   \n",
       "3  3757938018  18213359.0   Aliso Viejo, CA                Entry level   \n",
       "4  3757937095    437225.0     United States           Mid-Senior level   \n",
       "\n",
       "                  skill_name  \n",
       "0                      Other  \n",
       "1  Management, Manufacturing  \n",
       "2                Engineering  \n",
       "3  Management, Manufacturing  \n",
       "4     Information Technology  "
      ]
     },
     "execution_count": 204,
     "metadata": {},
     "output_type": "execute_result"
    }
   ],
   "source": [
    "# Merging job postings with corresponding skills\n",
    "merged_jobs = pd.merge(job_postings, grouped_skills, on='job_id', how='left')\n",
    "columns_to_drop = ['description', 'max_salary','med_salary','min_salary',\n",
    "                   'pay_period', 'applies', 'formatted_work_type', 'remote_allowed',\n",
    "                   'job_posting_url','views','title','application_url','application_type',\n",
    "                   'expiry','skills_desc','posting_domain','sponsored','original_listed_time',\n",
    "                   'work_type','currency','compensation_type','scraped','closed_time','listed_time'\n",
    "                   ]\n",
    "merged_jobs= merged_jobs.drop(columns=columns_to_drop,axis=1)\n",
    "merged_jobs.head()\n",
    "\n"
   ]
  },
  {
   "cell_type": "code",
   "execution_count": 205,
   "metadata": {},
   "outputs": [
    {
     "data": {
      "text/html": [
       "<div>\n",
       "<style scoped>\n",
       "    .dataframe tbody tr th:only-of-type {\n",
       "        vertical-align: middle;\n",
       "    }\n",
       "\n",
       "    .dataframe tbody tr th {\n",
       "        vertical-align: top;\n",
       "    }\n",
       "\n",
       "    .dataframe thead th {\n",
       "        text-align: right;\n",
       "    }\n",
       "</style>\n",
       "<table border=\"1\" class=\"dataframe\">\n",
       "  <thead>\n",
       "    <tr style=\"text-align: right;\">\n",
       "      <th></th>\n",
       "      <th>job_id</th>\n",
       "      <th>company_id</th>\n",
       "      <th>location</th>\n",
       "      <th>formatted_experience_level</th>\n",
       "      <th>skill_name</th>\n",
       "      <th>name</th>\n",
       "    </tr>\n",
       "  </thead>\n",
       "  <tbody>\n",
       "    <tr>\n",
       "      <th>0</th>\n",
       "      <td>3757940104</td>\n",
       "      <td>553718.0</td>\n",
       "      <td>Little River, SC</td>\n",
       "      <td>Entry level</td>\n",
       "      <td>Other</td>\n",
       "      <td>HearingLife</td>\n",
       "    </tr>\n",
       "    <tr>\n",
       "      <th>1</th>\n",
       "      <td>3757940025</td>\n",
       "      <td>2192142.0</td>\n",
       "      <td>Beaver Dam, WI</td>\n",
       "      <td>NaN</td>\n",
       "      <td>Management, Manufacturing</td>\n",
       "      <td>Metalcraft of Mayville, Inc.</td>\n",
       "    </tr>\n",
       "    <tr>\n",
       "      <th>2</th>\n",
       "      <td>3757938019</td>\n",
       "      <td>474443.0</td>\n",
       "      <td>Bessemer, AL</td>\n",
       "      <td>NaN</td>\n",
       "      <td>Engineering</td>\n",
       "      <td>U.S. Tsubaki Power Transmission, LLC</td>\n",
       "    </tr>\n",
       "    <tr>\n",
       "      <th>3</th>\n",
       "      <td>3757938018</td>\n",
       "      <td>18213359.0</td>\n",
       "      <td>Aliso Viejo, CA</td>\n",
       "      <td>Entry level</td>\n",
       "      <td>Management, Manufacturing</td>\n",
       "      <td>Episcopal Communities &amp; Services</td>\n",
       "    </tr>\n",
       "    <tr>\n",
       "      <th>4</th>\n",
       "      <td>3757937095</td>\n",
       "      <td>437225.0</td>\n",
       "      <td>United States</td>\n",
       "      <td>Mid-Senior level</td>\n",
       "      <td>Information Technology</td>\n",
       "      <td>iHerb, LLC</td>\n",
       "    </tr>\n",
       "  </tbody>\n",
       "</table>\n",
       "</div>"
      ],
      "text/plain": [
       "       job_id  company_id          location formatted_experience_level  \\\n",
       "0  3757940104    553718.0  Little River, SC                Entry level   \n",
       "1  3757940025   2192142.0    Beaver Dam, WI                        NaN   \n",
       "2  3757938019    474443.0      Bessemer, AL                        NaN   \n",
       "3  3757938018  18213359.0   Aliso Viejo, CA                Entry level   \n",
       "4  3757937095    437225.0     United States           Mid-Senior level   \n",
       "\n",
       "                  skill_name                                  name  \n",
       "0                      Other                           HearingLife  \n",
       "1  Management, Manufacturing          Metalcraft of Mayville, Inc.  \n",
       "2                Engineering  U.S. Tsubaki Power Transmission, LLC  \n",
       "3  Management, Manufacturing      Episcopal Communities & Services  \n",
       "4     Information Technology                            iHerb, LLC  "
      ]
     },
     "execution_count": 205,
     "metadata": {},
     "output_type": "execute_result"
    }
   ],
   "source": [
    "# Merging Jobs and Companies\n",
    "merged_data= pd.merge(merged_jobs, companies, on='company_id', how='left')\n",
    "\n",
    "columns_to_drop = ['description','company_size','zip_code','url','address','state','country','city']\n",
    "merged_data= merged_data.drop(columns=columns_to_drop,axis=1)\n",
    "merged_data.head()"
   ]
  },
  {
   "cell_type": "code",
   "execution_count": 206,
   "metadata": {},
   "outputs": [
    {
     "data": {
      "text/html": [
       "<div>\n",
       "<style scoped>\n",
       "    .dataframe tbody tr th:only-of-type {\n",
       "        vertical-align: middle;\n",
       "    }\n",
       "\n",
       "    .dataframe tbody tr th {\n",
       "        vertical-align: top;\n",
       "    }\n",
       "\n",
       "    .dataframe thead th {\n",
       "        text-align: right;\n",
       "    }\n",
       "</style>\n",
       "<table border=\"1\" class=\"dataframe\">\n",
       "  <thead>\n",
       "    <tr style=\"text-align: right;\">\n",
       "      <th></th>\n",
       "      <th>job_id</th>\n",
       "      <th>company_id</th>\n",
       "      <th>name</th>\n",
       "      <th>location</th>\n",
       "      <th>skill_name</th>\n",
       "      <th>formatted_experience_level</th>\n",
       "    </tr>\n",
       "  </thead>\n",
       "  <tbody>\n",
       "    <tr>\n",
       "      <th>0</th>\n",
       "      <td>3757940104</td>\n",
       "      <td>553718.0</td>\n",
       "      <td>HearingLife</td>\n",
       "      <td>Little River, SC</td>\n",
       "      <td>Other</td>\n",
       "      <td>Entry level</td>\n",
       "    </tr>\n",
       "    <tr>\n",
       "      <th>1</th>\n",
       "      <td>3757940025</td>\n",
       "      <td>2192142.0</td>\n",
       "      <td>Metalcraft of Mayville, Inc.</td>\n",
       "      <td>Beaver Dam, WI</td>\n",
       "      <td>Management, Manufacturing</td>\n",
       "      <td>NaN</td>\n",
       "    </tr>\n",
       "    <tr>\n",
       "      <th>2</th>\n",
       "      <td>3757938019</td>\n",
       "      <td>474443.0</td>\n",
       "      <td>U.S. Tsubaki Power Transmission, LLC</td>\n",
       "      <td>Bessemer, AL</td>\n",
       "      <td>Engineering</td>\n",
       "      <td>NaN</td>\n",
       "    </tr>\n",
       "    <tr>\n",
       "      <th>3</th>\n",
       "      <td>3757938018</td>\n",
       "      <td>18213359.0</td>\n",
       "      <td>Episcopal Communities &amp; Services</td>\n",
       "      <td>Aliso Viejo, CA</td>\n",
       "      <td>Management, Manufacturing</td>\n",
       "      <td>Entry level</td>\n",
       "    </tr>\n",
       "    <tr>\n",
       "      <th>4</th>\n",
       "      <td>3757937095</td>\n",
       "      <td>437225.0</td>\n",
       "      <td>iHerb, LLC</td>\n",
       "      <td>United States</td>\n",
       "      <td>Information Technology</td>\n",
       "      <td>Mid-Senior level</td>\n",
       "    </tr>\n",
       "  </tbody>\n",
       "</table>\n",
       "</div>"
      ],
      "text/plain": [
       "       job_id  company_id                                  name  \\\n",
       "0  3757940104    553718.0                           HearingLife   \n",
       "1  3757940025   2192142.0          Metalcraft of Mayville, Inc.   \n",
       "2  3757938019    474443.0  U.S. Tsubaki Power Transmission, LLC   \n",
       "3  3757938018  18213359.0      Episcopal Communities & Services   \n",
       "4  3757937095    437225.0                            iHerb, LLC   \n",
       "\n",
       "           location                 skill_name formatted_experience_level  \n",
       "0  Little River, SC                      Other                Entry level  \n",
       "1    Beaver Dam, WI  Management, Manufacturing                        NaN  \n",
       "2      Bessemer, AL                Engineering                        NaN  \n",
       "3   Aliso Viejo, CA  Management, Manufacturing                Entry level  \n",
       "4     United States     Information Technology           Mid-Senior level  "
      ]
     },
     "execution_count": 206,
     "metadata": {},
     "output_type": "execute_result"
    }
   ],
   "source": [
    "# Displaying data in a better order\n",
    "column_order = ['job_id','company_id','name','location','skill_name','formatted_experience_level']\n",
    "merged_data = merged_data[column_order]\n",
    "merged_data.head()"
   ]
  },
  {
   "cell_type": "code",
   "execution_count": 207,
   "metadata": {},
   "outputs": [
    {
     "data": {
      "text/plain": [
       "formatted_experience_level    8622\n",
       "skill_name                    1023\n",
       "name                            51\n",
       "dtype: int64"
      ]
     },
     "execution_count": 207,
     "metadata": {},
     "output_type": "execute_result"
    }
   ],
   "source": [
    "# Identify missing data in the merged dataset\n",
    "missing_data = merged_data.isnull().sum()\n",
    "\n",
    "# Display columns with significant missing data\n",
    "significant_missing_columns = missing_data[missing_data > 0].sort_values(ascending=False)\n",
    "significant_missing_columns"
   ]
  },
  {
   "cell_type": "code",
   "execution_count": 208,
   "metadata": {},
   "outputs": [
    {
     "name": "stdout",
     "output_type": "stream",
     "text": [
      "Number of missing ID's: 51\n",
      "7305     76999667.0\n",
      "15698     3641332.0\n",
      "15706     3641332.0\n",
      "15968     3641332.0\n",
      "16405     3641332.0\n",
      "20379      165957.0\n",
      "20382     2313067.0\n",
      "20384     3079381.0\n",
      "20385      272676.0\n",
      "20387    64734122.0\n",
      "20389    27116461.0\n",
      "20391     4316275.0\n",
      "20392     1124883.0\n",
      "20393    19115854.0\n",
      "20394     1485063.0\n",
      "25366        2815.0\n",
      "25369     3514329.0\n",
      "25380     9215353.0\n",
      "25381    26489605.0\n",
      "25382    79378951.0\n",
      "25388    34771768.0\n",
      "32290    91187899.0\n",
      "32294     9516195.0\n",
      "32296    89908682.0\n",
      "32297    18872958.0\n",
      "32298       35602.0\n",
      "32300    18630069.0\n",
      "32302        3657.0\n",
      "32304    14615655.0\n",
      "32305       88684.0\n",
      "32306    10563070.0\n",
      "32307      371180.0\n",
      "32308     2902815.0\n",
      "32309    90633414.0\n",
      "32310    20338460.0\n",
      "32311     2899710.0\n",
      "32312      145145.0\n",
      "32314       90844.0\n",
      "32315     1434753.0\n",
      "32316     7573454.0\n",
      "32317     4781041.0\n",
      "32318      718651.0\n",
      "32319    86746333.0\n",
      "32320    82296828.0\n",
      "32321    82684341.0\n",
      "32322    96649998.0\n",
      "32323     2641066.0\n",
      "32355     6049228.0\n",
      "32525    10033339.0\n",
      "32536    81149246.0\n",
      "32580    16265700.0\n",
      "Name: company_id, dtype: float64\n"
     ]
    }
   ],
   "source": [
    "# Identify missing data in the merged dataset\n",
    "missing = merged_data['name'].isnull().sum()\n",
    "\n",
    "null_name_indices = merged_data[merged_data['name'].isnull()]['company_id']\n",
    "print(\"Number of missing ID's:\", missing)\n",
    "print(null_name_indices)"
   ]
  },
  {
   "cell_type": "code",
   "execution_count": 209,
   "metadata": {},
   "outputs": [],
   "source": [
    "# Jupyter found 51 rows of company references in job_postings that were non existent in the company id's dataset\n",
    "# Droping noisy data\n",
    "merged_data.dropna(subset=['name'], inplace=True)"
   ]
  },
  {
   "cell_type": "code",
   "execution_count": 210,
   "metadata": {},
   "outputs": [
    {
     "name": "stdout",
     "output_type": "stream",
     "text": [
      "Number of missing ID's: 0\n",
      "Series([], Name: company_id, dtype: float64)\n"
     ]
    }
   ],
   "source": [
    "missing = merged_data['name'].isnull().sum()\n",
    "\n",
    "null_name_indices = merged_data[merged_data['name'].isnull()]['company_id']\n",
    "print(\"Number of missing ID's:\", missing)\n",
    "print(null_name_indices)"
   ]
  },
  {
   "cell_type": "code",
   "execution_count": 211,
   "metadata": {},
   "outputs": [
    {
     "data": {
      "text/plain": [
       "Series([], dtype: int64)"
      ]
     },
     "execution_count": 211,
     "metadata": {},
     "output_type": "execute_result"
    }
   ],
   "source": [
    "# Handling missing values\n",
    "\n",
    "# Categorical columns with missing values are filled with \"Not Specified\"\n",
    "col_experience_fill_not_specified = ['formatted_experience_level']\n",
    "for col in col_experience_fill_not_specified:\n",
    "    merged_data[col].fillna(\"Not Specified\", inplace=True)\n",
    "\n",
    "col_skill_fill_other = ['skill_name']\n",
    "for col in col_skill_fill_other:\n",
    "    merged_data[col].fillna(\"Other\", inplace=True)\n",
    "\n",
    "\n",
    "# Check remaining missing values\n",
    "remaining_missing = merged_data.isnull().sum()\n",
    "remaining_missing_cols = remaining_missing[remaining_missing > 0].sort_values(ascending=False)\n",
    "remaining_missing_cols"
   ]
  },
  {
   "cell_type": "code",
   "execution_count": 212,
   "metadata": {},
   "outputs": [
    {
     "name": "stdout",
     "output_type": "stream",
     "text": [
      "Distinct values in 'formatted_experience_level':\n",
      "Entry level\n",
      "Not Specified\n",
      "Mid-Senior level\n",
      "Director\n",
      "Associate\n",
      "Executive\n",
      "Internship\n"
     ]
    }
   ],
   "source": [
    "# Displaying distinct values of Experience_level for categorizing\n",
    "distinct_values = merged_data['formatted_experience_level'].unique()\n",
    "\n",
    "print(\"Distinct values in 'formatted_experience_level':\")\n",
    "for value in distinct_values:\n",
    "    print(value)\n"
   ]
  },
  {
   "cell_type": "code",
   "execution_count": 213,
   "metadata": {},
   "outputs": [],
   "source": [
    "# Using map() to categorize column\n",
    "experience_mapping = {\n",
    "    'Internship': 1,\n",
    "    'Entry level': 2,\n",
    "    'Associate':3, \n",
    "    'Mid-Senior level': 4,\n",
    "    'Director': 5,\n",
    "    'Executive': 6,\n",
    "    'Not Specified': 7\n",
    "}\n",
    "\n",
    "merged_data['formatted_experience_level'] = merged_data['formatted_experience_level'].map(experience_mapping)"
   ]
  },
  {
   "cell_type": "code",
   "execution_count": 214,
   "metadata": {},
   "outputs": [],
   "source": [
    "# Pre-processing company name\n",
    "def clean_company_names(name):\n",
    "        \n",
    "    # Remove special characters, except spaces and dots\n",
    "    name = re.sub(r'[^a-zA-Z0-9\\w\\s\\.]', '', name)\n",
    "    \n",
    "    # Remove extra spaces\n",
    "    name = re.sub(r'\\s+', ' ', name).strip()\n",
    "    \n",
    "    # Handle hyphens and apostrophes\n",
    "    name = name.replace('-', ' ')  # Replace hyphens with spaces\n",
    "    name = name.replace('\\'', '')  # Remove apostrophes\n",
    "    name = re.sub(r'\\s+', ' ', name)\n",
    "\n",
    "    return name\n",
    "\n",
    "\n",
    "merged_data['name'] = merged_data['name'].apply(clean_company_names)"
   ]
  },
  {
   "cell_type": "code",
   "execution_count": 215,
   "metadata": {},
   "outputs": [
    {
     "data": {
      "text/plain": [
       "(30175, 6)"
      ]
     },
     "execution_count": 215,
     "metadata": {},
     "output_type": "execute_result"
    }
   ],
   "source": [
    "# Extract location from City, State format\n",
    "def extract_city(location):\n",
    "    words = location.split()\n",
    "    if len(words) == 1:  # Check if the location has only one word\n",
    "        return None\n",
    "    parts = location.split(', ')\n",
    "    if len(parts) > 1:  # Check if the format is City, State, \n",
    "        return parts[0]\n",
    "    else:\n",
    "        if \"Metropolitan Area\" in location:\n",
    "            return location.split(\" Metropolitan Area\")[0]\n",
    "        elif \"Area\" in location or \"Greater\" in location:\n",
    "            return location\n",
    "        else:\n",
    "            return None\n",
    "\n",
    "# Apply the function to the 'location' column\n",
    "merged_data['location'] = merged_data['location'].apply(extract_city)\n",
    "merged_data = merged_data.dropna(subset=['location'])\n",
    "\n",
    "merged_data.shape"
   ]
  },
  {
   "cell_type": "code",
   "execution_count": 216,
   "metadata": {},
   "outputs": [
    {
     "data": {
      "text/plain": [
       "(30175, 6)"
      ]
     },
     "execution_count": 216,
     "metadata": {},
     "output_type": "execute_result"
    }
   ],
   "source": [
    "# Remove duplicate rows\n",
    "merged_data_cleaned = merged_data.drop_duplicates()\n",
    "\n",
    "# Shape of the cleaned data\n",
    "merged_data_cleaned.shape"
   ]
  },
  {
   "cell_type": "code",
   "execution_count": 217,
   "metadata": {},
   "outputs": [],
   "source": [
    "merged_data_cleaned = merged_data_cleaned.rename(columns={'name':'company','skill_name':'required_skill',\n",
    "                                                           'formatted_experience_level':'experience_level'})\n",
    "\n",
    "merged_data_cleaned = merged_data_cleaned.sort_values('job_id', ascending=False)\n"
   ]
  },
  {
   "cell_type": "code",
   "execution_count": 218,
   "metadata": {},
   "outputs": [
    {
     "data": {
      "text/html": [
       "<div>\n",
       "<style scoped>\n",
       "    .dataframe tbody tr th:only-of-type {\n",
       "        vertical-align: middle;\n",
       "    }\n",
       "\n",
       "    .dataframe tbody tr th {\n",
       "        vertical-align: top;\n",
       "    }\n",
       "\n",
       "    .dataframe thead th {\n",
       "        text-align: right;\n",
       "    }\n",
       "</style>\n",
       "<table border=\"1\" class=\"dataframe\">\n",
       "  <thead>\n",
       "    <tr style=\"text-align: right;\">\n",
       "      <th></th>\n",
       "      <th>job_id</th>\n",
       "      <th>company_id</th>\n",
       "      <th>company</th>\n",
       "      <th>location</th>\n",
       "      <th>required_skill</th>\n",
       "      <th>experience_level</th>\n",
       "    </tr>\n",
       "  </thead>\n",
       "  <tbody>\n",
       "    <tr>\n",
       "      <th>0</th>\n",
       "      <td>3757940104</td>\n",
       "      <td>553718.0</td>\n",
       "      <td>HearingLife</td>\n",
       "      <td>Little River</td>\n",
       "      <td>Other</td>\n",
       "      <td>2</td>\n",
       "    </tr>\n",
       "    <tr>\n",
       "      <th>1</th>\n",
       "      <td>3757940025</td>\n",
       "      <td>2192142.0</td>\n",
       "      <td>Metalcraft of Mayville Inc.</td>\n",
       "      <td>Beaver Dam</td>\n",
       "      <td>Management, Manufacturing</td>\n",
       "      <td>7</td>\n",
       "    </tr>\n",
       "    <tr>\n",
       "      <th>2</th>\n",
       "      <td>3757938019</td>\n",
       "      <td>474443.0</td>\n",
       "      <td>U.S. Tsubaki Power Transmission LLC</td>\n",
       "      <td>Bessemer</td>\n",
       "      <td>Engineering</td>\n",
       "      <td>7</td>\n",
       "    </tr>\n",
       "    <tr>\n",
       "      <th>3</th>\n",
       "      <td>3757938018</td>\n",
       "      <td>18213359.0</td>\n",
       "      <td>Episcopal Communities Services</td>\n",
       "      <td>Aliso Viejo</td>\n",
       "      <td>Management, Manufacturing</td>\n",
       "      <td>2</td>\n",
       "    </tr>\n",
       "    <tr>\n",
       "      <th>6</th>\n",
       "      <td>3757937004</td>\n",
       "      <td>10515052.0</td>\n",
       "      <td>Boyd Group Services Inc.</td>\n",
       "      <td>Daytona Beach</td>\n",
       "      <td>Management, Manufacturing</td>\n",
       "      <td>2</td>\n",
       "    </tr>\n",
       "    <tr>\n",
       "      <th>...</th>\n",
       "      <td>...</td>\n",
       "      <td>...</td>\n",
       "      <td>...</td>\n",
       "      <td>...</td>\n",
       "      <td>...</td>\n",
       "      <td>...</td>\n",
       "    </tr>\n",
       "    <tr>\n",
       "      <th>32587</th>\n",
       "      <td>381055942</td>\n",
       "      <td>96654609.0</td>\n",
       "      <td>First Baptist Church Forney</td>\n",
       "      <td>Forney</td>\n",
       "      <td>Other</td>\n",
       "      <td>7</td>\n",
       "    </tr>\n",
       "    <tr>\n",
       "      <th>32588</th>\n",
       "      <td>133196985</td>\n",
       "      <td>1089558.0</td>\n",
       "      <td>Employvision Inc.</td>\n",
       "      <td>New York</td>\n",
       "      <td>Accounting/Auditing, Finance</td>\n",
       "      <td>7</td>\n",
       "    </tr>\n",
       "    <tr>\n",
       "      <th>32589</th>\n",
       "      <td>133114754</td>\n",
       "      <td>77766802.0</td>\n",
       "      <td>CargoLogin.</td>\n",
       "      <td>Santa Clarita</td>\n",
       "      <td>Sales, Business Development</td>\n",
       "      <td>7</td>\n",
       "    </tr>\n",
       "    <tr>\n",
       "      <th>32590</th>\n",
       "      <td>102339515</td>\n",
       "      <td>52132271.0</td>\n",
       "      <td>DryerVentz DuctVentz</td>\n",
       "      <td>Greater Boston</td>\n",
       "      <td>Business Development, Sales</td>\n",
       "      <td>7</td>\n",
       "    </tr>\n",
       "    <tr>\n",
       "      <th>32591</th>\n",
       "      <td>3958427</td>\n",
       "      <td>630152.0</td>\n",
       "      <td>Karen Marie Salon</td>\n",
       "      <td>Chicago</td>\n",
       "      <td>Design, Art/Creative, Information Technology</td>\n",
       "      <td>7</td>\n",
       "    </tr>\n",
       "  </tbody>\n",
       "</table>\n",
       "<p>30175 rows × 6 columns</p>\n",
       "</div>"
      ],
      "text/plain": [
       "           job_id  company_id                              company  \\\n",
       "0      3757940104    553718.0                          HearingLife   \n",
       "1      3757940025   2192142.0          Metalcraft of Mayville Inc.   \n",
       "2      3757938019    474443.0  U.S. Tsubaki Power Transmission LLC   \n",
       "3      3757938018  18213359.0       Episcopal Communities Services   \n",
       "6      3757937004  10515052.0             Boyd Group Services Inc.   \n",
       "...           ...         ...                                  ...   \n",
       "32587   381055942  96654609.0          First Baptist Church Forney   \n",
       "32588   133196985   1089558.0                    Employvision Inc.   \n",
       "32589   133114754  77766802.0                          CargoLogin.   \n",
       "32590   102339515  52132271.0                 DryerVentz DuctVentz   \n",
       "32591     3958427    630152.0                    Karen Marie Salon   \n",
       "\n",
       "             location                                required_skill  \\\n",
       "0        Little River                                         Other   \n",
       "1          Beaver Dam                     Management, Manufacturing   \n",
       "2            Bessemer                                   Engineering   \n",
       "3         Aliso Viejo                     Management, Manufacturing   \n",
       "6       Daytona Beach                     Management, Manufacturing   \n",
       "...               ...                                           ...   \n",
       "32587          Forney                                         Other   \n",
       "32588        New York                  Accounting/Auditing, Finance   \n",
       "32589   Santa Clarita                   Sales, Business Development   \n",
       "32590  Greater Boston                   Business Development, Sales   \n",
       "32591         Chicago  Design, Art/Creative, Information Technology   \n",
       "\n",
       "       experience_level  \n",
       "0                     2  \n",
       "1                     7  \n",
       "2                     7  \n",
       "3                     2  \n",
       "6                     2  \n",
       "...                 ...  \n",
       "32587                 7  \n",
       "32588                 7  \n",
       "32589                 7  \n",
       "32590                 7  \n",
       "32591                 7  \n",
       "\n",
       "[30175 rows x 6 columns]"
      ]
     },
     "execution_count": 218,
     "metadata": {},
     "output_type": "execute_result"
    }
   ],
   "source": [
    "merged_data_cleaned\n"
   ]
  },
  {
   "cell_type": "code",
   "execution_count": 219,
   "metadata": {},
   "outputs": [],
   "source": [
    "merged_data_cleaned.to_csv('data_preprocessed.csv', index=False)"
   ]
  }
 ],
 "metadata": {
  "kernelspec": {
   "display_name": "Python 3",
   "language": "python",
   "name": "python3"
  },
  "language_info": {
   "codemirror_mode": {
    "name": "ipython",
    "version": 3
   },
   "file_extension": ".py",
   "mimetype": "text/x-python",
   "name": "python",
   "nbconvert_exporter": "python",
   "pygments_lexer": "ipython3",
   "version": "3.12.0"
  }
 },
 "nbformat": 4,
 "nbformat_minor": 2
}
