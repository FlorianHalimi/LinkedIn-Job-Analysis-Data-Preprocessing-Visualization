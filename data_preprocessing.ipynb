{
 "cells": [
  {
   "cell_type": "code",
   "execution_count": null,
   "metadata": {},
   "outputs": [],
   "source": [
    "%pip install pandas\n",
    "%pip install matplotlib\n",
    "%pip install seaborn\n",
    "%pip install scikit-learn"
   ]
  },
  {
   "cell_type": "code",
   "execution_count": 87,
   "metadata": {},
   "outputs": [],
   "source": [
    "import pandas as pd\n",
    "import numpy as np\n",
    "import matplotlib.pyplot as plt\n",
    "import seaborn as sns\n",
    "import datetime\n",
    "import re\n",
    "from sklearn.feature_extraction.text import TfidfVectorizer\n",
    "from sklearn.decomposition import TruncatedSVD\n",
    "from sklearn.cluster import KMeans\n",
    "from sklearn.pipeline import make_pipeline"
   ]
  },
  {
   "cell_type": "code",
   "execution_count": 88,
   "metadata": {},
   "outputs": [],
   "source": [
    "# Load all datasets\n",
    "job_postings = pd.read_csv('data/job_postings.csv')\n",
    "job_skills = pd.read_csv('data/job_details/job_skills.csv')\n",
    "\n",
    "companies = pd.read_csv('data/company_details/companies.csv')\n",
    "skills = pd.read_csv('data/maps/skills.csv')"
   ]
  },
  {
   "cell_type": "code",
   "execution_count": 89,
   "metadata": {},
   "outputs": [
    {
     "data": {
      "text/plain": [
       "{'job_postings': 33246, 'job_skills': 32422, 'companies': 11361, 'skills': 35}"
      ]
     },
     "execution_count": 89,
     "metadata": {},
     "output_type": "execute_result"
    }
   ],
   "source": [
    "# Check the number of unique values in merging columns for each dataset\n",
    "unique_values = {\n",
    "    'job_postings': job_postings['job_id'].nunique(),\n",
    "    'job_skills': job_skills['job_id'].nunique(),\n",
    "    'companies': companies['company_id'].nunique(),\n",
    "    'skills': skills['skill_name'].nunique()\n",
    "}\n",
    "\n",
    "unique_values"
   ]
  },
  {
   "cell_type": "code",
   "execution_count": 90,
   "metadata": {},
   "outputs": [
    {
     "name": "stdout",
     "output_type": "stream",
     "text": [
      "           job_id              skill_name\n",
      "0      3690843087     Accounting/Auditing\n",
      "1      3690843087                 Finance\n",
      "2      3691763971              Management\n",
      "3      3691763971           Manufacturing\n",
      "4      3691775263              Management\n",
      "...           ...                     ...\n",
      "56586  3757780487    Health Care Provider\n",
      "56587  3757934256                  Design\n",
      "56588  3757934256            Art/Creative\n",
      "56589  3757934256  Information Technology\n",
      "56590  3757498232          Administrative\n",
      "\n",
      "[56591 rows x 2 columns]\n"
     ]
    }
   ],
   "source": [
    "# Merging skills and job_skills tables\n",
    "merged_skill = pd.merge(job_skills,skills, on='skill_abr', how='left')\n",
    "merged_skill = merged_skill.drop('skill_abr', axis=1)\n",
    "print(merged_skill)"
   ]
  },
  {
   "cell_type": "code",
   "execution_count": 91,
   "metadata": {},
   "outputs": [
    {
     "name": "stdout",
     "output_type": "stream",
     "text": [
      "           job_id                                    skill_name\n",
      "0         3958427  Design, Art/Creative, Information Technology\n",
      "1        85008768                   Sales, Business Development\n",
      "2       102339515                   Business Development, Sales\n",
      "3       108965123                                Administrative\n",
      "4       133114754                   Sales, Business Development\n",
      "...           ...                                           ...\n",
      "32417  3757937095                        Information Technology\n",
      "32418  3757938018                     Management, Manufacturing\n",
      "32419  3757938019                                   Engineering\n",
      "32420  3757940025                     Management, Manufacturing\n",
      "32421  3757940104                                         Other\n",
      "\n",
      "[32422 rows x 2 columns]\n"
     ]
    }
   ],
   "source": [
    "# Merge_skills has 56591 rows, but there are only 32422 unique job postings. \n",
    "# Therefore we can conclude that there can be 0+ skills per job posting\n",
    "\n",
    "# Grouping by 'job_id' and concatenating 'skill_name' values\n",
    "grouped_skills = merged_skill.groupby('job_id')['skill_name'].agg(lambda x: ', '.join(x)).reset_index()\n",
    "\n",
    "# Display the resulting DataFrame with unique 'job_id' rows and concatenated skills\n",
    "print(grouped_skills)\n"
   ]
  },
  {
   "cell_type": "code",
   "execution_count": 92,
   "metadata": {},
   "outputs": [
    {
     "data": {
      "text/html": [
       "<div>\n",
       "<style scoped>\n",
       "    .dataframe tbody tr th:only-of-type {\n",
       "        vertical-align: middle;\n",
       "    }\n",
       "\n",
       "    .dataframe tbody tr th {\n",
       "        vertical-align: top;\n",
       "    }\n",
       "\n",
       "    .dataframe thead th {\n",
       "        text-align: right;\n",
       "    }\n",
       "</style>\n",
       "<table border=\"1\" class=\"dataframe\">\n",
       "  <thead>\n",
       "    <tr style=\"text-align: right;\">\n",
       "      <th></th>\n",
       "      <th>job_id</th>\n",
       "      <th>company_id</th>\n",
       "      <th>location</th>\n",
       "      <th>original_listed_time</th>\n",
       "      <th>formatted_experience_level</th>\n",
       "      <th>skill_name</th>\n",
       "    </tr>\n",
       "  </thead>\n",
       "  <tbody>\n",
       "    <tr>\n",
       "      <th>0</th>\n",
       "      <td>3757940104</td>\n",
       "      <td>553718.0</td>\n",
       "      <td>Little River, SC</td>\n",
       "      <td>1.699090e+12</td>\n",
       "      <td>Entry level</td>\n",
       "      <td>Other</td>\n",
       "    </tr>\n",
       "    <tr>\n",
       "      <th>1</th>\n",
       "      <td>3757940025</td>\n",
       "      <td>2192142.0</td>\n",
       "      <td>Beaver Dam, WI</td>\n",
       "      <td>1.699080e+12</td>\n",
       "      <td>NaN</td>\n",
       "      <td>Management, Manufacturing</td>\n",
       "    </tr>\n",
       "    <tr>\n",
       "      <th>2</th>\n",
       "      <td>3757938019</td>\n",
       "      <td>474443.0</td>\n",
       "      <td>Bessemer, AL</td>\n",
       "      <td>1.699080e+12</td>\n",
       "      <td>NaN</td>\n",
       "      <td>Engineering</td>\n",
       "    </tr>\n",
       "    <tr>\n",
       "      <th>3</th>\n",
       "      <td>3757938018</td>\n",
       "      <td>18213359.0</td>\n",
       "      <td>Aliso Viejo, CA</td>\n",
       "      <td>1.699080e+12</td>\n",
       "      <td>Entry level</td>\n",
       "      <td>Management, Manufacturing</td>\n",
       "    </tr>\n",
       "    <tr>\n",
       "      <th>4</th>\n",
       "      <td>3757937095</td>\n",
       "      <td>437225.0</td>\n",
       "      <td>United States</td>\n",
       "      <td>1.698970e+12</td>\n",
       "      <td>Mid-Senior level</td>\n",
       "      <td>Information Technology</td>\n",
       "    </tr>\n",
       "  </tbody>\n",
       "</table>\n",
       "</div>"
      ],
      "text/plain": [
       "       job_id  company_id          location  original_listed_time  \\\n",
       "0  3757940104    553718.0  Little River, SC          1.699090e+12   \n",
       "1  3757940025   2192142.0    Beaver Dam, WI          1.699080e+12   \n",
       "2  3757938019    474443.0      Bessemer, AL          1.699080e+12   \n",
       "3  3757938018  18213359.0   Aliso Viejo, CA          1.699080e+12   \n",
       "4  3757937095    437225.0     United States          1.698970e+12   \n",
       "\n",
       "  formatted_experience_level                 skill_name  \n",
       "0                Entry level                      Other  \n",
       "1                        NaN  Management, Manufacturing  \n",
       "2                        NaN                Engineering  \n",
       "3                Entry level  Management, Manufacturing  \n",
       "4           Mid-Senior level     Information Technology  "
      ]
     },
     "execution_count": 92,
     "metadata": {},
     "output_type": "execute_result"
    }
   ],
   "source": [
    "# Merging job postings with corresponding skills\n",
    "merged_jobs = pd.merge(job_postings, grouped_skills, on='job_id', how='left')\n",
    "columns_to_drop = ['description', 'max_salary','med_salary','min_salary',\n",
    "                   'pay_period', 'applies', 'formatted_work_type', 'remote_allowed',\n",
    "                   'job_posting_url','views','title','application_url','application_type',\n",
    "                   'expiry','skills_desc','posting_domain','sponsored',\n",
    "                   'work_type','currency','compensation_type','scraped','closed_time','listed_time'\n",
    "                   ]\n",
    "merged_jobs= merged_jobs.drop(columns=columns_to_drop,axis=1)\n",
    "merged_jobs.head()\n"
   ]
  },
  {
   "cell_type": "code",
   "execution_count": 93,
   "metadata": {},
   "outputs": [
    {
     "data": {
      "text/html": [
       "<div>\n",
       "<style scoped>\n",
       "    .dataframe tbody tr th:only-of-type {\n",
       "        vertical-align: middle;\n",
       "    }\n",
       "\n",
       "    .dataframe tbody tr th {\n",
       "        vertical-align: top;\n",
       "    }\n",
       "\n",
       "    .dataframe thead th {\n",
       "        text-align: right;\n",
       "    }\n",
       "</style>\n",
       "<table border=\"1\" class=\"dataframe\">\n",
       "  <thead>\n",
       "    <tr style=\"text-align: right;\">\n",
       "      <th></th>\n",
       "      <th>job_id</th>\n",
       "      <th>location</th>\n",
       "      <th>original_listed_time</th>\n",
       "      <th>formatted_experience_level</th>\n",
       "      <th>skill_name</th>\n",
       "      <th>name</th>\n",
       "    </tr>\n",
       "  </thead>\n",
       "  <tbody>\n",
       "    <tr>\n",
       "      <th>0</th>\n",
       "      <td>3757940104</td>\n",
       "      <td>Little River, SC</td>\n",
       "      <td>1.699090e+12</td>\n",
       "      <td>Entry level</td>\n",
       "      <td>Other</td>\n",
       "      <td>HearingLife</td>\n",
       "    </tr>\n",
       "    <tr>\n",
       "      <th>1</th>\n",
       "      <td>3757940025</td>\n",
       "      <td>Beaver Dam, WI</td>\n",
       "      <td>1.699080e+12</td>\n",
       "      <td>NaN</td>\n",
       "      <td>Management, Manufacturing</td>\n",
       "      <td>Metalcraft of Mayville, Inc.</td>\n",
       "    </tr>\n",
       "    <tr>\n",
       "      <th>2</th>\n",
       "      <td>3757938019</td>\n",
       "      <td>Bessemer, AL</td>\n",
       "      <td>1.699080e+12</td>\n",
       "      <td>NaN</td>\n",
       "      <td>Engineering</td>\n",
       "      <td>U.S. Tsubaki Power Transmission, LLC</td>\n",
       "    </tr>\n",
       "    <tr>\n",
       "      <th>3</th>\n",
       "      <td>3757938018</td>\n",
       "      <td>Aliso Viejo, CA</td>\n",
       "      <td>1.699080e+12</td>\n",
       "      <td>Entry level</td>\n",
       "      <td>Management, Manufacturing</td>\n",
       "      <td>Episcopal Communities &amp; Services</td>\n",
       "    </tr>\n",
       "    <tr>\n",
       "      <th>4</th>\n",
       "      <td>3757937095</td>\n",
       "      <td>United States</td>\n",
       "      <td>1.698970e+12</td>\n",
       "      <td>Mid-Senior level</td>\n",
       "      <td>Information Technology</td>\n",
       "      <td>iHerb, LLC</td>\n",
       "    </tr>\n",
       "  </tbody>\n",
       "</table>\n",
       "</div>"
      ],
      "text/plain": [
       "       job_id          location  original_listed_time  \\\n",
       "0  3757940104  Little River, SC          1.699090e+12   \n",
       "1  3757940025    Beaver Dam, WI          1.699080e+12   \n",
       "2  3757938019      Bessemer, AL          1.699080e+12   \n",
       "3  3757938018   Aliso Viejo, CA          1.699080e+12   \n",
       "4  3757937095     United States          1.698970e+12   \n",
       "\n",
       "  formatted_experience_level                 skill_name  \\\n",
       "0                Entry level                      Other   \n",
       "1                        NaN  Management, Manufacturing   \n",
       "2                        NaN                Engineering   \n",
       "3                Entry level  Management, Manufacturing   \n",
       "4           Mid-Senior level     Information Technology   \n",
       "\n",
       "                                   name  \n",
       "0                           HearingLife  \n",
       "1          Metalcraft of Mayville, Inc.  \n",
       "2  U.S. Tsubaki Power Transmission, LLC  \n",
       "3      Episcopal Communities & Services  \n",
       "4                            iHerb, LLC  "
      ]
     },
     "execution_count": 93,
     "metadata": {},
     "output_type": "execute_result"
    }
   ],
   "source": [
    "# Merging Jobs and Companies\n",
    "merged_data= pd.merge(merged_jobs, companies, on='company_id', how='left')\n",
    "columns_to_drop = ['description','company_size','zip_code','url','address','state','country','city','company_id']\n",
    "merged_data= merged_data.drop(columns=columns_to_drop,axis=1)\n",
    "merged_data.head()"
   ]
  },
  {
   "cell_type": "code",
   "execution_count": 95,
   "metadata": {},
   "outputs": [
    {
     "data": {
      "text/html": [
       "<div>\n",
       "<style scoped>\n",
       "    .dataframe tbody tr th:only-of-type {\n",
       "        vertical-align: middle;\n",
       "    }\n",
       "\n",
       "    .dataframe tbody tr th {\n",
       "        vertical-align: top;\n",
       "    }\n",
       "\n",
       "    .dataframe thead th {\n",
       "        text-align: right;\n",
       "    }\n",
       "</style>\n",
       "<table border=\"1\" class=\"dataframe\">\n",
       "  <thead>\n",
       "    <tr style=\"text-align: right;\">\n",
       "      <th></th>\n",
       "      <th>job_id</th>\n",
       "      <th>name</th>\n",
       "      <th>location</th>\n",
       "      <th>skill_name</th>\n",
       "      <th>formatted_experience_level</th>\n",
       "      <th>original_listed_time</th>\n",
       "    </tr>\n",
       "  </thead>\n",
       "  <tbody>\n",
       "    <tr>\n",
       "      <th>0</th>\n",
       "      <td>3757940104</td>\n",
       "      <td>HearingLife</td>\n",
       "      <td>Little River, SC</td>\n",
       "      <td>Other</td>\n",
       "      <td>Entry level</td>\n",
       "      <td>1.699090e+12</td>\n",
       "    </tr>\n",
       "    <tr>\n",
       "      <th>1</th>\n",
       "      <td>3757940025</td>\n",
       "      <td>Metalcraft of Mayville, Inc.</td>\n",
       "      <td>Beaver Dam, WI</td>\n",
       "      <td>Management, Manufacturing</td>\n",
       "      <td>NaN</td>\n",
       "      <td>1.699080e+12</td>\n",
       "    </tr>\n",
       "    <tr>\n",
       "      <th>2</th>\n",
       "      <td>3757938019</td>\n",
       "      <td>U.S. Tsubaki Power Transmission, LLC</td>\n",
       "      <td>Bessemer, AL</td>\n",
       "      <td>Engineering</td>\n",
       "      <td>NaN</td>\n",
       "      <td>1.699080e+12</td>\n",
       "    </tr>\n",
       "    <tr>\n",
       "      <th>3</th>\n",
       "      <td>3757938018</td>\n",
       "      <td>Episcopal Communities &amp; Services</td>\n",
       "      <td>Aliso Viejo, CA</td>\n",
       "      <td>Management, Manufacturing</td>\n",
       "      <td>Entry level</td>\n",
       "      <td>1.699080e+12</td>\n",
       "    </tr>\n",
       "    <tr>\n",
       "      <th>4</th>\n",
       "      <td>3757937095</td>\n",
       "      <td>iHerb, LLC</td>\n",
       "      <td>United States</td>\n",
       "      <td>Information Technology</td>\n",
       "      <td>Mid-Senior level</td>\n",
       "      <td>1.698970e+12</td>\n",
       "    </tr>\n",
       "  </tbody>\n",
       "</table>\n",
       "</div>"
      ],
      "text/plain": [
       "       job_id                                  name          location  \\\n",
       "0  3757940104                           HearingLife  Little River, SC   \n",
       "1  3757940025          Metalcraft of Mayville, Inc.    Beaver Dam, WI   \n",
       "2  3757938019  U.S. Tsubaki Power Transmission, LLC      Bessemer, AL   \n",
       "3  3757938018      Episcopal Communities & Services   Aliso Viejo, CA   \n",
       "4  3757937095                            iHerb, LLC     United States   \n",
       "\n",
       "                  skill_name formatted_experience_level  original_listed_time  \n",
       "0                      Other                Entry level          1.699090e+12  \n",
       "1  Management, Manufacturing                        NaN          1.699080e+12  \n",
       "2                Engineering                        NaN          1.699080e+12  \n",
       "3  Management, Manufacturing                Entry level          1.699080e+12  \n",
       "4     Information Technology           Mid-Senior level          1.698970e+12  "
      ]
     },
     "execution_count": 95,
     "metadata": {},
     "output_type": "execute_result"
    }
   ],
   "source": [
    "# Displaying data in a better order\n",
    "column_order = ['job_id','name','location','skill_name','formatted_experience_level','original_listed_time']\n",
    "merged_data = merged_data[column_order]\n",
    "merged_data.head()"
   ]
  },
  {
   "cell_type": "code",
   "execution_count": 96,
   "metadata": {},
   "outputs": [
    {
     "data": {
      "text/plain": [
       "formatted_experience_level    9181\n",
       "skill_name                    1212\n",
       "name                           705\n",
       "dtype: int64"
      ]
     },
     "execution_count": 96,
     "metadata": {},
     "output_type": "execute_result"
    }
   ],
   "source": [
    "# Identify missing data in the merged dataset\n",
    "missing_data = merged_data.isnull().sum()\n",
    "\n",
    "# Display columns with significant missing data\n",
    "significant_missing_columns = missing_data[missing_data > 0].sort_values(ascending=False)\n",
    "significant_missing_columns"
   ]
  },
  {
   "cell_type": "code",
   "execution_count": 116,
   "metadata": {},
   "outputs": [
    {
     "data": {
      "text/plain": [
       "Series([], dtype: int64)"
      ]
     },
     "execution_count": 116,
     "metadata": {},
     "output_type": "execute_result"
    }
   ],
   "source": [
    "# Handling missing values\n",
    "\n",
    "# Categorical columns with missing values are filled with \"Not Specified\"\n",
    "cols_fill_not_specified = ['skill_name', 'name','formatted_experience_level']\n",
    "for col in cols_fill_not_specified:\n",
    "    merged_data[col].fillna(\"Not Specified\", inplace=True)\n",
    "\n",
    "# Check remaining missing values\n",
    "remaining_missing = merged_data.isnull().sum()\n",
    "remaining_missing_cols = remaining_missing[remaining_missing > 0].sort_values(ascending=False)\n",
    "remaining_missing_cols"
   ]
  },
  {
   "cell_type": "code",
   "execution_count": 76,
   "metadata": {},
   "outputs": [
    {
     "name": "stderr",
     "output_type": "stream",
     "text": [
      "C:\\Users\\Admin\\AppData\\Local\\Temp\\ipykernel_15672\\3339891841.py:3: DeprecationWarning: datetime.datetime.utcfromtimestamp() is deprecated and scheduled for removal in a future version. Use timezone-aware objects to represent datetimes in UTC: datetime.datetime.fromtimestamp(timestamp, datetime.UTC).\n",
      "  lambda x: datetime.datetime.utcfromtimestamp(x / 1000).strftime('%d.%m.%Y'))\n"
     ]
    }
   ],
   "source": [
    "# Correcting time format of Listed Time\n",
    "merged_data['original_listed_time'] = merged_data['original_listed_time'].apply(\n",
    "    lambda x: datetime.datetime.utcfromtimestamp(x / 1000).strftime('%d.%m.%Y'))"
   ]
  },
  {
   "cell_type": "code",
   "execution_count": 102,
   "metadata": {},
   "outputs": [
    {
     "name": "stdout",
     "output_type": "stream",
     "text": [
      "Distinct values in 'formatted_experience_level':\n",
      "Entry level\n",
      "Not Specified\n",
      "Mid-Senior level\n",
      "Director\n",
      "Associate\n",
      "Executive\n",
      "Internship\n"
     ]
    }
   ],
   "source": [
    "# Displaying distinct values of Experience_level for categorizing\n",
    "distinct_values = merged_data['formatted_experience_level'].unique()\n",
    "\n",
    "print(\"Distinct values in 'formatted_experience_level':\")\n",
    "for value in distinct_values:\n",
    "    print(value)\n"
   ]
  },
  {
   "cell_type": "code",
   "execution_count": 103,
   "metadata": {},
   "outputs": [],
   "source": [
    "# Using map() to categorize column\n",
    "experience_mapping = {\n",
    "    'Internship': 1,\n",
    "    'Entry level': 2,\n",
    "    'Associate':3, \n",
    "    'Mid-Senior level': 4,\n",
    "    'Director': 5,\n",
    "    'Executive': 6,\n",
    "    'Not Specified': 7\n",
    "}\n",
    "\n",
    "merged_data['formatted_experience_level'] = merged_data['formatted_experience_level'].map(experience_mapping)"
   ]
  },
  {
   "cell_type": "code",
   "execution_count": 104,
   "metadata": {},
   "outputs": [],
   "source": [
    "# Pre-processing company name\n",
    "def clean_company_names(name):\n",
    "    # Convert to lowercase\n",
    "    name = name.lower()\n",
    "    \n",
    "    # Remove special characters, except spaces, hyphens, and apostrophes\n",
    "    name = re.sub(r'[^a-zA-Z0-9\\s\\'-]', '', name)\n",
    "    \n",
    "    # Remove extra spaces\n",
    "    name = re.sub(r'\\s+', ' ', name).strip()\n",
    "    \n",
    "    # Handle hyphens and apostrophes\n",
    "    name = name.replace('-', ' ')  # Replace hyphens with spaces\n",
    "    name = name.replace('\\'', '')  # Remove apostrophes\n",
    "    name = re.sub(r'\\s+', ' ', name)\n",
    "\n",
    "    return name\n",
    "\n",
    "\n",
    "merged_data['name'] = merged_data['name'].apply(clean_company_names)"
   ]
  },
  {
   "cell_type": "code",
   "execution_count": 105,
   "metadata": {},
   "outputs": [
    {
     "data": {
      "text/plain": [
       "(30797, 6)"
      ]
     },
     "execution_count": 105,
     "metadata": {},
     "output_type": "execute_result"
    }
   ],
   "source": [
    "# Extract location from City, State format\n",
    "def extract_city(location):\n",
    "    words = location.split()\n",
    "    if len(words) == 1:  # Check if the location has only one word\n",
    "        return None\n",
    "    parts = location.split(', ')\n",
    "    if len(parts) > 1:  # Check if the format is City, State, \n",
    "        return parts[0]\n",
    "    else:\n",
    "        if \"Metropolitan Area\" in location:\n",
    "            return location.split(\" Metropolitan Area\")[0]\n",
    "        elif \"Area\" in location or \"Greater\" in location:\n",
    "            return location\n",
    "        else:\n",
    "            return None\n",
    "\n",
    "# Apply the function to the 'location' column\n",
    "merged_data['location'] = merged_data['location'].apply(extract_city)\n",
    "merged_data = merged_data.dropna(subset=['location'])\n",
    "\n",
    "merged_data.shape"
   ]
  },
  {
   "cell_type": "code",
   "execution_count": 115,
   "metadata": {},
   "outputs": [
    {
     "name": "stdout",
     "output_type": "stream",
     "text": [
      "Number of rows where 'name' is 'Not Specified' and 'location' is None: 0\n"
     ]
    }
   ],
   "source": [
    "count_rows = len(merged_data[(merged_data['name'] == 'Not Specified')])\n",
    "print(f\"Number of rows where 'name' is 'Not Specified' and 'location' is None: {count_rows}\")"
   ]
  },
  {
   "cell_type": "code",
   "execution_count": 81,
   "metadata": {},
   "outputs": [
    {
     "data": {
      "text/plain": [
       "(30797, 6)"
      ]
     },
     "execution_count": 81,
     "metadata": {},
     "output_type": "execute_result"
    }
   ],
   "source": [
    "# Remove duplicate rows\n",
    "merged_data_cleaned = merged_data.drop_duplicates()\n",
    "\n",
    "# Shape of the cleaned data\n",
    "merged_data_cleaned.shape"
   ]
  },
  {
   "cell_type": "code",
   "execution_count": 82,
   "metadata": {},
   "outputs": [],
   "source": [
    "merged_data_cleaned = merged_data_cleaned.rename(columns={'name':'company','skill_name':'required_skill',\n",
    "                                                           'formatted_experience_level':'experience_level',\n",
    "                                                           'original_listed_time':'day_posted'})\n",
    "\n",
    "merged_data_cleaned = merged_data_cleaned.sort_values('job_id', ascending=False)\n"
   ]
  },
  {
   "cell_type": "code",
   "execution_count": 83,
   "metadata": {},
   "outputs": [
    {
     "data": {
      "text/html": [
       "<div>\n",
       "<style scoped>\n",
       "    .dataframe tbody tr th:only-of-type {\n",
       "        vertical-align: middle;\n",
       "    }\n",
       "\n",
       "    .dataframe tbody tr th {\n",
       "        vertical-align: top;\n",
       "    }\n",
       "\n",
       "    .dataframe thead th {\n",
       "        text-align: right;\n",
       "    }\n",
       "</style>\n",
       "<table border=\"1\" class=\"dataframe\">\n",
       "  <thead>\n",
       "    <tr style=\"text-align: right;\">\n",
       "      <th></th>\n",
       "      <th>job_id</th>\n",
       "      <th>company</th>\n",
       "      <th>location</th>\n",
       "      <th>required_skill</th>\n",
       "      <th>experience_level</th>\n",
       "      <th>day_posted</th>\n",
       "    </tr>\n",
       "  </thead>\n",
       "  <tbody>\n",
       "    <tr>\n",
       "      <th>0</th>\n",
       "      <td>3757940104</td>\n",
       "      <td>hearinglife</td>\n",
       "      <td>Little River</td>\n",
       "      <td>Other</td>\n",
       "      <td>2</td>\n",
       "      <td>04.11.2023</td>\n",
       "    </tr>\n",
       "    <tr>\n",
       "      <th>1</th>\n",
       "      <td>3757940025</td>\n",
       "      <td>metalcraft of mayville inc</td>\n",
       "      <td>Beaver Dam</td>\n",
       "      <td>Management, Manufacturing</td>\n",
       "      <td>7</td>\n",
       "      <td>04.11.2023</td>\n",
       "    </tr>\n",
       "    <tr>\n",
       "      <th>2</th>\n",
       "      <td>3757938019</td>\n",
       "      <td>us tsubaki power transmission llc</td>\n",
       "      <td>Bessemer</td>\n",
       "      <td>Engineering</td>\n",
       "      <td>7</td>\n",
       "      <td>04.11.2023</td>\n",
       "    </tr>\n",
       "    <tr>\n",
       "      <th>3</th>\n",
       "      <td>3757938018</td>\n",
       "      <td>episcopal communities services</td>\n",
       "      <td>Aliso Viejo</td>\n",
       "      <td>Management, Manufacturing</td>\n",
       "      <td>2</td>\n",
       "      <td>04.11.2023</td>\n",
       "    </tr>\n",
       "    <tr>\n",
       "      <th>6</th>\n",
       "      <td>3757937004</td>\n",
       "      <td>boyd group services inc</td>\n",
       "      <td>Daytona Beach</td>\n",
       "      <td>Management, Manufacturing</td>\n",
       "      <td>2</td>\n",
       "      <td>04.11.2023</td>\n",
       "    </tr>\n",
       "    <tr>\n",
       "      <th>...</th>\n",
       "      <td>...</td>\n",
       "      <td>...</td>\n",
       "      <td>...</td>\n",
       "      <td>...</td>\n",
       "      <td>...</td>\n",
       "      <td>...</td>\n",
       "    </tr>\n",
       "    <tr>\n",
       "      <th>33241</th>\n",
       "      <td>133114754</td>\n",
       "      <td>cargologin</td>\n",
       "      <td>Santa Clarita</td>\n",
       "      <td>Sales, Business Development</td>\n",
       "      <td>7</td>\n",
       "      <td>23.08.2023</td>\n",
       "    </tr>\n",
       "    <tr>\n",
       "      <th>33242</th>\n",
       "      <td>108965123</td>\n",
       "      <td>not specified</td>\n",
       "      <td>New York</td>\n",
       "      <td>Administrative</td>\n",
       "      <td>7</td>\n",
       "      <td>03.11.2023</td>\n",
       "    </tr>\n",
       "    <tr>\n",
       "      <th>33243</th>\n",
       "      <td>102339515</td>\n",
       "      <td>dryerventz ductventz</td>\n",
       "      <td>Greater Boston</td>\n",
       "      <td>Business Development, Sales</td>\n",
       "      <td>7</td>\n",
       "      <td>03.11.2023</td>\n",
       "    </tr>\n",
       "    <tr>\n",
       "      <th>33244</th>\n",
       "      <td>85008768</td>\n",
       "      <td>not specified</td>\n",
       "      <td>Chico</td>\n",
       "      <td>Sales, Business Development</td>\n",
       "      <td>7</td>\n",
       "      <td>23.08.2023</td>\n",
       "    </tr>\n",
       "    <tr>\n",
       "      <th>33245</th>\n",
       "      <td>3958427</td>\n",
       "      <td>karen marie salon</td>\n",
       "      <td>Chicago</td>\n",
       "      <td>Design, Art/Creative, Information Technology</td>\n",
       "      <td>7</td>\n",
       "      <td>03.11.2023</td>\n",
       "    </tr>\n",
       "  </tbody>\n",
       "</table>\n",
       "<p>30797 rows × 6 columns</p>\n",
       "</div>"
      ],
      "text/plain": [
       "           job_id                            company        location  \\\n",
       "0      3757940104                        hearinglife    Little River   \n",
       "1      3757940025         metalcraft of mayville inc      Beaver Dam   \n",
       "2      3757938019  us tsubaki power transmission llc        Bessemer   \n",
       "3      3757938018     episcopal communities services     Aliso Viejo   \n",
       "6      3757937004            boyd group services inc   Daytona Beach   \n",
       "...           ...                                ...             ...   \n",
       "33241   133114754                         cargologin   Santa Clarita   \n",
       "33242   108965123                      not specified        New York   \n",
       "33243   102339515               dryerventz ductventz  Greater Boston   \n",
       "33244    85008768                      not specified           Chico   \n",
       "33245     3958427                  karen marie salon         Chicago   \n",
       "\n",
       "                                     required_skill  experience_level  \\\n",
       "0                                             Other                 2   \n",
       "1                         Management, Manufacturing                 7   \n",
       "2                                       Engineering                 7   \n",
       "3                         Management, Manufacturing                 2   \n",
       "6                         Management, Manufacturing                 2   \n",
       "...                                             ...               ...   \n",
       "33241                   Sales, Business Development                 7   \n",
       "33242                                Administrative                 7   \n",
       "33243                   Business Development, Sales                 7   \n",
       "33244                   Sales, Business Development                 7   \n",
       "33245  Design, Art/Creative, Information Technology                 7   \n",
       "\n",
       "       day_posted  \n",
       "0      04.11.2023  \n",
       "1      04.11.2023  \n",
       "2      04.11.2023  \n",
       "3      04.11.2023  \n",
       "6      04.11.2023  \n",
       "...           ...  \n",
       "33241  23.08.2023  \n",
       "33242  03.11.2023  \n",
       "33243  03.11.2023  \n",
       "33244  23.08.2023  \n",
       "33245  03.11.2023  \n",
       "\n",
       "[30797 rows x 6 columns]"
      ]
     },
     "execution_count": 83,
     "metadata": {},
     "output_type": "execute_result"
    }
   ],
   "source": [
    "merged_data_cleaned\n"
   ]
  },
  {
   "cell_type": "code",
   "execution_count": 84,
   "metadata": {},
   "outputs": [
    {
     "name": "stdout",
     "output_type": "stream",
     "text": [
      "location\n",
      "New York                     1004\n",
      "Chicago                       535\n",
      "Los Angeles                   487\n",
      "Atlanta                       447\n",
      "Houston                       446\n",
      "                             ... \n",
      "Los Altos                       1\n",
      "Purcellville                    1\n",
      "Hernando                        1\n",
      "Beaumont-Port Arthur Area       1\n",
      "Little River                    1\n",
      "Name: count, Length: 3742, dtype: int64\n"
     ]
    }
   ],
   "source": [
    "# Group by 'location' column and count occurrences\n",
    "city_counts = merged_data_cleaned['location'].value_counts()\n",
    "\n",
    "# Sort the cities by their occurrence counts in descending order\n",
    "sorted_cities = city_counts.sort_values(ascending=False)\n",
    "\n",
    "# Display the sorted cities with their occurrence counts\n",
    "print(sorted_cities)"
   ]
  }
 ],
 "metadata": {
  "kernelspec": {
   "display_name": "Python 3",
   "language": "python",
   "name": "python3"
  },
  "language_info": {
   "codemirror_mode": {
    "name": "ipython",
    "version": 3
   },
   "file_extension": ".py",
   "mimetype": "text/x-python",
   "name": "python",
   "nbconvert_exporter": "python",
   "pygments_lexer": "ipython3",
   "version": "3.12.0"
  }
 },
 "nbformat": 4,
 "nbformat_minor": 2
}
