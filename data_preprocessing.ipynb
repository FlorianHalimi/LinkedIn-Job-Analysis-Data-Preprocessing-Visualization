{
 "cells": [
  {
   "cell_type": "markdown",
   "metadata": {},
   "source": [
    "### Data preprocessing of LinkedIn Job Postings Dataset\n",
    "#### Setup and Library Installation"
   ]
  },
  {
   "cell_type": "code",
   "execution_count": 3,
   "metadata": {},
   "outputs": [
    {
     "name": "stdout",
     "output_type": "stream",
     "text": [
      "Requirement already satisfied: pandas in c:\\users\\blina smailaj\\appdata\\local\\programs\\python\\python312\\lib\\site-packages (2.1.4)\n",
      "Requirement already satisfied: numpy<2,>=1.26.0 in c:\\users\\blina smailaj\\appdata\\local\\programs\\python\\python312\\lib\\site-packages (from pandas) (1.26.2)\n",
      "Requirement already satisfied: python-dateutil>=2.8.2 in c:\\users\\blina smailaj\\appdata\\roaming\\python\\python312\\site-packages (from pandas) (2.8.2)\n",
      "Requirement already satisfied: pytz>=2020.1 in c:\\users\\blina smailaj\\appdata\\local\\programs\\python\\python312\\lib\\site-packages (from pandas) (2023.3.post1)\n",
      "Requirement already satisfied: tzdata>=2022.1 in c:\\users\\blina smailaj\\appdata\\local\\programs\\python\\python312\\lib\\site-packages (from pandas) (2023.3)\n",
      "Requirement already satisfied: six>=1.5 in c:\\users\\blina smailaj\\appdata\\roaming\\python\\python312\\site-packages (from python-dateutil>=2.8.2->pandas) (1.16.0)\n",
      "Note: you may need to restart the kernel to use updated packages.\n"
     ]
    },
    {
     "name": "stderr",
     "output_type": "stream",
     "text": [
      "\n",
      "[notice] A new release of pip is available: 23.2.1 -> 23.3.2\n",
      "[notice] To update, run: python.exe -m pip install --upgrade pip\n"
     ]
    }
   ],
   "source": [
    "%pip install pandas"
   ]
  },
  {
   "cell_type": "code",
   "execution_count": 4,
   "metadata": {},
   "outputs": [
    {
     "name": "stdout",
     "output_type": "stream",
     "text": [
      "Requirement already satisfied: seaborn in c:\\users\\blina smailaj\\appdata\\local\\programs\\python\\python312\\lib\\site-packages (0.13.0)\n",
      "Requirement already satisfied: numpy!=1.24.0,>=1.20 in c:\\users\\blina smailaj\\appdata\\local\\programs\\python\\python312\\lib\\site-packages (from seaborn) (1.26.2)\n",
      "Requirement already satisfied: pandas>=1.2 in c:\\users\\blina smailaj\\appdata\\local\\programs\\python\\python312\\lib\\site-packages (from seaborn) (2.1.4)\n",
      "Requirement already satisfied: matplotlib!=3.6.1,>=3.3 in c:\\users\\blina smailaj\\appdata\\local\\programs\\python\\python312\\lib\\site-packages (from seaborn) (3.8.2)\n",
      "Requirement already satisfied: contourpy>=1.0.1 in c:\\users\\blina smailaj\\appdata\\local\\programs\\python\\python312\\lib\\site-packages (from matplotlib!=3.6.1,>=3.3->seaborn) (1.2.0)\n",
      "Requirement already satisfied: cycler>=0.10 in c:\\users\\blina smailaj\\appdata\\local\\programs\\python\\python312\\lib\\site-packages (from matplotlib!=3.6.1,>=3.3->seaborn) (0.12.1)\n",
      "Requirement already satisfied: fonttools>=4.22.0 in c:\\users\\blina smailaj\\appdata\\local\\programs\\python\\python312\\lib\\site-packages (from matplotlib!=3.6.1,>=3.3->seaborn) (4.47.0)\n",
      "Requirement already satisfied: kiwisolver>=1.3.1 in c:\\users\\blina smailaj\\appdata\\local\\programs\\python\\python312\\lib\\site-packages (from matplotlib!=3.6.1,>=3.3->seaborn) (1.4.5)\n",
      "Requirement already satisfied: packaging>=20.0 in c:\\users\\blina smailaj\\appdata\\roaming\\python\\python312\\site-packages (from matplotlib!=3.6.1,>=3.3->seaborn) (23.2)\n",
      "Requirement already satisfied: pillow>=8 in c:\\users\\blina smailaj\\appdata\\local\\programs\\python\\python312\\lib\\site-packages (from matplotlib!=3.6.1,>=3.3->seaborn) (10.1.0)\n",
      "Requirement already satisfied: pyparsing>=2.3.1 in c:\\users\\blina smailaj\\appdata\\local\\programs\\python\\python312\\lib\\site-packages (from matplotlib!=3.6.1,>=3.3->seaborn) (3.1.1)\n",
      "Requirement already satisfied: python-dateutil>=2.7 in c:\\users\\blina smailaj\\appdata\\roaming\\python\\python312\\site-packages (from matplotlib!=3.6.1,>=3.3->seaborn) (2.8.2)\n",
      "Requirement already satisfied: pytz>=2020.1 in c:\\users\\blina smailaj\\appdata\\local\\programs\\python\\python312\\lib\\site-packages (from pandas>=1.2->seaborn) (2023.3.post1)\n",
      "Requirement already satisfied: tzdata>=2022.1 in c:\\users\\blina smailaj\\appdata\\local\\programs\\python\\python312\\lib\\site-packages (from pandas>=1.2->seaborn) (2023.3)\n",
      "Requirement already satisfied: six>=1.5 in c:\\users\\blina smailaj\\appdata\\roaming\\python\\python312\\site-packages (from python-dateutil>=2.7->matplotlib!=3.6.1,>=3.3->seaborn) (1.16.0)\n",
      "Note: you may need to restart the kernel to use updated packages.\n"
     ]
    },
    {
     "name": "stderr",
     "output_type": "stream",
     "text": [
      "\n",
      "[notice] A new release of pip is available: 23.2.1 -> 23.3.2\n",
      "[notice] To update, run: python.exe -m pip install --upgrade pip\n"
     ]
    }
   ],
   "source": [
    "%pip install seaborn"
   ]
  },
  {
   "cell_type": "code",
   "execution_count": 5,
   "metadata": {},
   "outputs": [
    {
     "name": "stdout",
     "output_type": "stream",
     "text": [
      "Requirement already satisfied: matplotlib in c:\\users\\blina smailaj\\appdata\\local\\programs\\python\\python312\\lib\\site-packages (3.8.2)\n",
      "Requirement already satisfied: contourpy>=1.0.1 in c:\\users\\blina smailaj\\appdata\\local\\programs\\python\\python312\\lib\\site-packages (from matplotlib) (1.2.0)\n",
      "Requirement already satisfied: cycler>=0.10 in c:\\users\\blina smailaj\\appdata\\local\\programs\\python\\python312\\lib\\site-packages (from matplotlib) (0.12.1)\n",
      "Requirement already satisfied: fonttools>=4.22.0 in c:\\users\\blina smailaj\\appdata\\local\\programs\\python\\python312\\lib\\site-packages (from matplotlib) (4.47.0)\n",
      "Requirement already satisfied: kiwisolver>=1.3.1 in c:\\users\\blina smailaj\\appdata\\local\\programs\\python\\python312\\lib\\site-packages (from matplotlib) (1.4.5)\n",
      "Requirement already satisfied: numpy<2,>=1.21 in c:\\users\\blina smailaj\\appdata\\local\\programs\\python\\python312\\lib\\site-packages (from matplotlib) (1.26.2)\n",
      "Requirement already satisfied: packaging>=20.0 in c:\\users\\blina smailaj\\appdata\\roaming\\python\\python312\\site-packages (from matplotlib) (23.2)\n",
      "Requirement already satisfied: pillow>=8 in c:\\users\\blina smailaj\\appdata\\local\\programs\\python\\python312\\lib\\site-packages (from matplotlib) (10.1.0)\n",
      "Requirement already satisfied: pyparsing>=2.3.1 in c:\\users\\blina smailaj\\appdata\\local\\programs\\python\\python312\\lib\\site-packages (from matplotlib) (3.1.1)\n",
      "Requirement already satisfied: python-dateutil>=2.7 in c:\\users\\blina smailaj\\appdata\\roaming\\python\\python312\\site-packages (from matplotlib) (2.8.2)\n",
      "Requirement already satisfied: six>=1.5 in c:\\users\\blina smailaj\\appdata\\roaming\\python\\python312\\site-packages (from python-dateutil>=2.7->matplotlib) (1.16.0)\n",
      "Note: you may need to restart the kernel to use updated packages.\n"
     ]
    },
    {
     "name": "stderr",
     "output_type": "stream",
     "text": [
      "\n",
      "[notice] A new release of pip is available: 23.2.1 -> 23.3.2\n",
      "[notice] To update, run: python.exe -m pip install --upgrade pip\n"
     ]
    }
   ],
   "source": [
    "%pip install matplotlib"
   ]
  },
  {
   "cell_type": "code",
   "execution_count": 6,
   "metadata": {},
   "outputs": [
    {
     "name": "stdout",
     "output_type": "stream",
     "text": [
      "Requirement already satisfied: scipy in c:\\users\\blina smailaj\\appdata\\local\\programs\\python\\python312\\lib\\site-packages (1.11.4)\n",
      "Requirement already satisfied: numpy<1.28.0,>=1.21.6 in c:\\users\\blina smailaj\\appdata\\local\\programs\\python\\python312\\lib\\site-packages (from scipy) (1.26.2)\n",
      "Note: you may need to restart the kernel to use updated packages.\n"
     ]
    },
    {
     "name": "stderr",
     "output_type": "stream",
     "text": [
      "\n",
      "[notice] A new release of pip is available: 23.2.1 -> 23.3.2\n",
      "[notice] To update, run: python.exe -m pip install --upgrade pip\n"
     ]
    }
   ],
   "source": [
    "%pip install scipy"
   ]
  },
  {
   "cell_type": "markdown",
   "metadata": {},
   "source": [
    "#### Library Imports\n",
    "\n"
   ]
  },
  {
   "cell_type": "code",
   "execution_count": 7,
   "metadata": {},
   "outputs": [],
   "source": [
    "import pandas as pd\n",
    "from scipy import stats\n",
    "import numpy as np\n",
    "import matplotlib.pyplot as plt\n",
    "import re"
   ]
  },
  {
   "cell_type": "markdown",
   "metadata": {},
   "source": [
    "#### Loading Data"
   ]
  },
  {
   "cell_type": "code",
   "execution_count": 64,
   "metadata": {},
   "outputs": [],
   "source": [
    "# Load datasets from the CSV files for analysis.\n",
    "job_postings = pd.read_csv('data/job_postings.csv')\n",
    "job_skills = pd.read_csv('data/job_details/job_skills.csv')\n",
    "\n",
    "companies = pd.read_csv('data/company_details/companies.csv')\n",
    "mapping_skills = pd.read_csv('data/maps/skills.csv')"
   ]
  },
  {
   "cell_type": "markdown",
   "metadata": {},
   "source": [
    "#### Dataset summary"
   ]
  },
  {
   "cell_type": "code",
   "execution_count": 65,
   "metadata": {},
   "outputs": [
    {
     "data": {
      "text/plain": [
       "{'job_postings': 33246, 'job_skills': 32422, 'companies': 11361, 'skills': 35}"
      ]
     },
     "execution_count": 65,
     "metadata": {},
     "output_type": "execute_result"
    }
   ],
   "source": [
    "unique_values = {\n",
    "    'job_postings': job_postings['job_id'].nunique(), # details of job postings\n",
    "    'job_skills': job_skills['job_id'].nunique(), # job posting with the required skill abbreviated\n",
    "    'companies': companies['company_id'].nunique(), # information on the company\n",
    "    'skills': mapping_skills['skill_name'].nunique() # maps between skill abbreviations and full skill names\n",
    "    }\n",
    "unique_values"
   ]
  },
  {
   "cell_type": "markdown",
   "metadata": {},
   "source": [
    "#### Handling the integration of job_skills with mapping_skills\n",
    "Merging job_skills with mapping_skills"
   ]
  },
  {
   "cell_type": "code",
   "execution_count": 66,
   "metadata": {},
   "outputs": [
    {
     "data": {
      "text/html": [
       "<div>\n",
       "<style scoped>\n",
       "    .dataframe tbody tr th:only-of-type {\n",
       "        vertical-align: middle;\n",
       "    }\n",
       "\n",
       "    .dataframe tbody tr th {\n",
       "        vertical-align: top;\n",
       "    }\n",
       "\n",
       "    .dataframe thead th {\n",
       "        text-align: right;\n",
       "    }\n",
       "</style>\n",
       "<table border=\"1\" class=\"dataframe\">\n",
       "  <thead>\n",
       "    <tr style=\"text-align: right;\">\n",
       "      <th></th>\n",
       "      <th>job_id</th>\n",
       "      <th>skill_name</th>\n",
       "    </tr>\n",
       "  </thead>\n",
       "  <tbody>\n",
       "    <tr>\n",
       "      <th>0</th>\n",
       "      <td>3690843087</td>\n",
       "      <td>Accounting/Auditing</td>\n",
       "    </tr>\n",
       "    <tr>\n",
       "      <th>1</th>\n",
       "      <td>3690843087</td>\n",
       "      <td>Finance</td>\n",
       "    </tr>\n",
       "    <tr>\n",
       "      <th>2</th>\n",
       "      <td>3691763971</td>\n",
       "      <td>Management</td>\n",
       "    </tr>\n",
       "    <tr>\n",
       "      <th>3</th>\n",
       "      <td>3691763971</td>\n",
       "      <td>Manufacturing</td>\n",
       "    </tr>\n",
       "    <tr>\n",
       "      <th>4</th>\n",
       "      <td>3691775263</td>\n",
       "      <td>Management</td>\n",
       "    </tr>\n",
       "  </tbody>\n",
       "</table>\n",
       "</div>"
      ],
      "text/plain": [
       "       job_id           skill_name\n",
       "0  3690843087  Accounting/Auditing\n",
       "1  3690843087              Finance\n",
       "2  3691763971           Management\n",
       "3  3691763971        Manufacturing\n",
       "4  3691775263           Management"
      ]
     },
     "execution_count": 66,
     "metadata": {},
     "output_type": "execute_result"
    }
   ],
   "source": [
    "# Merging job_skills with mapping_skills to replace skill_abr with skill_name\n",
    "merged_skills = pd.merge(job_skills, mapping_skills, on='skill_abr', how='left')\n",
    "merged_skills = merged_skills.drop('skill_abr', axis=1)\n",
    "merged_skills.head()"
   ]
  },
  {
   "cell_type": "code",
   "execution_count": 67,
   "metadata": {},
   "outputs": [
    {
     "data": {
      "text/plain": [
       "(56591, 2)"
      ]
     },
     "execution_count": 67,
     "metadata": {},
     "output_type": "execute_result"
    }
   ],
   "source": [
    "merged_skills.shape"
   ]
  },
  {
   "cell_type": "markdown",
   "metadata": {},
   "source": [
    "Aggregating Skills by Job ID"
   ]
  },
  {
   "cell_type": "code",
   "execution_count": 68,
   "metadata": {},
   "outputs": [
    {
     "name": "stdout",
     "output_type": "stream",
     "text": [
      "           job_id                                    skill_name\n",
      "0         3958427  Design, Art/Creative, Information Technology\n",
      "1        85008768                   Sales, Business Development\n",
      "2       102339515                   Business Development, Sales\n",
      "3       108965123                                Administrative\n",
      "4       133114754                   Sales, Business Development\n",
      "...           ...                                           ...\n",
      "32417  3757937095                        Information Technology\n",
      "32418  3757938018                     Management, Manufacturing\n",
      "32419  3757938019                                   Engineering\n",
      "32420  3757940025                     Management, Manufacturing\n",
      "32421  3757940104                                         Other\n",
      "\n",
      "[32422 rows x 2 columns]\n"
     ]
    }
   ],
   "source": [
    "# Aggregation process is done to handle duplicate 'job_id's resulting from multiple skills per job:\n",
    "\n",
    "# Grouping by 'job_id' and concatenating 'skill_name' values\n",
    "grouped_skills = merged_skills.groupby('job_id')['skill_name'].agg(lambda x: ', '.join(x)).reset_index()\n",
    "\n",
    "# Display the resulting DataFrame with unique 'job_id' rows and concatenated skills\n",
    "print(grouped_skills)"
   ]
  },
  {
   "cell_type": "markdown",
   "metadata": {},
   "source": [
    "#### Handling the integration of job_postings with grouped_skills\n",
    "Checking for missing data in Company ID's"
   ]
  },
  {
   "cell_type": "code",
   "execution_count": 69,
   "metadata": {},
   "outputs": [
    {
     "data": {
      "text/plain": [
       "654"
      ]
     },
     "execution_count": 69,
     "metadata": {},
     "output_type": "execute_result"
    }
   ],
   "source": [
    "missing_id = job_postings['company_id'].isnull().sum()\n",
    "missing_id"
   ]
  },
  {
   "cell_type": "markdown",
   "metadata": {},
   "source": [
    "Dropping rows with empty company_id's"
   ]
  },
  {
   "cell_type": "code",
   "execution_count": 70,
   "metadata": {},
   "outputs": [
    {
     "data": {
      "text/plain": [
       "(33246, 28)"
      ]
     },
     "execution_count": 70,
     "metadata": {},
     "output_type": "execute_result"
    }
   ],
   "source": [
    "# Shape of dataset before removing missing values\n",
    "job_postings.shape"
   ]
  },
  {
   "cell_type": "code",
   "execution_count": 15,
   "metadata": {},
   "outputs": [
    {
     "data": {
      "text/plain": [
       "(32592, 28)"
      ]
     },
     "execution_count": 15,
     "metadata": {},
     "output_type": "execute_result"
    }
   ],
   "source": [
    "# Inplace = True operation will modify the DataFrame job_postings in place, and the changes will be applied directly to it \n",
    "# without the need to reassign the result to a new variable.\n",
    "job_postings.dropna(subset=['company_id'], inplace=True)\n",
    "job_postings.shape"
   ]
  },
  {
   "cell_type": "code",
   "execution_count": 71,
   "metadata": {},
   "outputs": [
    {
     "data": {
      "text/plain": [
       "654"
      ]
     },
     "execution_count": 71,
     "metadata": {},
     "output_type": "execute_result"
    }
   ],
   "source": [
    "missing_id = job_postings['company_id'].isnull().sum()\n",
    "missing_id"
   ]
  },
  {
   "cell_type": "markdown",
   "metadata": {},
   "source": [
    "Merging job_postings with grouped_skills"
   ]
  },
  {
   "cell_type": "code",
   "execution_count": 72,
   "metadata": {},
   "outputs": [],
   "source": [
    "merged_job_postings_skills = pd.merge(job_postings, grouped_skills, on='job_id', how='left')"
   ]
  },
  {
   "cell_type": "markdown",
   "metadata": {},
   "source": [
    "Converting company data type to int from float"
   ]
  },
  {
   "cell_type": "code",
   "execution_count": 74,
   "metadata": {},
   "outputs": [],
   "source": [
    "# Because there used to be missing values in company id's, NaN was considered as float value, therefore all data in the column was converted\n",
    "# to float from int\n",
    "if 'company_id' in merged_job_postings_skills.columns:\n",
    "    merged_job_postings_skills['company_id'] = merged_job_postings_skills['company_id'].astype('Int64')"
   ]
  },
  {
   "cell_type": "code",
   "execution_count": 75,
   "metadata": {},
   "outputs": [
    {
     "data": {
      "text/html": [
       "<div>\n",
       "<style scoped>\n",
       "    .dataframe tbody tr th:only-of-type {\n",
       "        vertical-align: middle;\n",
       "    }\n",
       "\n",
       "    .dataframe tbody tr th {\n",
       "        vertical-align: top;\n",
       "    }\n",
       "\n",
       "    .dataframe thead th {\n",
       "        text-align: right;\n",
       "    }\n",
       "</style>\n",
       "<table border=\"1\" class=\"dataframe\">\n",
       "  <thead>\n",
       "    <tr style=\"text-align: right;\">\n",
       "      <th></th>\n",
       "      <th>job_id</th>\n",
       "      <th>company_id</th>\n",
       "      <th>title</th>\n",
       "      <th>description</th>\n",
       "      <th>max_salary</th>\n",
       "      <th>med_salary</th>\n",
       "      <th>min_salary</th>\n",
       "      <th>pay_period</th>\n",
       "      <th>formatted_work_type</th>\n",
       "      <th>location</th>\n",
       "      <th>...</th>\n",
       "      <th>formatted_experience_level</th>\n",
       "      <th>skills_desc</th>\n",
       "      <th>listed_time</th>\n",
       "      <th>posting_domain</th>\n",
       "      <th>sponsored</th>\n",
       "      <th>work_type</th>\n",
       "      <th>currency</th>\n",
       "      <th>compensation_type</th>\n",
       "      <th>scraped</th>\n",
       "      <th>skill_name</th>\n",
       "    </tr>\n",
       "  </thead>\n",
       "  <tbody>\n",
       "    <tr>\n",
       "      <th>0</th>\n",
       "      <td>3757940104</td>\n",
       "      <td>553718</td>\n",
       "      <td>Hearing Care Provider</td>\n",
       "      <td>Overview\\n\\nHearingLife is a national hearing ...</td>\n",
       "      <td>NaN</td>\n",
       "      <td>5250.00</td>\n",
       "      <td>NaN</td>\n",
       "      <td>MONTHLY</td>\n",
       "      <td>Full-time</td>\n",
       "      <td>Little River, SC</td>\n",
       "      <td>...</td>\n",
       "      <td>Entry level</td>\n",
       "      <td>NaN</td>\n",
       "      <td>1.699090e+12</td>\n",
       "      <td>careers-demant.icims.com</td>\n",
       "      <td>0</td>\n",
       "      <td>FULL_TIME</td>\n",
       "      <td>USD</td>\n",
       "      <td>BASE_SALARY</td>\n",
       "      <td>1699138101</td>\n",
       "      <td>Other</td>\n",
       "    </tr>\n",
       "    <tr>\n",
       "      <th>1</th>\n",
       "      <td>3757940025</td>\n",
       "      <td>2192142</td>\n",
       "      <td>Shipping &amp; Receiving Associate 2nd shift (Beav...</td>\n",
       "      <td>Metalcraft of Mayville\\nMetalcraft of Mayville...</td>\n",
       "      <td>NaN</td>\n",
       "      <td>NaN</td>\n",
       "      <td>NaN</td>\n",
       "      <td>NaN</td>\n",
       "      <td>Full-time</td>\n",
       "      <td>Beaver Dam, WI</td>\n",
       "      <td>...</td>\n",
       "      <td>NaN</td>\n",
       "      <td>NaN</td>\n",
       "      <td>1.699080e+12</td>\n",
       "      <td>www.click2apply.net</td>\n",
       "      <td>0</td>\n",
       "      <td>FULL_TIME</td>\n",
       "      <td>NaN</td>\n",
       "      <td>NaN</td>\n",
       "      <td>1699085420</td>\n",
       "      <td>Management, Manufacturing</td>\n",
       "    </tr>\n",
       "    <tr>\n",
       "      <th>2</th>\n",
       "      <td>3757938019</td>\n",
       "      <td>474443</td>\n",
       "      <td>Manager, Engineering</td>\n",
       "      <td>\\nThe TSUBAKI name is synonymous with excellen...</td>\n",
       "      <td>NaN</td>\n",
       "      <td>NaN</td>\n",
       "      <td>NaN</td>\n",
       "      <td>NaN</td>\n",
       "      <td>Full-time</td>\n",
       "      <td>Bessemer, AL</td>\n",
       "      <td>...</td>\n",
       "      <td>NaN</td>\n",
       "      <td>Bachelor's Degree in Mechanical Engineering pr...</td>\n",
       "      <td>1.699080e+12</td>\n",
       "      <td>www.click2apply.net</td>\n",
       "      <td>0</td>\n",
       "      <td>FULL_TIME</td>\n",
       "      <td>NaN</td>\n",
       "      <td>NaN</td>\n",
       "      <td>1699085644</td>\n",
       "      <td>Engineering</td>\n",
       "    </tr>\n",
       "    <tr>\n",
       "      <th>3</th>\n",
       "      <td>3757938018</td>\n",
       "      <td>18213359</td>\n",
       "      <td>Cook</td>\n",
       "      <td>descriptionTitle\\n\\n Looking for a great oppor...</td>\n",
       "      <td>NaN</td>\n",
       "      <td>22.27</td>\n",
       "      <td>NaN</td>\n",
       "      <td>HOURLY</td>\n",
       "      <td>Full-time</td>\n",
       "      <td>Aliso Viejo, CA</td>\n",
       "      <td>...</td>\n",
       "      <td>Entry level</td>\n",
       "      <td>NaN</td>\n",
       "      <td>1.699080e+12</td>\n",
       "      <td>jobs.apploi.com</td>\n",
       "      <td>0</td>\n",
       "      <td>FULL_TIME</td>\n",
       "      <td>USD</td>\n",
       "      <td>BASE_SALARY</td>\n",
       "      <td>1699087461</td>\n",
       "      <td>Management, Manufacturing</td>\n",
       "    </tr>\n",
       "    <tr>\n",
       "      <th>4</th>\n",
       "      <td>3757937095</td>\n",
       "      <td>437225</td>\n",
       "      <td>Principal Cloud Security Architect (Remote)</td>\n",
       "      <td>Job Summary\\nAt iHerb, we are on a mission to ...</td>\n",
       "      <td>275834.0</td>\n",
       "      <td>NaN</td>\n",
       "      <td>205956.0</td>\n",
       "      <td>YEARLY</td>\n",
       "      <td>Full-time</td>\n",
       "      <td>United States</td>\n",
       "      <td>...</td>\n",
       "      <td>Mid-Senior level</td>\n",
       "      <td>NaN</td>\n",
       "      <td>1.699090e+12</td>\n",
       "      <td>careers.iherb.com</td>\n",
       "      <td>0</td>\n",
       "      <td>FULL_TIME</td>\n",
       "      <td>USD</td>\n",
       "      <td>BASE_SALARY</td>\n",
       "      <td>1699085346</td>\n",
       "      <td>Information Technology</td>\n",
       "    </tr>\n",
       "  </tbody>\n",
       "</table>\n",
       "<p>5 rows × 29 columns</p>\n",
       "</div>"
      ],
      "text/plain": [
       "       job_id  company_id                                              title  \\\n",
       "0  3757940104      553718                              Hearing Care Provider   \n",
       "1  3757940025     2192142  Shipping & Receiving Associate 2nd shift (Beav...   \n",
       "2  3757938019      474443                               Manager, Engineering   \n",
       "3  3757938018    18213359                                               Cook   \n",
       "4  3757937095      437225        Principal Cloud Security Architect (Remote)   \n",
       "\n",
       "                                         description  max_salary  med_salary  \\\n",
       "0  Overview\\n\\nHearingLife is a national hearing ...         NaN     5250.00   \n",
       "1  Metalcraft of Mayville\\nMetalcraft of Mayville...         NaN         NaN   \n",
       "2  \\nThe TSUBAKI name is synonymous with excellen...         NaN         NaN   \n",
       "3  descriptionTitle\\n\\n Looking for a great oppor...         NaN       22.27   \n",
       "4  Job Summary\\nAt iHerb, we are on a mission to ...    275834.0         NaN   \n",
       "\n",
       "   min_salary pay_period formatted_work_type          location  ...  \\\n",
       "0         NaN    MONTHLY           Full-time  Little River, SC  ...   \n",
       "1         NaN        NaN           Full-time    Beaver Dam, WI  ...   \n",
       "2         NaN        NaN           Full-time      Bessemer, AL  ...   \n",
       "3         NaN     HOURLY           Full-time   Aliso Viejo, CA  ...   \n",
       "4    205956.0     YEARLY           Full-time     United States  ...   \n",
       "\n",
       "   formatted_experience_level  \\\n",
       "0                 Entry level   \n",
       "1                         NaN   \n",
       "2                         NaN   \n",
       "3                 Entry level   \n",
       "4            Mid-Senior level   \n",
       "\n",
       "                                         skills_desc   listed_time  \\\n",
       "0                                                NaN  1.699090e+12   \n",
       "1                                                NaN  1.699080e+12   \n",
       "2  Bachelor's Degree in Mechanical Engineering pr...  1.699080e+12   \n",
       "3                                                NaN  1.699080e+12   \n",
       "4                                                NaN  1.699090e+12   \n",
       "\n",
       "             posting_domain sponsored  work_type currency  compensation_type  \\\n",
       "0  careers-demant.icims.com         0  FULL_TIME      USD        BASE_SALARY   \n",
       "1       www.click2apply.net         0  FULL_TIME      NaN                NaN   \n",
       "2       www.click2apply.net         0  FULL_TIME      NaN                NaN   \n",
       "3           jobs.apploi.com         0  FULL_TIME      USD        BASE_SALARY   \n",
       "4         careers.iherb.com         0  FULL_TIME      USD        BASE_SALARY   \n",
       "\n",
       "      scraped                 skill_name  \n",
       "0  1699138101                      Other  \n",
       "1  1699085420  Management, Manufacturing  \n",
       "2  1699085644                Engineering  \n",
       "3  1699087461  Management, Manufacturing  \n",
       "4  1699085346     Information Technology  \n",
       "\n",
       "[5 rows x 29 columns]"
      ]
     },
     "execution_count": 75,
     "metadata": {},
     "output_type": "execute_result"
    }
   ],
   "source": [
    "merged_job_postings_skills.head()"
   ]
  },
  {
   "cell_type": "markdown",
   "metadata": {},
   "source": [
    "Reducing dimensionality of merged_job_postings_skills by dropping unnecessary columns"
   ]
  },
  {
   "cell_type": "code",
   "execution_count": 76,
   "metadata": {},
   "outputs": [
    {
     "data": {
      "text/html": [
       "<div>\n",
       "<style scoped>\n",
       "    .dataframe tbody tr th:only-of-type {\n",
       "        vertical-align: middle;\n",
       "    }\n",
       "\n",
       "    .dataframe tbody tr th {\n",
       "        vertical-align: top;\n",
       "    }\n",
       "\n",
       "    .dataframe thead th {\n",
       "        text-align: right;\n",
       "    }\n",
       "</style>\n",
       "<table border=\"1\" class=\"dataframe\">\n",
       "  <thead>\n",
       "    <tr style=\"text-align: right;\">\n",
       "      <th></th>\n",
       "      <th>job_id</th>\n",
       "      <th>company_id</th>\n",
       "      <th>location</th>\n",
       "      <th>formatted_experience_level</th>\n",
       "      <th>skill_name</th>\n",
       "    </tr>\n",
       "  </thead>\n",
       "  <tbody>\n",
       "    <tr>\n",
       "      <th>0</th>\n",
       "      <td>3757940104</td>\n",
       "      <td>553718</td>\n",
       "      <td>Little River, SC</td>\n",
       "      <td>Entry level</td>\n",
       "      <td>Other</td>\n",
       "    </tr>\n",
       "    <tr>\n",
       "      <th>1</th>\n",
       "      <td>3757940025</td>\n",
       "      <td>2192142</td>\n",
       "      <td>Beaver Dam, WI</td>\n",
       "      <td>NaN</td>\n",
       "      <td>Management, Manufacturing</td>\n",
       "    </tr>\n",
       "    <tr>\n",
       "      <th>2</th>\n",
       "      <td>3757938019</td>\n",
       "      <td>474443</td>\n",
       "      <td>Bessemer, AL</td>\n",
       "      <td>NaN</td>\n",
       "      <td>Engineering</td>\n",
       "    </tr>\n",
       "    <tr>\n",
       "      <th>3</th>\n",
       "      <td>3757938018</td>\n",
       "      <td>18213359</td>\n",
       "      <td>Aliso Viejo, CA</td>\n",
       "      <td>Entry level</td>\n",
       "      <td>Management, Manufacturing</td>\n",
       "    </tr>\n",
       "    <tr>\n",
       "      <th>4</th>\n",
       "      <td>3757937095</td>\n",
       "      <td>437225</td>\n",
       "      <td>United States</td>\n",
       "      <td>Mid-Senior level</td>\n",
       "      <td>Information Technology</td>\n",
       "    </tr>\n",
       "  </tbody>\n",
       "</table>\n",
       "</div>"
      ],
      "text/plain": [
       "       job_id  company_id          location formatted_experience_level  \\\n",
       "0  3757940104      553718  Little River, SC                Entry level   \n",
       "1  3757940025     2192142    Beaver Dam, WI                        NaN   \n",
       "2  3757938019      474443      Bessemer, AL                        NaN   \n",
       "3  3757938018    18213359   Aliso Viejo, CA                Entry level   \n",
       "4  3757937095      437225     United States           Mid-Senior level   \n",
       "\n",
       "                  skill_name  \n",
       "0                      Other  \n",
       "1  Management, Manufacturing  \n",
       "2                Engineering  \n",
       "3  Management, Manufacturing  \n",
       "4     Information Technology  "
      ]
     },
     "execution_count": 76,
     "metadata": {},
     "output_type": "execute_result"
    }
   ],
   "source": [
    "columns_to_drop = ['description', 'max_salary','med_salary','min_salary',\n",
    "                   'pay_period', 'applies', 'formatted_work_type', 'remote_allowed',\n",
    "                   'job_posting_url','views','title','application_url','application_type',\n",
    "                   'expiry','skills_desc','posting_domain','sponsored','original_listed_time',\n",
    "                   'work_type','currency','compensation_type','scraped','closed_time','listed_time'\n",
    "                   ]\n",
    "merged_job_postings_skills= merged_job_postings_skills.drop(columns=columns_to_drop,axis=1)\n",
    "merged_job_postings_skills.head()\n"
   ]
  },
  {
   "cell_type": "markdown",
   "metadata": {},
   "source": [
    "#### Handling the integration of merged_job_postings_skills with companies\n",
    "Merging merged_job_postings_skills with companies\n"
   ]
  },
  {
   "cell_type": "code",
   "execution_count": 77,
   "metadata": {},
   "outputs": [
    {
     "data": {
      "text/html": [
       "<div>\n",
       "<style scoped>\n",
       "    .dataframe tbody tr th:only-of-type {\n",
       "        vertical-align: middle;\n",
       "    }\n",
       "\n",
       "    .dataframe tbody tr th {\n",
       "        vertical-align: top;\n",
       "    }\n",
       "\n",
       "    .dataframe thead th {\n",
       "        text-align: right;\n",
       "    }\n",
       "</style>\n",
       "<table border=\"1\" class=\"dataframe\">\n",
       "  <thead>\n",
       "    <tr style=\"text-align: right;\">\n",
       "      <th></th>\n",
       "      <th>job_id</th>\n",
       "      <th>company_id</th>\n",
       "      <th>location</th>\n",
       "      <th>formatted_experience_level</th>\n",
       "      <th>skill_name</th>\n",
       "      <th>name</th>\n",
       "      <th>description</th>\n",
       "      <th>company_size</th>\n",
       "      <th>state</th>\n",
       "      <th>country</th>\n",
       "      <th>city</th>\n",
       "      <th>zip_code</th>\n",
       "      <th>address</th>\n",
       "      <th>url</th>\n",
       "    </tr>\n",
       "  </thead>\n",
       "  <tbody>\n",
       "    <tr>\n",
       "      <th>0</th>\n",
       "      <td>3757940104</td>\n",
       "      <td>553718</td>\n",
       "      <td>Little River, SC</td>\n",
       "      <td>Entry level</td>\n",
       "      <td>Other</td>\n",
       "      <td>HearingLife</td>\n",
       "      <td>HearingLife is a national hearing care company...</td>\n",
       "      <td>5.0</td>\n",
       "      <td>New Jersey</td>\n",
       "      <td>US</td>\n",
       "      <td>Somerset</td>\n",
       "      <td>08873</td>\n",
       "      <td>580 Howard Avenue</td>\n",
       "      <td>https://www.linkedin.com/company/hearing-life</td>\n",
       "    </tr>\n",
       "    <tr>\n",
       "      <th>1</th>\n",
       "      <td>3757940025</td>\n",
       "      <td>2192142</td>\n",
       "      <td>Beaver Dam, WI</td>\n",
       "      <td>NaN</td>\n",
       "      <td>Management, Manufacturing</td>\n",
       "      <td>Metalcraft of Mayville, Inc.</td>\n",
       "      <td>Headquartered in Mayville, Wisconsin, Metalcra...</td>\n",
       "      <td>4.0</td>\n",
       "      <td>WI</td>\n",
       "      <td>US</td>\n",
       "      <td>Mayville</td>\n",
       "      <td>53050</td>\n",
       "      <td>1000 Metalcraft Drive</td>\n",
       "      <td>https://www.linkedin.com/company/metalcraft-of...</td>\n",
       "    </tr>\n",
       "    <tr>\n",
       "      <th>2</th>\n",
       "      <td>3757938019</td>\n",
       "      <td>474443</td>\n",
       "      <td>Bessemer, AL</td>\n",
       "      <td>NaN</td>\n",
       "      <td>Engineering</td>\n",
       "      <td>U.S. Tsubaki Power Transmission, LLC</td>\n",
       "      <td>U.S. Tsubaki Power Transmission, LLC is a subs...</td>\n",
       "      <td>4.0</td>\n",
       "      <td>Illinois</td>\n",
       "      <td>US</td>\n",
       "      <td>Wheeling</td>\n",
       "      <td>60090</td>\n",
       "      <td>301E Marquardt Drive</td>\n",
       "      <td>https://www.linkedin.com/company/u.s.-tsubaki-...</td>\n",
       "    </tr>\n",
       "    <tr>\n",
       "      <th>3</th>\n",
       "      <td>3757938018</td>\n",
       "      <td>18213359</td>\n",
       "      <td>Aliso Viejo, CA</td>\n",
       "      <td>Entry level</td>\n",
       "      <td>Management, Manufacturing</td>\n",
       "      <td>Episcopal Communities &amp; Services</td>\n",
       "      <td>Episcopal Communities &amp; Services (ECS) has bec...</td>\n",
       "      <td>4.0</td>\n",
       "      <td>California</td>\n",
       "      <td>US</td>\n",
       "      <td>Altadena</td>\n",
       "      <td>91001</td>\n",
       "      <td>2212 El Molino Ave</td>\n",
       "      <td>https://www.linkedin.com/company/episcopal-com...</td>\n",
       "    </tr>\n",
       "    <tr>\n",
       "      <th>4</th>\n",
       "      <td>3757937095</td>\n",
       "      <td>437225</td>\n",
       "      <td>United States</td>\n",
       "      <td>Mid-Senior level</td>\n",
       "      <td>Information Technology</td>\n",
       "      <td>iHerb, LLC</td>\n",
       "      <td>iHerb is on a mission to make health and welln...</td>\n",
       "      <td>5.0</td>\n",
       "      <td>California</td>\n",
       "      <td>US</td>\n",
       "      <td>Irvine</td>\n",
       "      <td>92618</td>\n",
       "      <td>17400 Laguna Canyon Rd</td>\n",
       "      <td>https://www.linkedin.com/company/iherb</td>\n",
       "    </tr>\n",
       "  </tbody>\n",
       "</table>\n",
       "</div>"
      ],
      "text/plain": [
       "       job_id  company_id          location formatted_experience_level  \\\n",
       "0  3757940104      553718  Little River, SC                Entry level   \n",
       "1  3757940025     2192142    Beaver Dam, WI                        NaN   \n",
       "2  3757938019      474443      Bessemer, AL                        NaN   \n",
       "3  3757938018    18213359   Aliso Viejo, CA                Entry level   \n",
       "4  3757937095      437225     United States           Mid-Senior level   \n",
       "\n",
       "                  skill_name                                  name  \\\n",
       "0                      Other                           HearingLife   \n",
       "1  Management, Manufacturing          Metalcraft of Mayville, Inc.   \n",
       "2                Engineering  U.S. Tsubaki Power Transmission, LLC   \n",
       "3  Management, Manufacturing      Episcopal Communities & Services   \n",
       "4     Information Technology                            iHerb, LLC   \n",
       "\n",
       "                                         description  company_size  \\\n",
       "0  HearingLife is a national hearing care company...           5.0   \n",
       "1  Headquartered in Mayville, Wisconsin, Metalcra...           4.0   \n",
       "2  U.S. Tsubaki Power Transmission, LLC is a subs...           4.0   \n",
       "3  Episcopal Communities & Services (ECS) has bec...           4.0   \n",
       "4  iHerb is on a mission to make health and welln...           5.0   \n",
       "\n",
       "        state country      city zip_code                 address  \\\n",
       "0  New Jersey      US  Somerset    08873       580 Howard Avenue   \n",
       "1          WI      US  Mayville    53050   1000 Metalcraft Drive   \n",
       "2    Illinois      US  Wheeling    60090    301E Marquardt Drive   \n",
       "3  California      US  Altadena    91001      2212 El Molino Ave   \n",
       "4  California      US    Irvine    92618  17400 Laguna Canyon Rd   \n",
       "\n",
       "                                                 url  \n",
       "0      https://www.linkedin.com/company/hearing-life  \n",
       "1  https://www.linkedin.com/company/metalcraft-of...  \n",
       "2  https://www.linkedin.com/company/u.s.-tsubaki-...  \n",
       "3  https://www.linkedin.com/company/episcopal-com...  \n",
       "4             https://www.linkedin.com/company/iherb  "
      ]
     },
     "execution_count": 77,
     "metadata": {},
     "output_type": "execute_result"
    }
   ],
   "source": [
    "merged_data= pd.merge(merged_job_postings_skills, companies, on='company_id', how='left')\n",
    "merged_data.head()"
   ]
  },
  {
   "cell_type": "markdown",
   "metadata": {},
   "source": [
    "Reducing dimensionality by dropping unnecessary columns"
   ]
  },
  {
   "cell_type": "code",
   "execution_count": 78,
   "metadata": {},
   "outputs": [
    {
     "data": {
      "text/html": [
       "<div>\n",
       "<style scoped>\n",
       "    .dataframe tbody tr th:only-of-type {\n",
       "        vertical-align: middle;\n",
       "    }\n",
       "\n",
       "    .dataframe tbody tr th {\n",
       "        vertical-align: top;\n",
       "    }\n",
       "\n",
       "    .dataframe thead th {\n",
       "        text-align: right;\n",
       "    }\n",
       "</style>\n",
       "<table border=\"1\" class=\"dataframe\">\n",
       "  <thead>\n",
       "    <tr style=\"text-align: right;\">\n",
       "      <th></th>\n",
       "      <th>job_id</th>\n",
       "      <th>company_id</th>\n",
       "      <th>location</th>\n",
       "      <th>formatted_experience_level</th>\n",
       "      <th>skill_name</th>\n",
       "      <th>name</th>\n",
       "      <th>country</th>\n",
       "    </tr>\n",
       "  </thead>\n",
       "  <tbody>\n",
       "    <tr>\n",
       "      <th>0</th>\n",
       "      <td>3757940104</td>\n",
       "      <td>553718</td>\n",
       "      <td>Little River, SC</td>\n",
       "      <td>Entry level</td>\n",
       "      <td>Other</td>\n",
       "      <td>HearingLife</td>\n",
       "      <td>US</td>\n",
       "    </tr>\n",
       "    <tr>\n",
       "      <th>1</th>\n",
       "      <td>3757940025</td>\n",
       "      <td>2192142</td>\n",
       "      <td>Beaver Dam, WI</td>\n",
       "      <td>NaN</td>\n",
       "      <td>Management, Manufacturing</td>\n",
       "      <td>Metalcraft of Mayville, Inc.</td>\n",
       "      <td>US</td>\n",
       "    </tr>\n",
       "    <tr>\n",
       "      <th>2</th>\n",
       "      <td>3757938019</td>\n",
       "      <td>474443</td>\n",
       "      <td>Bessemer, AL</td>\n",
       "      <td>NaN</td>\n",
       "      <td>Engineering</td>\n",
       "      <td>U.S. Tsubaki Power Transmission, LLC</td>\n",
       "      <td>US</td>\n",
       "    </tr>\n",
       "    <tr>\n",
       "      <th>3</th>\n",
       "      <td>3757938018</td>\n",
       "      <td>18213359</td>\n",
       "      <td>Aliso Viejo, CA</td>\n",
       "      <td>Entry level</td>\n",
       "      <td>Management, Manufacturing</td>\n",
       "      <td>Episcopal Communities &amp; Services</td>\n",
       "      <td>US</td>\n",
       "    </tr>\n",
       "    <tr>\n",
       "      <th>4</th>\n",
       "      <td>3757937095</td>\n",
       "      <td>437225</td>\n",
       "      <td>United States</td>\n",
       "      <td>Mid-Senior level</td>\n",
       "      <td>Information Technology</td>\n",
       "      <td>iHerb, LLC</td>\n",
       "      <td>US</td>\n",
       "    </tr>\n",
       "  </tbody>\n",
       "</table>\n",
       "</div>"
      ],
      "text/plain": [
       "       job_id  company_id          location formatted_experience_level  \\\n",
       "0  3757940104      553718  Little River, SC                Entry level   \n",
       "1  3757940025     2192142    Beaver Dam, WI                        NaN   \n",
       "2  3757938019      474443      Bessemer, AL                        NaN   \n",
       "3  3757938018    18213359   Aliso Viejo, CA                Entry level   \n",
       "4  3757937095      437225     United States           Mid-Senior level   \n",
       "\n",
       "                  skill_name                                  name country  \n",
       "0                      Other                           HearingLife      US  \n",
       "1  Management, Manufacturing          Metalcraft of Mayville, Inc.      US  \n",
       "2                Engineering  U.S. Tsubaki Power Transmission, LLC      US  \n",
       "3  Management, Manufacturing      Episcopal Communities & Services      US  \n",
       "4     Information Technology                            iHerb, LLC      US  "
      ]
     },
     "execution_count": 78,
     "metadata": {},
     "output_type": "execute_result"
    }
   ],
   "source": [
    "columns_to_drop = ['description','company_size','zip_code','url','address','state','city']\n",
    "merged_data= merged_data.drop(columns=columns_to_drop,axis=1)\n",
    "merged_data.head()"
   ]
  },
  {
   "cell_type": "markdown",
   "metadata": {},
   "source": [
    "Displaying data in a better order"
   ]
  },
  {
   "cell_type": "code",
   "execution_count": 79,
   "metadata": {},
   "outputs": [
    {
     "data": {
      "text/html": [
       "<div>\n",
       "<style scoped>\n",
       "    .dataframe tbody tr th:only-of-type {\n",
       "        vertical-align: middle;\n",
       "    }\n",
       "\n",
       "    .dataframe tbody tr th {\n",
       "        vertical-align: top;\n",
       "    }\n",
       "\n",
       "    .dataframe thead th {\n",
       "        text-align: right;\n",
       "    }\n",
       "</style>\n",
       "<table border=\"1\" class=\"dataframe\">\n",
       "  <thead>\n",
       "    <tr style=\"text-align: right;\">\n",
       "      <th></th>\n",
       "      <th>job_id</th>\n",
       "      <th>company_id</th>\n",
       "      <th>name</th>\n",
       "      <th>location</th>\n",
       "      <th>country</th>\n",
       "      <th>skill_name</th>\n",
       "      <th>formatted_experience_level</th>\n",
       "    </tr>\n",
       "  </thead>\n",
       "  <tbody>\n",
       "    <tr>\n",
       "      <th>0</th>\n",
       "      <td>3757940104</td>\n",
       "      <td>553718</td>\n",
       "      <td>HearingLife</td>\n",
       "      <td>Little River, SC</td>\n",
       "      <td>US</td>\n",
       "      <td>Other</td>\n",
       "      <td>Entry level</td>\n",
       "    </tr>\n",
       "    <tr>\n",
       "      <th>1</th>\n",
       "      <td>3757940025</td>\n",
       "      <td>2192142</td>\n",
       "      <td>Metalcraft of Mayville, Inc.</td>\n",
       "      <td>Beaver Dam, WI</td>\n",
       "      <td>US</td>\n",
       "      <td>Management, Manufacturing</td>\n",
       "      <td>NaN</td>\n",
       "    </tr>\n",
       "    <tr>\n",
       "      <th>2</th>\n",
       "      <td>3757938019</td>\n",
       "      <td>474443</td>\n",
       "      <td>U.S. Tsubaki Power Transmission, LLC</td>\n",
       "      <td>Bessemer, AL</td>\n",
       "      <td>US</td>\n",
       "      <td>Engineering</td>\n",
       "      <td>NaN</td>\n",
       "    </tr>\n",
       "    <tr>\n",
       "      <th>3</th>\n",
       "      <td>3757938018</td>\n",
       "      <td>18213359</td>\n",
       "      <td>Episcopal Communities &amp; Services</td>\n",
       "      <td>Aliso Viejo, CA</td>\n",
       "      <td>US</td>\n",
       "      <td>Management, Manufacturing</td>\n",
       "      <td>Entry level</td>\n",
       "    </tr>\n",
       "    <tr>\n",
       "      <th>4</th>\n",
       "      <td>3757937095</td>\n",
       "      <td>437225</td>\n",
       "      <td>iHerb, LLC</td>\n",
       "      <td>United States</td>\n",
       "      <td>US</td>\n",
       "      <td>Information Technology</td>\n",
       "      <td>Mid-Senior level</td>\n",
       "    </tr>\n",
       "  </tbody>\n",
       "</table>\n",
       "</div>"
      ],
      "text/plain": [
       "       job_id  company_id                                  name  \\\n",
       "0  3757940104      553718                           HearingLife   \n",
       "1  3757940025     2192142          Metalcraft of Mayville, Inc.   \n",
       "2  3757938019      474443  U.S. Tsubaki Power Transmission, LLC   \n",
       "3  3757938018    18213359      Episcopal Communities & Services   \n",
       "4  3757937095      437225                            iHerb, LLC   \n",
       "\n",
       "           location country                 skill_name  \\\n",
       "0  Little River, SC      US                      Other   \n",
       "1    Beaver Dam, WI      US  Management, Manufacturing   \n",
       "2      Bessemer, AL      US                Engineering   \n",
       "3   Aliso Viejo, CA      US  Management, Manufacturing   \n",
       "4     United States      US     Information Technology   \n",
       "\n",
       "  formatted_experience_level  \n",
       "0                Entry level  \n",
       "1                        NaN  \n",
       "2                        NaN  \n",
       "3                Entry level  \n",
       "4           Mid-Senior level  "
      ]
     },
     "execution_count": 79,
     "metadata": {},
     "output_type": "execute_result"
    }
   ],
   "source": [
    "column_order = ['job_id','company_id','name','location','country','skill_name','formatted_experience_level']\n",
    "merged_data = merged_data[column_order]\n",
    "merged_data.head()"
   ]
  },
  {
   "cell_type": "markdown",
   "metadata": {},
   "source": [
    "#### Identify remaining missing data in the merged dataset\n",
    "Display columns with significant missing data"
   ]
  },
  {
   "cell_type": "code",
   "execution_count": 80,
   "metadata": {},
   "outputs": [
    {
     "data": {
      "text/plain": [
       "company_id                     654\n",
       "country                        701\n",
       "name                           705\n",
       "skill_name                    1212\n",
       "formatted_experience_level    9181\n",
       "dtype: int64"
      ]
     },
     "execution_count": 80,
     "metadata": {},
     "output_type": "execute_result"
    }
   ],
   "source": [
    "missing_data = merged_data.isnull().sum()\n",
    "significant_missing_columns = missing_data[missing_data > 0].sort_values(ascending=True)\n",
    "significant_missing_columns"
   ]
  },
  {
   "cell_type": "markdown",
   "metadata": {},
   "source": [
    "Handling missing values of 'name' column"
   ]
  },
  {
   "cell_type": "code",
   "execution_count": 81,
   "metadata": {},
   "outputs": [
    {
     "name": "stdout",
     "output_type": "stream",
     "text": [
      "Number of missing ID's: 705\n",
      "37       <NA>\n",
      "50       <NA>\n",
      "63       <NA>\n",
      "74       <NA>\n",
      "76       <NA>\n",
      "         ... \n",
      "33231    <NA>\n",
      "33232    <NA>\n",
      "33239    <NA>\n",
      "33242    <NA>\n",
      "33244    <NA>\n",
      "Name: company_id, Length: 705, dtype: Int64\n"
     ]
    }
   ],
   "source": [
    "# After merging, 51 rows of company references in job_postings were non existent in the company id's dataset. \n",
    "missing_names = merged_data['name'].isnull().sum()\n",
    "\n",
    "null_name_indices = merged_data[merged_data['name'].isnull()]['company_id']\n",
    "print(\"Number of missing ID's:\", missing_names)\n",
    "print(null_name_indices)"
   ]
  },
  {
   "cell_type": "code",
   "execution_count": 82,
   "metadata": {},
   "outputs": [],
   "source": [
    "merged_data.to_csv('data_preprocessed/merged_data.csv', index=False)"
   ]
  },
  {
   "cell_type": "markdown",
   "metadata": {},
   "source": [
    "Dropping columns where name is null"
   ]
  },
  {
   "cell_type": "code",
   "execution_count": 83,
   "metadata": {},
   "outputs": [],
   "source": [
    "# 'name' of companies that did not exist in companies.csv, but did in job_postings.csv, are null\n",
    "merged_data.dropna(subset=['name'], inplace=True)"
   ]
  },
  {
   "cell_type": "markdown",
   "metadata": {},
   "source": [
    "Handling missing values of 'skill_name' column"
   ]
  },
  {
   "cell_type": "code",
   "execution_count": 84,
   "metadata": {},
   "outputs": [],
   "source": [
    "# Handling missing values of 'skill_name' column\n",
    "col_skill_fill_other = ['skill_name']\n",
    "for col in col_skill_fill_other:\n",
    "    merged_data[col].fillna(\"Other\", inplace=True)"
   ]
  },
  {
   "cell_type": "markdown",
   "metadata": {},
   "source": [
    "Handling missing values of 'formatted_experience_level' column"
   ]
  },
  {
   "cell_type": "code",
   "execution_count": 85,
   "metadata": {},
   "outputs": [],
   "source": [
    "# Categorical columns with missing values are filled with \"Not Specified\"\n",
    "col_experience_fill_not_specified = ['formatted_experience_level']\n",
    "for col in col_experience_fill_not_specified:\n",
    "    merged_data[col].fillna(\"Not Specified\", inplace=True)\n"
   ]
  },
  {
   "cell_type": "markdown",
   "metadata": {},
   "source": [
    "Check for remaining missing values"
   ]
  },
  {
   "cell_type": "code",
   "execution_count": 86,
   "metadata": {},
   "outputs": [
    {
     "data": {
      "text/plain": [
       "Series([], dtype: int64)"
      ]
     },
     "execution_count": 86,
     "metadata": {},
     "output_type": "execute_result"
    }
   ],
   "source": [
    "remaining_missing = merged_data.isnull().sum()\n",
    "remaining_missing_cols = remaining_missing[remaining_missing > 0].sort_values(ascending=False)\n",
    "remaining_missing_cols"
   ]
  },
  {
   "cell_type": "markdown",
   "metadata": {},
   "source": [
    "#### Categorizing experience level"
   ]
  },
  {
   "cell_type": "code",
   "execution_count": 87,
   "metadata": {},
   "outputs": [
    {
     "name": "stdout",
     "output_type": "stream",
     "text": [
      "Entry level\n",
      "Not Specified\n",
      "Mid-Senior level\n",
      "Director\n",
      "Associate\n",
      "Executive\n",
      "Internship\n"
     ]
    }
   ],
   "source": [
    "# Data Transformation\n",
    "experience_levels = merged_data['formatted_experience_level'].unique()\n",
    "\n",
    "for value in experience_levels:\n",
    "    print(value)\n"
   ]
  },
  {
   "cell_type": "markdown",
   "metadata": {},
   "source": [
    "Mapping experience to their numeric new values"
   ]
  },
  {
   "cell_type": "code",
   "execution_count": 88,
   "metadata": {},
   "outputs": [],
   "source": [
    "experience_mapping = {\n",
    "    'Internship': 1,\n",
    "    'Entry level': 2,\n",
    "    'Associate':3, \n",
    "    'Mid-Senior level': 4,\n",
    "    'Director': 5,\n",
    "    'Executive': 6,\n",
    "    'Not Specified': 7\n",
    "}\n",
    "\n",
    "merged_data['formatted_experience_level'] = merged_data['formatted_experience_level'].map(experience_mapping)"
   ]
  },
  {
   "cell_type": "markdown",
   "metadata": {},
   "source": [
    "#### Cleaning data in 'name' attribute"
   ]
  },
  {
   "cell_type": "code",
   "execution_count": 89,
   "metadata": {},
   "outputs": [],
   "source": [
    "def clean_company_names(name):\n",
    "\n",
    "    # Remove special characters, except spaces and dots\n",
    "    name = re.sub(r'[^a-zA-Z0-9\\w\\s\\.]', '', name)\n",
    "\n",
    "    # Remove extra spaces\n",
    "    name = re.sub(r'\\s+', ' ', name).strip()\n",
    "\n",
    "    # Handle hyphens and apostrophes\n",
    "    name = name.replace('-', ' ')  # Replace hyphens with spaces\n",
    "    name = name.replace('\\'', '')  # Remove apostrophes\n",
    "    name = re.sub(r'\\s+', ' ', name)\n",
    "\n",
    "    return name\n",
    "\n",
    "merged_data['name'] = merged_data['name'].apply(clean_company_names)"
   ]
  },
  {
   "cell_type": "markdown",
   "metadata": {},
   "source": [
    "#### Extract City from 'location' attribute"
   ]
  },
  {
   "cell_type": "code",
   "execution_count": 90,
   "metadata": {},
   "outputs": [
    {
     "data": {
      "text/plain": [
       "(32541, 7)"
      ]
     },
     "execution_count": 90,
     "metadata": {},
     "output_type": "execute_result"
    }
   ],
   "source": [
    "def extract_city(location):\n",
    "    words = location.split()\n",
    "    if len(words) == 1:  # Check if the location has only one word\n",
    "        return None\n",
    "    parts = location.split(', ')\n",
    "    if len(parts) > 1:  # Check if the format is City, State, \n",
    "        return parts[0]\n",
    "    else:\n",
    "        if \"Metropolitan Area\" in location:\n",
    "            return location.split(\" Metropolitan Area\")[0]\n",
    "        elif \"Area\" in location or \"Greater\" in location:\n",
    "            return location\n",
    "        else:\n",
    "            return None\n",
    "\n",
    "# Apply the function to the 'location' column\n",
    "merged_data['location'] = merged_data['location'].apply(extract_city)\n",
    "merged_data.shape"
   ]
  },
  {
   "cell_type": "code",
   "execution_count": 91,
   "metadata": {},
   "outputs": [
    {
     "data": {
      "text/plain": [
       "2366"
      ]
     },
     "execution_count": 91,
     "metadata": {},
     "output_type": "execute_result"
    }
   ],
   "source": [
    "remaining_missing = merged_data['location'].isnull().sum()\n",
    "remaining_missing"
   ]
  },
  {
   "cell_type": "code",
   "execution_count": 92,
   "metadata": {},
   "outputs": [
    {
     "data": {
      "text/plain": [
       "(30175, 7)"
      ]
     },
     "execution_count": 92,
     "metadata": {},
     "output_type": "execute_result"
    }
   ],
   "source": [
    "merged_data = merged_data.dropna(subset=['location'])\n",
    "merged_data.shape"
   ]
  },
  {
   "cell_type": "markdown",
   "metadata": {},
   "source": [
    "#### Preprocessed Dataset"
   ]
  },
  {
   "cell_type": "markdown",
   "metadata": {},
   "source": [
    "Shape of the cleaned data"
   ]
  },
  {
   "cell_type": "code",
   "execution_count": 93,
   "metadata": {},
   "outputs": [
    {
     "data": {
      "text/plain": [
       "(30175, 7)"
      ]
     },
     "execution_count": 93,
     "metadata": {},
     "output_type": "execute_result"
    }
   ],
   "source": [
    "merged_data_cleaned = merged_data\n",
    "merged_data_cleaned.shape"
   ]
  },
  {
   "cell_type": "markdown",
   "metadata": {},
   "source": [
    "Rename column names "
   ]
  },
  {
   "cell_type": "code",
   "execution_count": 94,
   "metadata": {},
   "outputs": [],
   "source": [
    "\n",
    "merged_data_cleaned = merged_data_cleaned.rename(columns={'name':'company','skill_name':'required_skill',\n",
    "                                                           'formatted_experience_level':'experience_level'})\n",
    "\n",
    "merged_data_cleaned = merged_data_cleaned.sort_values('job_id', ascending=False)\n",
    "\n"
   ]
  },
  {
   "cell_type": "markdown",
   "metadata": {},
   "source": [
    "Display"
   ]
  },
  {
   "cell_type": "code",
   "execution_count": 95,
   "metadata": {},
   "outputs": [
    {
     "data": {
      "text/html": [
       "<div>\n",
       "<style scoped>\n",
       "    .dataframe tbody tr th:only-of-type {\n",
       "        vertical-align: middle;\n",
       "    }\n",
       "\n",
       "    .dataframe tbody tr th {\n",
       "        vertical-align: top;\n",
       "    }\n",
       "\n",
       "    .dataframe thead th {\n",
       "        text-align: right;\n",
       "    }\n",
       "</style>\n",
       "<table border=\"1\" class=\"dataframe\">\n",
       "  <thead>\n",
       "    <tr style=\"text-align: right;\">\n",
       "      <th></th>\n",
       "      <th>job_id</th>\n",
       "      <th>company_id</th>\n",
       "      <th>company</th>\n",
       "      <th>location</th>\n",
       "      <th>country</th>\n",
       "      <th>required_skill</th>\n",
       "      <th>experience_level</th>\n",
       "    </tr>\n",
       "  </thead>\n",
       "  <tbody>\n",
       "    <tr>\n",
       "      <th>0</th>\n",
       "      <td>3757940104</td>\n",
       "      <td>553718</td>\n",
       "      <td>HearingLife</td>\n",
       "      <td>Little River</td>\n",
       "      <td>US</td>\n",
       "      <td>Other</td>\n",
       "      <td>2</td>\n",
       "    </tr>\n",
       "    <tr>\n",
       "      <th>1</th>\n",
       "      <td>3757940025</td>\n",
       "      <td>2192142</td>\n",
       "      <td>Metalcraft of Mayville Inc.</td>\n",
       "      <td>Beaver Dam</td>\n",
       "      <td>US</td>\n",
       "      <td>Management, Manufacturing</td>\n",
       "      <td>7</td>\n",
       "    </tr>\n",
       "    <tr>\n",
       "      <th>2</th>\n",
       "      <td>3757938019</td>\n",
       "      <td>474443</td>\n",
       "      <td>U.S. Tsubaki Power Transmission LLC</td>\n",
       "      <td>Bessemer</td>\n",
       "      <td>US</td>\n",
       "      <td>Engineering</td>\n",
       "      <td>7</td>\n",
       "    </tr>\n",
       "    <tr>\n",
       "      <th>3</th>\n",
       "      <td>3757938018</td>\n",
       "      <td>18213359</td>\n",
       "      <td>Episcopal Communities Services</td>\n",
       "      <td>Aliso Viejo</td>\n",
       "      <td>US</td>\n",
       "      <td>Management, Manufacturing</td>\n",
       "      <td>2</td>\n",
       "    </tr>\n",
       "    <tr>\n",
       "      <th>6</th>\n",
       "      <td>3757937004</td>\n",
       "      <td>10515052</td>\n",
       "      <td>Boyd Group Services Inc.</td>\n",
       "      <td>Daytona Beach</td>\n",
       "      <td>CA</td>\n",
       "      <td>Management, Manufacturing</td>\n",
       "      <td>2</td>\n",
       "    </tr>\n",
       "    <tr>\n",
       "      <th>...</th>\n",
       "      <td>...</td>\n",
       "      <td>...</td>\n",
       "      <td>...</td>\n",
       "      <td>...</td>\n",
       "      <td>...</td>\n",
       "      <td>...</td>\n",
       "      <td>...</td>\n",
       "    </tr>\n",
       "    <tr>\n",
       "      <th>33238</th>\n",
       "      <td>381055942</td>\n",
       "      <td>96654609</td>\n",
       "      <td>First Baptist Church Forney</td>\n",
       "      <td>Forney</td>\n",
       "      <td>US</td>\n",
       "      <td>Other</td>\n",
       "      <td>7</td>\n",
       "    </tr>\n",
       "    <tr>\n",
       "      <th>33240</th>\n",
       "      <td>133196985</td>\n",
       "      <td>1089558</td>\n",
       "      <td>Employvision Inc.</td>\n",
       "      <td>New York</td>\n",
       "      <td>US</td>\n",
       "      <td>Accounting/Auditing, Finance</td>\n",
       "      <td>7</td>\n",
       "    </tr>\n",
       "    <tr>\n",
       "      <th>33241</th>\n",
       "      <td>133114754</td>\n",
       "      <td>77766802</td>\n",
       "      <td>CargoLogin.</td>\n",
       "      <td>Santa Clarita</td>\n",
       "      <td>US</td>\n",
       "      <td>Sales, Business Development</td>\n",
       "      <td>7</td>\n",
       "    </tr>\n",
       "    <tr>\n",
       "      <th>33243</th>\n",
       "      <td>102339515</td>\n",
       "      <td>52132271</td>\n",
       "      <td>DryerVentz DuctVentz</td>\n",
       "      <td>Greater Boston</td>\n",
       "      <td>US</td>\n",
       "      <td>Business Development, Sales</td>\n",
       "      <td>7</td>\n",
       "    </tr>\n",
       "    <tr>\n",
       "      <th>33245</th>\n",
       "      <td>3958427</td>\n",
       "      <td>630152</td>\n",
       "      <td>Karen Marie Salon</td>\n",
       "      <td>Chicago</td>\n",
       "      <td>US</td>\n",
       "      <td>Design, Art/Creative, Information Technology</td>\n",
       "      <td>7</td>\n",
       "    </tr>\n",
       "  </tbody>\n",
       "</table>\n",
       "<p>30175 rows × 7 columns</p>\n",
       "</div>"
      ],
      "text/plain": [
       "           job_id  company_id                              company  \\\n",
       "0      3757940104      553718                          HearingLife   \n",
       "1      3757940025     2192142          Metalcraft of Mayville Inc.   \n",
       "2      3757938019      474443  U.S. Tsubaki Power Transmission LLC   \n",
       "3      3757938018    18213359       Episcopal Communities Services   \n",
       "6      3757937004    10515052             Boyd Group Services Inc.   \n",
       "...           ...         ...                                  ...   \n",
       "33238   381055942    96654609          First Baptist Church Forney   \n",
       "33240   133196985     1089558                    Employvision Inc.   \n",
       "33241   133114754    77766802                          CargoLogin.   \n",
       "33243   102339515    52132271                 DryerVentz DuctVentz   \n",
       "33245     3958427      630152                    Karen Marie Salon   \n",
       "\n",
       "             location country                                required_skill  \\\n",
       "0        Little River      US                                         Other   \n",
       "1          Beaver Dam      US                     Management, Manufacturing   \n",
       "2            Bessemer      US                                   Engineering   \n",
       "3         Aliso Viejo      US                     Management, Manufacturing   \n",
       "6       Daytona Beach      CA                     Management, Manufacturing   \n",
       "...               ...     ...                                           ...   \n",
       "33238          Forney      US                                         Other   \n",
       "33240        New York      US                  Accounting/Auditing, Finance   \n",
       "33241   Santa Clarita      US                   Sales, Business Development   \n",
       "33243  Greater Boston      US                   Business Development, Sales   \n",
       "33245         Chicago      US  Design, Art/Creative, Information Technology   \n",
       "\n",
       "       experience_level  \n",
       "0                     2  \n",
       "1                     7  \n",
       "2                     7  \n",
       "3                     2  \n",
       "6                     2  \n",
       "...                 ...  \n",
       "33238                 7  \n",
       "33240                 7  \n",
       "33241                 7  \n",
       "33243                 7  \n",
       "33245                 7  \n",
       "\n",
       "[30175 rows x 7 columns]"
      ]
     },
     "execution_count": 95,
     "metadata": {},
     "output_type": "execute_result"
    }
   ],
   "source": [
    "merged_data_cleaned"
   ]
  },
  {
   "cell_type": "markdown",
   "metadata": {},
   "source": [
    "Save the preprocessed dataset to data_preprocessed.csv"
   ]
  },
  {
   "cell_type": "code",
   "execution_count": 96,
   "metadata": {},
   "outputs": [],
   "source": [
    "merged_data_cleaned.to_csv('data_preprocessed/job_postings.csv', index=False)"
   ]
  },
  {
   "cell_type": "markdown",
   "metadata": {},
   "source": [
    "### Detecting Outliers"
   ]
  },
  {
   "cell_type": "markdown",
   "metadata": {},
   "source": [
    "Checking for outliers in Experience Level"
   ]
  },
  {
   "cell_type": "code",
   "execution_count": 97,
   "metadata": {},
   "outputs": [
    {
     "name": "stdout",
     "output_type": "stream",
     "text": [
      "Outliers identified by Z-Score method:\n",
      "Empty DataFrame\n",
      "Columns: [job_id, company_id, company, location, country, required_skill, experience_level, Z_Score]\n",
      "Index: []\n"
     ]
    }
   ],
   "source": [
    "merged_data_cleaned['Z_Score'] = np.abs(stats.zscore(merged_data_cleaned['experience_level'], nan_policy='omit'))\n",
    "threshold = 3\n",
    "outliers_z = merged_data_cleaned[merged_data_cleaned['Z_Score'] > threshold]\n",
    "print(\"Outliers identified by Z-Score method:\")\n",
    "print(outliers_z.head())"
   ]
  },
  {
   "cell_type": "code",
   "execution_count": 98,
   "metadata": {},
   "outputs": [
    {
     "data": {
      "image/png": "[encoded data removed]",
      "text/plain": [
       "<Figure size 1200x600 with 1 Axes>"
      ]
     },
     "metadata": {},
     "output_type": "display_data"
    }
   ],
   "source": [
    "plt.figure(figsize=(12, 6))\n",
    "plt.scatter(merged_data_cleaned.index, merged_data_cleaned['experience_level'], color='blue', label='Experience Level')\n",
    "\n",
    "# Scatter plot for outliers\n",
    "plt.scatter(outliers_z.index, outliers_z['experience_level'], color='red', label='Z-scores Outliers')\n",
    "plt.title(\"Scatter Plot of Experience Level\")\n",
    "plt.xlabel(\"Index\")\n",
    "plt.ylabel(\"Experience Level\")\n",
    "plt.legend()\n",
    "plt.show()"
   ]
  },
  {
   "cell_type": "code",
   "execution_count": 107,
   "metadata": {},
   "outputs": [
    {
     "data": {
      "text/plain": [
       "array(['US', 'CA', 'FR', 'GB', '0', 'NL', 'DK', 'LI', 'JP', 'CH', 'BE',\n",
       "       'SE', 'IN', 'AU', 'CN', 'DE', 'ES', 'KR', 'MT', 'IE', 'IL', 'OO',\n",
       "       'IT', 'LU', 'EE', 'AT', 'BM', 'FI', 'ID', 'AE', 'AZ', 'IS', 'TW',\n",
       "       'MX', 'SG', 'NO', 'HK', 'NZ', 'RU', 'BR', 'KE', 'SA', 'TR', 'GE',\n",
       "       'HU', 'PR', 'UY', 'CO', 'CZ', 'AR', 'PH', 'MD'], dtype=object)"
      ]
     },
     "execution_count": 107,
     "metadata": {},
     "output_type": "execute_result"
    }
   ],
   "source": [
    "company_country = merged_data_cleaned['country'].unique()\n",
    "company_country\n"
   ]
  },
  {
   "cell_type": "code",
   "execution_count": 111,
   "metadata": {},
   "outputs": [
    {
     "data": {
      "image/png": "[encoded data removed]",
      "text/plain": [
       "<Figure size 3000x500 with 1 Axes>"
      ]
     },
     "metadata": {},
     "output_type": "display_data"
    },
    {
     "data": {
      "image/png": "[encoded data removed]",
      "text/plain": [
       "<Figure size 3000x500 with 1 Axes>"
      ]
     },
     "metadata": {},
     "output_type": "display_data"
    },
    {
     "name": "stdout",
     "output_type": "stream",
     "text": [
      "DataFrame after removing anomaly:\n",
      "           job_id  company_id                              company  \\\n",
      "0      3757940104      553718                          HearingLife   \n",
      "1      3757940025     2192142          Metalcraft of Mayville Inc.   \n",
      "2      3757938019      474443  U.S. Tsubaki Power Transmission LLC   \n",
      "3      3757938018    18213359       Episcopal Communities Services   \n",
      "6      3757937004    10515052             Boyd Group Services Inc.   \n",
      "...           ...         ...                                  ...   \n",
      "33238   381055942    96654609          First Baptist Church Forney   \n",
      "33240   133196985     1089558                    Employvision Inc.   \n",
      "33241   133114754    77766802                          CargoLogin.   \n",
      "33243   102339515    52132271                 DryerVentz DuctVentz   \n",
      "33245     3958427      630152                    Karen Marie Salon   \n",
      "\n",
      "             location country                                required_skill  \\\n",
      "0        Little River      US                                         Other   \n",
      "1          Beaver Dam      US                     Management, Manufacturing   \n",
      "2            Bessemer      US                                   Engineering   \n",
      "3         Aliso Viejo      US                     Management, Manufacturing   \n",
      "6       Daytona Beach      CA                     Management, Manufacturing   \n",
      "...               ...     ...                                           ...   \n",
      "33238          Forney      US                                         Other   \n",
      "33240        New York      US                  Accounting/Auditing, Finance   \n",
      "33241   Santa Clarita      US                   Sales, Business Development   \n",
      "33243  Greater Boston      US                   Business Development, Sales   \n",
      "33245         Chicago      US  Design, Art/Creative, Information Technology   \n",
      "\n",
      "       experience_level   Z_Score  country_length  \n",
      "0                     2  1.158713               2  \n",
      "1                     7  1.490970               2  \n",
      "2                     7  1.490970               2  \n",
      "3                     2  1.158713               2  \n",
      "6                     2  1.158713               2  \n",
      "...                 ...       ...             ...  \n",
      "33238                 7  1.490970               2  \n",
      "33240                 7  1.490970               2  \n",
      "33241                 7  1.490970               2  \n",
      "33243                 7  1.490970               2  \n",
      "33245                 7  1.490970               2  \n",
      "\n",
      "[29624 rows x 9 columns]\n"
     ]
    }
   ],
   "source": [
    "import pandas as pd\n",
    "import matplotlib.pyplot as plt\n",
    "\n",
    "\n",
    "# Visualize data before removing anomaly\n",
    "plt.figure(figsize=(30, 5))\n",
    "plt.hist(merged_data_cleaned['country'], bins=len(merged_data_cleaned['country'].unique()))\n",
    "plt.title('Before Removing Anomaly')\n",
    "plt.xlabel('Country')\n",
    "plt.ylabel('Frequency')\n",
    "plt.show()\n",
    "\n",
    "# Remove anomaly where the country is '0'\n",
    "cleaned_df = merged_data_cleaned[merged_data_cleaned['country'] != '0']\n",
    "\n",
    "# Visualize data after removing anomaly\n",
    "plt.figure(figsize=(30, 5))\n",
    "plt.hist(cleaned_df['country'], bins=len(cleaned_df['country'].unique()))\n",
    "plt.title('After Removing Anomaly')\n",
    "plt.xlabel('Country')\n",
    "plt.ylabel('Frequency')\n",
    "plt.show()\n",
    "\n",
    "# Display the cleaned DataFrame\n",
    "print(\"DataFrame after removing anomaly:\")\n",
    "print(cleaned_df)"
   ]
  },
  {
   "cell_type": "code",
   "execution_count": 113,
   "metadata": {},
   "outputs": [
    {
     "name": "stdout",
     "output_type": "stream",
     "text": [
      "Number of rows with value '5' in the 'country' column: 551\n"
     ]
    }
   ],
   "source": [
    "count_value_5 = (merged_data_cleaned['country'] == '0').sum()\n",
    "\n",
    "print(\"Number of rows with value '5' in the 'country' column:\", count_value_5)"
   ]
  },
  {
   "cell_type": "code",
   "execution_count": 115,
   "metadata": {},
   "outputs": [
    {
     "data": {
      "image/png": "[encoded data removed]",
      "text/plain": [
       "<Figure size 3000x500 with 1 Axes>"
      ]
     },
     "metadata": {},
     "output_type": "display_data"
    },
    {
     "data": {
      "image/png": "[encoded data removed]",
      "text/plain": [
       "<Figure size 3000x500 with 1 Axes>"
      ]
     },
     "metadata": {},
     "output_type": "display_data"
    },
    {
     "name": "stdout",
     "output_type": "stream",
     "text": [
      "DataFrame after removing anomalies:\n",
      "           job_id  company_id                              company  \\\n",
      "0      3757940104      553718                          HearingLife   \n",
      "1      3757940025     2192142          Metalcraft of Mayville Inc.   \n",
      "2      3757938019      474443  U.S. Tsubaki Power Transmission LLC   \n",
      "3      3757938018    18213359       Episcopal Communities Services   \n",
      "6      3757937004    10515052             Boyd Group Services Inc.   \n",
      "...           ...         ...                                  ...   \n",
      "33238   381055942    96654609          First Baptist Church Forney   \n",
      "33240   133196985     1089558                    Employvision Inc.   \n",
      "33241   133114754    77766802                          CargoLogin.   \n",
      "33243   102339515    52132271                 DryerVentz DuctVentz   \n",
      "33245     3958427      630152                    Karen Marie Salon   \n",
      "\n",
      "             location country                                required_skill  \\\n",
      "0        Little River      US                                         Other   \n",
      "1          Beaver Dam      US                     Management, Manufacturing   \n",
      "2            Bessemer      US                                   Engineering   \n",
      "3         Aliso Viejo      US                     Management, Manufacturing   \n",
      "6       Daytona Beach      CA                     Management, Manufacturing   \n",
      "...               ...     ...                                           ...   \n",
      "33238          Forney      US                                         Other   \n",
      "33240        New York      US                  Accounting/Auditing, Finance   \n",
      "33241   Santa Clarita      US                   Sales, Business Development   \n",
      "33243  Greater Boston      US                   Business Development, Sales   \n",
      "33245         Chicago      US  Design, Art/Creative, Information Technology   \n",
      "\n",
      "       experience_level   Z_Score  country_length  \n",
      "0                     2  1.158713               2  \n",
      "1                     7  1.490970               2  \n",
      "2                     7  1.490970               2  \n",
      "3                     2  1.158713               2  \n",
      "6                     2  1.158713               2  \n",
      "...                 ...       ...             ...  \n",
      "33238                 7  1.490970               2  \n",
      "33240                 7  1.490970               2  \n",
      "33241                 7  1.490970               2  \n",
      "33243                 7  1.490970               2  \n",
      "33245                 7  1.490970               2  \n",
      "\n",
      "[29624 rows x 9 columns]\n"
     ]
    }
   ],
   "source": [
    "import pandas as pd\n",
    "import matplotlib.pyplot as plt\n",
    "\n",
    "# Function to generate valid_countries dynamically based on length criteria\n",
    "def generate_valid_countries(merged_data_cleaned):\n",
    "    return list(merged_data_cleaned[merged_data_cleaned['country'].apply(len) == 2]['country'].unique())\n",
    "\n",
    "# Generate valid_countries list dynamically\n",
    "valid_countries = generate_valid_countries(merged_data_cleaned)\n",
    "\n",
    "# Function to identify anomalies based on domain-specific knowledge\n",
    "def remove_country_anomalies(merged_data_cleaned, valid_countries):\n",
    "    return merged_data_cleaned[merged_data_cleaned['country'].isin(valid_countries)]\n",
    "\n",
    "# Visualize data before removing anomalies\n",
    "plt.figure(figsize=(30, 5))\n",
    "plt.hist(merged_data_cleaned['country'], bins=len(merged_data_cleaned['country'].unique()))\n",
    "plt.title('Before Removing Anomaly')\n",
    "plt.xlabel('Country')\n",
    "plt.ylabel('Frequency')\n",
    "plt.show()\n",
    "\n",
    "# Detect and remove anomalies based on domain-specific knowledge\n",
    "cleaned_df = remove_country_anomalies(merged_data_cleaned, valid_countries)\n",
    "\n",
    "# Visualize data after removing anomalies\n",
    "plt.figure(figsize=(30, 5))\n",
    "plt.hist(cleaned_df['country'], bins=len(cleaned_df['country'].unique()))\n",
    "plt.title('After Removing Anomaly')\n",
    "plt.xlabel('Country')\n",
    "plt.ylabel('Frequency')\n",
    "plt.show()\n",
    "\n",
    "# Display the cleaned DataFrame\n",
    "print(\"DataFrame after removing anomalies:\")\n",
    "print(cleaned_df)"
   ]
  },
  {
   "cell_type": "code",
   "execution_count": 44,
   "metadata": {},
   "outputs": [],
   "source": [
    "country_mapping = {\n",
    "    'US':1,'CA':2,'FR':3,'GB':4,'0':5, 'NL':6, 'DK':7, 'LI':8, 'JP':9, 'CH':10, 'BE':11,\n",
    "    'SE':12, 'IN':13, 'AU':14, 'CN':15, 'DE':16, 'ES':17, 'KR':18, 'MT':19, 'IE':20, 'IL':21, 'OO':22,\n",
    "    'IT':23, 'LU':24, 'EE':25, 'AT':26, 'BM':28, 'FI':29, 'ID':29, 'AE':30, 'AZ':31, 'IS':32, 'TW':33,\n",
    "    'MX':34, 'SG':35, 'NO':36, 'HK':37, 'NZ':38, 'RU':39, 'BR':40, 'KE':41, 'SA':42, 'TR':43, 'GE':45,\n",
    "    'HU':46, 'PR':47, 'UY':48, 'CO':49, 'CZ':50, 'AR':51, 'PH':52, 'MD':53\n",
    "\n",
    "}\n",
    "\n",
    "merged_data_cleaned['country'] = merged_data_cleaned['country'].map(country_mapping)"
   ]
  },
  {
   "cell_type": "code",
   "execution_count": 45,
   "metadata": {},
   "outputs": [
    {
     "data": {
      "text/html": [
       "<div>\n",
       "<style scoped>\n",
       "    .dataframe tbody tr th:only-of-type {\n",
       "        vertical-align: middle;\n",
       "    }\n",
       "\n",
       "    .dataframe tbody tr th {\n",
       "        vertical-align: top;\n",
       "    }\n",
       "\n",
       "    .dataframe thead th {\n",
       "        text-align: right;\n",
       "    }\n",
       "</style>\n",
       "<table border=\"1\" class=\"dataframe\">\n",
       "  <thead>\n",
       "    <tr style=\"text-align: right;\">\n",
       "      <th></th>\n",
       "      <th>job_id</th>\n",
       "      <th>company_id</th>\n",
       "      <th>name</th>\n",
       "      <th>location</th>\n",
       "      <th>country</th>\n",
       "      <th>skill_name</th>\n",
       "      <th>formatted_experience_level</th>\n",
       "    </tr>\n",
       "  </thead>\n",
       "  <tbody>\n",
       "    <tr>\n",
       "      <th>0</th>\n",
       "      <td>3757940104</td>\n",
       "      <td>553718</td>\n",
       "      <td>HearingLife</td>\n",
       "      <td>Little River</td>\n",
       "      <td>US</td>\n",
       "      <td>Other</td>\n",
       "      <td>2</td>\n",
       "    </tr>\n",
       "    <tr>\n",
       "      <th>1</th>\n",
       "      <td>3757940025</td>\n",
       "      <td>2192142</td>\n",
       "      <td>Metalcraft of Mayville Inc.</td>\n",
       "      <td>Beaver Dam</td>\n",
       "      <td>US</td>\n",
       "      <td>Management, Manufacturing</td>\n",
       "      <td>7</td>\n",
       "    </tr>\n",
       "    <tr>\n",
       "      <th>2</th>\n",
       "      <td>3757938019</td>\n",
       "      <td>474443</td>\n",
       "      <td>U.S. Tsubaki Power Transmission LLC</td>\n",
       "      <td>Bessemer</td>\n",
       "      <td>US</td>\n",
       "      <td>Engineering</td>\n",
       "      <td>7</td>\n",
       "    </tr>\n",
       "    <tr>\n",
       "      <th>3</th>\n",
       "      <td>3757938018</td>\n",
       "      <td>18213359</td>\n",
       "      <td>Episcopal Communities Services</td>\n",
       "      <td>Aliso Viejo</td>\n",
       "      <td>US</td>\n",
       "      <td>Management, Manufacturing</td>\n",
       "      <td>2</td>\n",
       "    </tr>\n",
       "    <tr>\n",
       "      <th>6</th>\n",
       "      <td>3757937004</td>\n",
       "      <td>10515052</td>\n",
       "      <td>Boyd Group Services Inc.</td>\n",
       "      <td>Daytona Beach</td>\n",
       "      <td>CA</td>\n",
       "      <td>Management, Manufacturing</td>\n",
       "      <td>2</td>\n",
       "    </tr>\n",
       "    <tr>\n",
       "      <th>...</th>\n",
       "      <td>...</td>\n",
       "      <td>...</td>\n",
       "      <td>...</td>\n",
       "      <td>...</td>\n",
       "      <td>...</td>\n",
       "      <td>...</td>\n",
       "      <td>...</td>\n",
       "    </tr>\n",
       "    <tr>\n",
       "      <th>32587</th>\n",
       "      <td>381055942</td>\n",
       "      <td>96654609</td>\n",
       "      <td>First Baptist Church Forney</td>\n",
       "      <td>Forney</td>\n",
       "      <td>US</td>\n",
       "      <td>Other</td>\n",
       "      <td>7</td>\n",
       "    </tr>\n",
       "    <tr>\n",
       "      <th>32588</th>\n",
       "      <td>133196985</td>\n",
       "      <td>1089558</td>\n",
       "      <td>Employvision Inc.</td>\n",
       "      <td>New York</td>\n",
       "      <td>US</td>\n",
       "      <td>Accounting/Auditing, Finance</td>\n",
       "      <td>7</td>\n",
       "    </tr>\n",
       "    <tr>\n",
       "      <th>32589</th>\n",
       "      <td>133114754</td>\n",
       "      <td>77766802</td>\n",
       "      <td>CargoLogin.</td>\n",
       "      <td>Santa Clarita</td>\n",
       "      <td>US</td>\n",
       "      <td>Sales, Business Development</td>\n",
       "      <td>7</td>\n",
       "    </tr>\n",
       "    <tr>\n",
       "      <th>32590</th>\n",
       "      <td>102339515</td>\n",
       "      <td>52132271</td>\n",
       "      <td>DryerVentz DuctVentz</td>\n",
       "      <td>Greater Boston</td>\n",
       "      <td>US</td>\n",
       "      <td>Business Development, Sales</td>\n",
       "      <td>7</td>\n",
       "    </tr>\n",
       "    <tr>\n",
       "      <th>32591</th>\n",
       "      <td>3958427</td>\n",
       "      <td>630152</td>\n",
       "      <td>Karen Marie Salon</td>\n",
       "      <td>Chicago</td>\n",
       "      <td>US</td>\n",
       "      <td>Design, Art/Creative, Information Technology</td>\n",
       "      <td>7</td>\n",
       "    </tr>\n",
       "  </tbody>\n",
       "</table>\n",
       "<p>30175 rows × 7 columns</p>\n",
       "</div>"
      ],
      "text/plain": [
       "           job_id  company_id                                 name  \\\n",
       "0      3757940104      553718                          HearingLife   \n",
       "1      3757940025     2192142          Metalcraft of Mayville Inc.   \n",
       "2      3757938019      474443  U.S. Tsubaki Power Transmission LLC   \n",
       "3      3757938018    18213359       Episcopal Communities Services   \n",
       "6      3757937004    10515052             Boyd Group Services Inc.   \n",
       "...           ...         ...                                  ...   \n",
       "32587   381055942    96654609          First Baptist Church Forney   \n",
       "32588   133196985     1089558                    Employvision Inc.   \n",
       "32589   133114754    77766802                          CargoLogin.   \n",
       "32590   102339515    52132271                 DryerVentz DuctVentz   \n",
       "32591     3958427      630152                    Karen Marie Salon   \n",
       "\n",
       "             location country                                    skill_name  \\\n",
       "0        Little River      US                                         Other   \n",
       "1          Beaver Dam      US                     Management, Manufacturing   \n",
       "2            Bessemer      US                                   Engineering   \n",
       "3         Aliso Viejo      US                     Management, Manufacturing   \n",
       "6       Daytona Beach      CA                     Management, Manufacturing   \n",
       "...               ...     ...                                           ...   \n",
       "32587          Forney      US                                         Other   \n",
       "32588        New York      US                  Accounting/Auditing, Finance   \n",
       "32589   Santa Clarita      US                   Sales, Business Development   \n",
       "32590  Greater Boston      US                   Business Development, Sales   \n",
       "32591         Chicago      US  Design, Art/Creative, Information Technology   \n",
       "\n",
       "       formatted_experience_level  \n",
       "0                               2  \n",
       "1                               7  \n",
       "2                               7  \n",
       "3                               2  \n",
       "6                               2  \n",
       "...                           ...  \n",
       "32587                           7  \n",
       "32588                           7  \n",
       "32589                           7  \n",
       "32590                           7  \n",
       "32591                           7  \n",
       "\n",
       "[30175 rows x 7 columns]"
      ]
     },
     "execution_count": 45,
     "metadata": {},
     "output_type": "execute_result"
    }
   ],
   "source": [
    "merged_data"
   ]
  },
  {
   "cell_type": "markdown",
   "metadata": {},
   "source": [
    "Checking for Outliers in Country Column"
   ]
  },
  {
   "cell_type": "code",
   "execution_count": 46,
   "metadata": {},
   "outputs": [
    {
     "name": "stdout",
     "output_type": "stream",
     "text": [
      "Outliers identified by Z-Score method:\n",
      "          job_id  company_id company     location  country  \\\n",
      "828   3757775332        4114  Solvay   Long Beach       11   \n",
      "881   3757770838        4114  Solvay   Long Beach       11   \n",
      "1007  3757758008        5328      HM  West Covina       12   \n",
      "1023  3757757090        5328      HM   Costa Mesa       12   \n",
      "1024  3757757089        5328      HM      Houston       12   \n",
      "\n",
      "                              required_skill  experience_level   Z_Score  \n",
      "828   Production, Manufacturing, Engineering                 4  3.046766  \n",
      "881   Production, Manufacturing, Engineering                 4  3.046766  \n",
      "1007                                   Sales                 2  3.372559  \n",
      "1023                                   Sales                 7  3.372559  \n",
      "1024                                   Sales                 2  3.372559  \n"
     ]
    }
   ],
   "source": [
    "merged_data_cleaned['Z_Score'] = np.abs(stats.zscore(merged_data_cleaned['country'], nan_policy='omit'))\n",
    "threshold = 3\n",
    "outliers_z = merged_data_cleaned[merged_data_cleaned['Z_Score'] > threshold]\n",
    "print(\"Outliers identified by Z-Score method:\")\n",
    "print(outliers_z.head())"
   ]
  },
  {
   "cell_type": "code",
   "execution_count": 47,
   "metadata": {},
   "outputs": [
    {
     "data": {
      "image/png": "[encoded data removed]",
      "text/plain": [
       "<Figure size 1200x600 with 1 Axes>"
      ]
     },
     "metadata": {},
     "output_type": "display_data"
    }
   ],
   "source": [
    "plt.figure(figsize=(12, 6))\n",
    "plt.scatter(merged_data_cleaned.index, merged_data_cleaned['country'], color='blue', label='country')\n",
    "\n",
    "# Scatter plot for outliers\n",
    "plt.scatter(outliers_z.index, outliers_z['country'], color='red', label='Z-scores Outliers')\n",
    "plt.title(\"Scatter Plot of country\")\n",
    "plt.xlabel(\"Index\")\n",
    "plt.ylabel(\"country\")\n",
    "plt.legend()\n",
    "plt.show()"
   ]
  },
  {
   "cell_type": "code",
   "execution_count": 48,
   "metadata": {},
   "outputs": [
    {
     "name": "stdout",
     "output_type": "stream",
     "text": [
      "Outliers identified by distribution rate:\n",
      "country\n",
      "2     347\n",
      "13    166\n",
      "16    158\n",
      "10    130\n",
      "3     120\n",
      "20     59\n",
      "6      54\n",
      "7      51\n",
      "14     48\n",
      "12     47\n",
      "9      40\n",
      "22     35\n",
      "15     23\n",
      "23     22\n",
      "17     19\n",
      "11     19\n",
      "29     16\n",
      "42     11\n",
      "33     10\n",
      "21      9\n",
      "18      9\n",
      "28      8\n",
      "36      8\n",
      "26      8\n",
      "35      7\n",
      "30      6\n",
      "8       5\n",
      "37      4\n",
      "24      4\n",
      "34      4\n",
      "31      3\n",
      "32      3\n",
      "47      2\n",
      "38      2\n",
      "40      2\n",
      "49      1\n",
      "50      1\n",
      "25      1\n",
      "51      1\n",
      "52      1\n",
      "48      1\n",
      "41      1\n",
      "46      1\n",
      "45      1\n",
      "43      1\n",
      "39      1\n",
      "19      1\n",
      "53      1\n",
      "Name: count, dtype: int64\n"
     ]
    }
   ],
   "source": [
    "country_counts = merged_data_cleaned['country'].value_counts()\n",
    "\n",
    "# Define the percentile threshold, e.g., 95th percentile\n",
    "threshold_percentile = 95\n",
    "\n",
    "# Calculate the threshold based on the percentile\n",
    "threshold_value = country_counts.quantile(q=threshold_percentile / 100)\n",
    "\n",
    "# Identify outliers based on the threshold\n",
    "outliers_dist = country_counts[country_counts < threshold_value]\n",
    "\n",
    "print(\"Outliers identified by distribution rate:\")\n",
    "print(outliers_dist)"
   ]
  },
  {
   "cell_type": "code",
   "execution_count": 49,
   "metadata": {},
   "outputs": [
    {
     "data": {
      "image/png": "[encoded data removed]",
      "text/plain": [
       "<Figure size 1000x600 with 1 Axes>"
      ]
     },
     "metadata": {},
     "output_type": "display_data"
    }
   ],
   "source": [
    "plt.figure(figsize=(10, 6))\n",
    "outliers_dist.plot(kind='bar')\n",
    "plt.title('Outliers Based on Distribution Rate')\n",
    "plt.xlabel('Country')\n",
    "plt.ylabel('Count')\n",
    "plt.show()"
   ]
  },
  {
   "cell_type": "code",
   "execution_count": 50,
   "metadata": {},
   "outputs": [
    {
     "data": {
      "image/png": "[encoded data removed]",
      "text/plain": [
       "<Figure size 1000x600 with 1 Axes>"
      ]
     },
     "metadata": {},
     "output_type": "display_data"
    }
   ],
   "source": [
    "non_outliers = country_counts[country_counts >= threshold_value]\n",
    "\n",
    "plt.figure(figsize=(10, 6))\n",
    "non_outliers.plot(kind='bar', color='blue', label='Non-Outliers')\n",
    "outliers_dist.plot(kind='bar', color='red', label='Outliers')\n",
    "plt.title('Outliers vs Non-Outliers Based on Distribution Rate')\n",
    "plt.xlabel('Country')\n",
    "plt.ylabel('Count')\n",
    "plt.legend()\n",
    "plt.show()"
   ]
  },
  {
   "cell_type": "code",
   "execution_count": 51,
   "metadata": {},
   "outputs": [
    {
     "data": {
      "text/plain": [
       "Text(0, 0.5, 'Frequency')"
      ]
     },
     "execution_count": 51,
     "metadata": {},
     "output_type": "execute_result"
    },
    {
     "data": {
      "image/png": "[encoded data removed]",
      "text/plain": [
       "<Figure size 3000x500 with 1 Axes>"
      ]
     },
     "metadata": {},
     "output_type": "display_data"
    }
   ],
   "source": [
    "plt.figure(figsize=(30, 5))\n",
    "plt.subplot(1, 2, 1)\n",
    "merged_data_cleaned['country'].value_counts().plot(kind='bar', color='skyblue')\n",
    "plt.title('Before Removing Anomaly')\n",
    "plt.xlabel('Country')\n",
    "plt.ylabel('Frequency')"
   ]
  },
  {
   "cell_type": "code",
   "execution_count": 52,
   "metadata": {},
   "outputs": [],
   "source": [
    "from scipy.stats import zscore"
   ]
  },
  {
   "cell_type": "code",
   "execution_count": 53,
   "metadata": {},
   "outputs": [
    {
     "data": {
      "image/png": "[encoded data removed]",
      "text/plain": [
       "<Figure size 800x500 with 1 Axes>"
      ]
     },
     "metadata": {},
     "output_type": "display_data"
    },
    {
     "name": "stdout",
     "output_type": "stream",
     "text": [
      "Anomalies detected at indices: [828, 881, 1007, 1023, 1024, 1097, 1182, 1282, 1314, 1383, 1451, 1529, 1578, 1603, 1604, 1614, 1619, 1632, 1638, 1649, 1668, 1675, 1745, 1757, 1833, 1839, 1945, 1988, 2066, 2077, 2093, 2105, 2124, 2251, 2252, 2356, 2357, 2365, 2421, 2495, 2534, 2542, 2613, 2632, 2636, 2653, 2677, 2700, 2745, 2748, 2749, 2823, 2878, 2898, 2942, 3092, 3112, 3128, 3331, 3379, 3407, 3514, 3587, 3663, 3683, 3696, 3754, 3788, 3987, 4035, 4080, 4107, 4146, 4163, 4181, 4272, 4302, 4393, 4420, 4445, 4537, 4568, 4573, 5413, 5449, 5490, 5496, 5523, 5753, 5760, 5761, 5771, 5877, 5878, 5935, 5959, 6008, 6035, 6070, 6127, 6144, 6181, 6229, 6264, 6313, 6323, 6362, 6378, 6382, 6436, 6538, 6634, 6890, 7068, 7096, 7104, 7132, 7141, 7196, 7209, 7222, 7258, 7367, 7419, 7420, 7446, 7499, 7564, 7591, 7736, 7741, 7824, 7858, 7860, 7872, 7886, 7912, 7918, 7988, 8004, 8106, 8231, 8266, 8286, 8293, 8505, 8506, 8524, 8549, 8574, 8638, 8678, 8679, 8680, 8682, 8687, 8739, 8740, 8747, 9091, 9100, 9117, 9128, 9129, 9149, 9203, 9221, 9231, 9298, 9318, 9435, 9459, 9486, 9698, 9708, 9744, 9754, 9768, 9772, 9773, 9811, 9813, 9819, 9903, 9914, 9985, 10005, 10054, 10058, 10142, 10206, 10314, 10327, 10330, 10405, 10408, 10418, 10442, 10450, 10572, 10598, 10643, 10737, 10749, 10764, 10770, 10776, 10780, 10824, 10844, 10856, 10857, 10946, 10964, 10965, 10971, 10996, 11002, 11005, 11030, 11145, 11170, 11204, 11222, 11224, 11328, 11329, 11370, 11394, 11397, 11406, 11466, 11481, 11482, 11513, 11537, 11554, 11577, 11594, 11678, 11716, 11735, 11742, 11777, 11844, 11883, 11934, 11956, 11994, 12061, 12158, 12205, 12350, 12351, 12352, 12362, 12437, 12451, 12459, 12529, 12560, 12580, 12583, 12622, 12645, 12682, 12692, 12709, 12723, 12743, 12766, 12769, 12822, 12905, 12933, 12935, 13124, 13147, 13156, 13205, 13328, 13380, 13381, 13405, 13410, 13415, 13480, 13481, 13526, 13799, 13862, 13888, 14321, 14377, 14420, 14452, 14544, 14561, 14608, 14627, 14629, 14652, 14690, 14850, 14929, 15015, 15187, 15204, 15286, 15305, 15400, 15462, 15465, 15505, 15547, 15611, 15624, 15648, 15676, 15685, 15717, 15772, 15776, 15805, 15812, 15814, 15872, 15875, 15977, 16146, 16210, 16238, 16262, 16296, 16330, 16345, 16442, 16448, 16520, 16572, 16637, 16693, 16711, 16716, 16785, 16848, 16851, 16858, 16881, 16907, 16926, 16927, 16963, 17007, 17008, 17127, 17260, 17401, 17412, 17452, 17479, 17550, 17580, 17581, 17633, 17671, 17694, 17723, 17741, 17772, 17789, 17880, 17903, 17948, 17968, 17996, 18035, 18114, 18277, 18336, 18351, 18404, 18454, 18618, 18620, 18671, 18708, 18892, 18948, 18970, 18989, 19004, 19053, 19078, 19138, 19142, 19160, 19163, 19312, 19313, 19332, 19338, 19444, 19459, 19462, 19530, 19556, 19626, 19630, 19706, 19745, 19756, 19788, 19792, 19830, 19836, 19856, 19893, 19942, 19966, 20203, 20217, 20219, 20228, 20250, 20252, 20260, 20266, 20267, 20269, 20270, 20296, 20297, 20315, 20326, 20327, 20338, 20428, 20429, 20455, 20456, 20524, 20531, 20560, 20573, 20599, 20605, 20640, 20646, 20650, 20679, 20689, 20711, 20743, 20758, 20769, 20770, 20796, 20844, 20898, 21256, 21333, 21347, 21399, 21406, 21434, 21435, 21461, 21465, 21471, 21475, 21506, 21507, 21513, 21563, 21603, 21737, 21778, 21807, 21917, 21924, 21957, 21995, 21996, 21997, 22004, 22017, 22072, 22074, 22122, 22164, 22166, 22220, 22240, 22315, 22325, 22342, 22364, 22388, 22389, 22390, 22416, 22434, 22448, 22513, 22635, 22653, 22742, 22799, 22800, 22801, 22805, 22806, 22841, 22850, 22851, 22867, 22880, 22881, 22892, 22893, 22912, 22913, 22914, 22946, 22965, 23085, 23416, 23436, 23452, 23563, 23647, 23648, 23667, 23782, 23881, 23917, 24085, 24121, 24162, 24356, 24489, 24514, 24538, 24767, 24861, 24944, 24954, 24982, 25091, 25092, 25149, 25260, 25274, 25276, 25283, 25309, 25316, 25343, 25422, 25428, 25429, 25444, 25448, 25451, 25462, 25501, 25513, 25515, 25524, 25540, 25546, 25554, 25555, 25581, 25685, 25712, 25748, 25833, 25856, 25885, 25952, 25953, 25971, 25994, 25995, 25997, 25999, 26042, 26043, 26046, 26049, 26101, 26102, 26126, 26148, 26150, 26151, 26173, 26185, 26203, 26215, 26228, 26241, 26277, 26377, 26431, 26467, 26537, 26573, 26576, 26620, 26639, 26642, 26694, 26747, 26749, 26775, 26842, 26872, 26929, 26940, 26956, 27016, 27022, 27083, 27092, 27397, 27503, 27531, 27566, 27648, 27678, 27767, 27797, 28223, 28323, 28404, 28485, 28502, 28550, 28671, 28707, 28748, 28786, 28790, 28833, 28923, 28969, 29068, 29081, 29150, 29151, 29162, 29180, 29280, 29281, 29299, 29300, 29304, 29351, 29398, 29497, 29542, 29549, 29707, 29914, 30020, 30027, 30037, 30068, 30148, 30154, 30261, 30263, 30278, 30287, 30336, 30365, 30366, 30381, 30387, 30475, 30478, 30537, 30544, 30563, 30583, 30600, 30631, 30682, 30694, 30802, 30916, 30938, 30949, 30982, 31021, 31042, 31088, 31101, 31270, 31329, 31331, 31371, 31399, 31463, 31509, 31565, 31568, 31836, 31924, 31926, 31936, 31971, 32002, 32038, 32166, 32258, 32337, 32434, 32460, 32464, 32469, 32563]\n"
     ]
    },
    {
     "data": {
      "image/png": "[encoded data removed]",
      "text/plain": [
       "<Figure size 800x500 with 1 Axes>"
      ]
     },
     "metadata": {},
     "output_type": "display_data"
    },
    {
     "name": "stdout",
     "output_type": "stream",
     "text": [
      "\n",
      "DataFrame after removing anomalies:\n",
      "           job_id  company_id                              company  \\\n",
      "0      3757940104      553718                          HearingLife   \n",
      "1      3757940025     2192142          Metalcraft of Mayville Inc.   \n",
      "2      3757938019      474443  U.S. Tsubaki Power Transmission LLC   \n",
      "3      3757938018    18213359       Episcopal Communities Services   \n",
      "6      3757937004    10515052             Boyd Group Services Inc.   \n",
      "...           ...         ...                                  ...   \n",
      "32587   381055942    96654609          First Baptist Church Forney   \n",
      "32588   133196985     1089558                    Employvision Inc.   \n",
      "32589   133114754    77766802                          CargoLogin.   \n",
      "32590   102339515    52132271                 DryerVentz DuctVentz   \n",
      "32591     3958427      630152                    Karen Marie Salon   \n",
      "\n",
      "             location  country                                required_skill  \\\n",
      "0        Little River        1                                         Other   \n",
      "1          Beaver Dam        1                     Management, Manufacturing   \n",
      "2            Bessemer        1                                   Engineering   \n",
      "3         Aliso Viejo        1                     Management, Manufacturing   \n",
      "6       Daytona Beach        2                     Management, Manufacturing   \n",
      "...               ...      ...                                           ...   \n",
      "32587          Forney        1                                         Other   \n",
      "32588        New York        1                  Accounting/Auditing, Finance   \n",
      "32589   Santa Clarita        1                   Sales, Business Development   \n",
      "32590  Greater Boston        1                   Business Development, Sales   \n",
      "32591         Chicago        1  Design, Art/Creative, Information Technology   \n",
      "\n",
      "       experience_level   Z_Score  country_zscore  \n",
      "0                     2  0.211164       -0.211164  \n",
      "1                     7  0.211164       -0.211164  \n",
      "2                     7  0.211164       -0.211164  \n",
      "3                     2  0.211164       -0.211164  \n",
      "6                     2  0.114629        0.114629  \n",
      "...                 ...       ...             ...  \n",
      "32587                 7  0.211164       -0.211164  \n",
      "32588                 7  0.211164       -0.211164  \n",
      "32589                 7  0.211164       -0.211164  \n",
      "32590                 7  0.211164       -0.211164  \n",
      "32591                 7  0.211164       -0.211164  \n",
      "\n",
      "[29450 rows x 9 columns]\n"
     ]
    }
   ],
   "source": [
    "merged_data_cleaned['country_zscore'] = zscore(merged_data_cleaned['country'], nan_policy='omit')\n",
    "\n",
    "# Define a threshold for anomaly detection (e.g., Z-score threshold of 3)\n",
    "zscore_threshold = 3\n",
    "\n",
    "# Find indices where the Z-score exceeds the threshold (indicating anomalies)\n",
    "anomaly_indices = merged_data_cleaned[abs(merged_data_cleaned['country_zscore']) > zscore_threshold].index.tolist()\n",
    "\n",
    "# Visualize before removing anomalies\n",
    "plt.figure(figsize=(8, 5))\n",
    "merged_data_cleaned['country'].value_counts().plot(kind='bar', color='skyblue')\n",
    "plt.title('Before Removing Anomalies')\n",
    "plt.xlabel('Country')\n",
    "plt.ylabel('Frequency')\n",
    "plt.show()\n",
    "\n",
    "if anomaly_indices:\n",
    "    print(\"Anomalies detected at indices:\", anomaly_indices)\n",
    "    # Remove anomalies\n",
    "    df_cleaned = merged_data_cleaned.drop(index=anomaly_indices)\n",
    "    \n",
    "    # Visualize after removing anomalies\n",
    "    plt.figure(figsize=(8, 5))\n",
    "    df_cleaned['country'].value_counts().plot(kind='bar', color='salmon')\n",
    "    plt.title('After Removing Anomalies')\n",
    "    plt.xlabel('Country')\n",
    "    plt.ylabel('Frequency')\n",
    "    plt.show()\n",
    "    \n",
    "    # Display the cleaned DataFrame\n",
    "    print(\"\\nDataFrame after removing anomalies:\")\n",
    "    print(df_cleaned)\n",
    "else:\n",
    "    print(\"No anomalies detected.\")"
   ]
  },
  {
   "cell_type": "code",
   "execution_count": 54,
   "metadata": {},
   "outputs": [
    {
     "name": "stdout",
     "output_type": "stream",
     "text": [
      "Number of rows with value '5' in the 'country' column: 551\n"
     ]
    }
   ],
   "source": [
    "count_value_5 = (df_cleaned['country'] == 5).sum()\n",
    "\n",
    "print(\"Number of rows with value '5' in the 'country' column:\", count_value_5)"
   ]
  }
 ],
 "metadata": {
  "kernelspec": {
   "display_name": "Python 3",
   "language": "python",
   "name": "python3"
  },
  "language_info": {
   "codemirror_mode": {
    "name": "ipython",
    "version": 3
   },
   "file_extension": ".py",
   "mimetype": "text/x-python",
   "name": "python",
   "nbconvert_exporter": "python",
   "pygments_lexer": "ipython3",
   "version": "3.12.1"
  }
 },
 "nbformat": 4,
 "nbformat_minor": 2
}
